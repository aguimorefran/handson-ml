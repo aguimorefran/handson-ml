{
 "cells": [
  {
   "cell_type": "markdown",
   "metadata": {},
   "source": [
    "# Data Science Salaries 2023"
   ]
  },
  {
   "cell_type": "markdown",
   "metadata": {},
   "source": [
    "## Download the data\n",
    "\n",
    "https://www.kaggle.com/datasets/arnabchaki/data-science-salaries-2023"
   ]
  },
  {
   "cell_type": "code",
   "execution_count": 128,
   "metadata": {},
   "outputs": [],
   "source": [
    "import pandas as pd\n",
    "\n",
    "DATASET_PATH = \"./datasets/salaries/ds_salaries.csv\"\n",
    "\n",
    "salaries = pd.read_csv(DATASET_PATH)"
   ]
  },
  {
   "cell_type": "markdown",
   "metadata": {},
   "source": [
    "## Data structure"
   ]
  },
  {
   "cell_type": "code",
   "execution_count": 129,
   "metadata": {},
   "outputs": [
    {
     "data": {
      "text/html": [
       "<div>\n",
       "<style scoped>\n",
       "    .dataframe tbody tr th:only-of-type {\n",
       "        vertical-align: middle;\n",
       "    }\n",
       "\n",
       "    .dataframe tbody tr th {\n",
       "        vertical-align: top;\n",
       "    }\n",
       "\n",
       "    .dataframe thead th {\n",
       "        text-align: right;\n",
       "    }\n",
       "</style>\n",
       "<table border=\"1\" class=\"dataframe\">\n",
       "  <thead>\n",
       "    <tr style=\"text-align: right;\">\n",
       "      <th></th>\n",
       "      <th>work_year</th>\n",
       "      <th>experience_level</th>\n",
       "      <th>employment_type</th>\n",
       "      <th>job_title</th>\n",
       "      <th>salary</th>\n",
       "      <th>salary_currency</th>\n",
       "      <th>salary_in_usd</th>\n",
       "      <th>employee_residence</th>\n",
       "      <th>remote_ratio</th>\n",
       "      <th>company_location</th>\n",
       "      <th>company_size</th>\n",
       "    </tr>\n",
       "  </thead>\n",
       "  <tbody>\n",
       "    <tr>\n",
       "      <th>0</th>\n",
       "      <td>2023</td>\n",
       "      <td>SE</td>\n",
       "      <td>FT</td>\n",
       "      <td>Principal Data Scientist</td>\n",
       "      <td>80000</td>\n",
       "      <td>EUR</td>\n",
       "      <td>85847</td>\n",
       "      <td>ES</td>\n",
       "      <td>100</td>\n",
       "      <td>ES</td>\n",
       "      <td>L</td>\n",
       "    </tr>\n",
       "    <tr>\n",
       "      <th>1</th>\n",
       "      <td>2023</td>\n",
       "      <td>MI</td>\n",
       "      <td>CT</td>\n",
       "      <td>ML Engineer</td>\n",
       "      <td>30000</td>\n",
       "      <td>USD</td>\n",
       "      <td>30000</td>\n",
       "      <td>US</td>\n",
       "      <td>100</td>\n",
       "      <td>US</td>\n",
       "      <td>S</td>\n",
       "    </tr>\n",
       "    <tr>\n",
       "      <th>2</th>\n",
       "      <td>2023</td>\n",
       "      <td>MI</td>\n",
       "      <td>CT</td>\n",
       "      <td>ML Engineer</td>\n",
       "      <td>25500</td>\n",
       "      <td>USD</td>\n",
       "      <td>25500</td>\n",
       "      <td>US</td>\n",
       "      <td>100</td>\n",
       "      <td>US</td>\n",
       "      <td>S</td>\n",
       "    </tr>\n",
       "    <tr>\n",
       "      <th>3</th>\n",
       "      <td>2023</td>\n",
       "      <td>SE</td>\n",
       "      <td>FT</td>\n",
       "      <td>Data Scientist</td>\n",
       "      <td>175000</td>\n",
       "      <td>USD</td>\n",
       "      <td>175000</td>\n",
       "      <td>CA</td>\n",
       "      <td>100</td>\n",
       "      <td>CA</td>\n",
       "      <td>M</td>\n",
       "    </tr>\n",
       "    <tr>\n",
       "      <th>4</th>\n",
       "      <td>2023</td>\n",
       "      <td>SE</td>\n",
       "      <td>FT</td>\n",
       "      <td>Data Scientist</td>\n",
       "      <td>120000</td>\n",
       "      <td>USD</td>\n",
       "      <td>120000</td>\n",
       "      <td>CA</td>\n",
       "      <td>100</td>\n",
       "      <td>CA</td>\n",
       "      <td>M</td>\n",
       "    </tr>\n",
       "  </tbody>\n",
       "</table>\n",
       "</div>"
      ],
      "text/plain": [
       "   work_year experience_level employment_type                 job_title  \\\n",
       "0       2023               SE              FT  Principal Data Scientist   \n",
       "1       2023               MI              CT               ML Engineer   \n",
       "2       2023               MI              CT               ML Engineer   \n",
       "3       2023               SE              FT            Data Scientist   \n",
       "4       2023               SE              FT            Data Scientist   \n",
       "\n",
       "   salary salary_currency  salary_in_usd employee_residence  remote_ratio  \\\n",
       "0   80000             EUR          85847                 ES           100   \n",
       "1   30000             USD          30000                 US           100   \n",
       "2   25500             USD          25500                 US           100   \n",
       "3  175000             USD         175000                 CA           100   \n",
       "4  120000             USD         120000                 CA           100   \n",
       "\n",
       "  company_location company_size  \n",
       "0               ES            L  \n",
       "1               US            S  \n",
       "2               US            S  \n",
       "3               CA            M  \n",
       "4               CA            M  "
      ]
     },
     "execution_count": 129,
     "metadata": {},
     "output_type": "execute_result"
    }
   ],
   "source": [
    "salaries.head()"
   ]
  },
  {
   "cell_type": "code",
   "execution_count": 130,
   "metadata": {},
   "outputs": [
    {
     "name": "stdout",
     "output_type": "stream",
     "text": [
      "<class 'pandas.core.frame.DataFrame'>\n",
      "RangeIndex: 3755 entries, 0 to 3754\n",
      "Data columns (total 11 columns):\n",
      " #   Column              Non-Null Count  Dtype \n",
      "---  ------              --------------  ----- \n",
      " 0   work_year           3755 non-null   int64 \n",
      " 1   experience_level    3755 non-null   object\n",
      " 2   employment_type     3755 non-null   object\n",
      " 3   job_title           3755 non-null   object\n",
      " 4   salary              3755 non-null   int64 \n",
      " 5   salary_currency     3755 non-null   object\n",
      " 6   salary_in_usd       3755 non-null   int64 \n",
      " 7   employee_residence  3755 non-null   object\n",
      " 8   remote_ratio        3755 non-null   int64 \n",
      " 9   company_location    3755 non-null   object\n",
      " 10  company_size        3755 non-null   object\n",
      "dtypes: int64(4), object(7)\n",
      "memory usage: 322.8+ KB\n"
     ]
    }
   ],
   "source": [
    "salaries.info()"
   ]
  },
  {
   "cell_type": "code",
   "execution_count": 131,
   "metadata": {},
   "outputs": [
    {
     "data": {
      "text/html": [
       "<div>\n",
       "<style scoped>\n",
       "    .dataframe tbody tr th:only-of-type {\n",
       "        vertical-align: middle;\n",
       "    }\n",
       "\n",
       "    .dataframe tbody tr th {\n",
       "        vertical-align: top;\n",
       "    }\n",
       "\n",
       "    .dataframe thead th {\n",
       "        text-align: right;\n",
       "    }\n",
       "</style>\n",
       "<table border=\"1\" class=\"dataframe\">\n",
       "  <thead>\n",
       "    <tr style=\"text-align: right;\">\n",
       "      <th></th>\n",
       "      <th>work_year</th>\n",
       "      <th>salary</th>\n",
       "      <th>salary_in_usd</th>\n",
       "      <th>remote_ratio</th>\n",
       "    </tr>\n",
       "  </thead>\n",
       "  <tbody>\n",
       "    <tr>\n",
       "      <th>count</th>\n",
       "      <td>3755.000000</td>\n",
       "      <td>3.755000e+03</td>\n",
       "      <td>3755.000000</td>\n",
       "      <td>3755.000000</td>\n",
       "    </tr>\n",
       "    <tr>\n",
       "      <th>mean</th>\n",
       "      <td>2022.373635</td>\n",
       "      <td>1.906956e+05</td>\n",
       "      <td>137570.389880</td>\n",
       "      <td>46.271638</td>\n",
       "    </tr>\n",
       "    <tr>\n",
       "      <th>std</th>\n",
       "      <td>0.691448</td>\n",
       "      <td>6.716765e+05</td>\n",
       "      <td>63055.625278</td>\n",
       "      <td>48.589050</td>\n",
       "    </tr>\n",
       "    <tr>\n",
       "      <th>min</th>\n",
       "      <td>2020.000000</td>\n",
       "      <td>6.000000e+03</td>\n",
       "      <td>5132.000000</td>\n",
       "      <td>0.000000</td>\n",
       "    </tr>\n",
       "    <tr>\n",
       "      <th>25%</th>\n",
       "      <td>2022.000000</td>\n",
       "      <td>1.000000e+05</td>\n",
       "      <td>95000.000000</td>\n",
       "      <td>0.000000</td>\n",
       "    </tr>\n",
       "    <tr>\n",
       "      <th>50%</th>\n",
       "      <td>2022.000000</td>\n",
       "      <td>1.380000e+05</td>\n",
       "      <td>135000.000000</td>\n",
       "      <td>0.000000</td>\n",
       "    </tr>\n",
       "    <tr>\n",
       "      <th>75%</th>\n",
       "      <td>2023.000000</td>\n",
       "      <td>1.800000e+05</td>\n",
       "      <td>175000.000000</td>\n",
       "      <td>100.000000</td>\n",
       "    </tr>\n",
       "    <tr>\n",
       "      <th>max</th>\n",
       "      <td>2023.000000</td>\n",
       "      <td>3.040000e+07</td>\n",
       "      <td>450000.000000</td>\n",
       "      <td>100.000000</td>\n",
       "    </tr>\n",
       "  </tbody>\n",
       "</table>\n",
       "</div>"
      ],
      "text/plain": [
       "         work_year        salary  salary_in_usd  remote_ratio\n",
       "count  3755.000000  3.755000e+03    3755.000000   3755.000000\n",
       "mean   2022.373635  1.906956e+05  137570.389880     46.271638\n",
       "std       0.691448  6.716765e+05   63055.625278     48.589050\n",
       "min    2020.000000  6.000000e+03    5132.000000      0.000000\n",
       "25%    2022.000000  1.000000e+05   95000.000000      0.000000\n",
       "50%    2022.000000  1.380000e+05  135000.000000      0.000000\n",
       "75%    2023.000000  1.800000e+05  175000.000000    100.000000\n",
       "max    2023.000000  3.040000e+07  450000.000000    100.000000"
      ]
     },
     "execution_count": 131,
     "metadata": {},
     "output_type": "execute_result"
    }
   ],
   "source": [
    "salaries.describe()"
   ]
  },
  {
   "cell_type": "code",
   "execution_count": 132,
   "metadata": {},
   "outputs": [
    {
     "name": "stdout",
     "output_type": "stream",
     "text": [
      "Cat attributes:  ['experience_level', 'employment_type', 'job_title', 'salary_currency', 'employee_residence', 'company_location', 'company_size']\n",
      "Num attributes:  ['work_year', 'salary', 'salary_in_usd', 'remote_ratio']\n"
     ]
    }
   ],
   "source": [
    "import matplotlib.pyplot as plt\n",
    "\n",
    "cat_attributes = list(salaries.select_dtypes(include=[\"object\"]))\n",
    "num_attributes = list(salaries.select_dtypes(include=[\"int64\"]))\n",
    "\n",
    "print(\"Cat attributes: \", cat_attributes)\n",
    "print(\"Num attributes: \", num_attributes)"
   ]
  },
  {
   "cell_type": "code",
   "execution_count": 133,
   "metadata": {},
   "outputs": [
    {
     "data": {
      "text/plain": [
       "array([[<Axes: title={'center': 'work_year'}>,\n",
       "        <Axes: title={'center': 'salary'}>],\n",
       "       [<Axes: title={'center': 'salary_in_usd'}>,\n",
       "        <Axes: title={'center': 'remote_ratio'}>]], dtype=object)"
      ]
     },
     "execution_count": 133,
     "metadata": {},
     "output_type": "execute_result"
    },
    {
     "data": {
      "image/png": "[encoded data removed]",
      "text/plain": [
       "<Figure size 1000x1000 with 4 Axes>"
      ]
     },
     "metadata": {},
     "output_type": "display_data"
    }
   ],
   "source": [
    "salaries[num_attributes].hist(bins=50, figsize=(10,10))"
   ]
  },
  {
   "cell_type": "code",
   "execution_count": 134,
   "metadata": {},
   "outputs": [],
   "source": [
    "# Lastly we remove irrelevant attributes\n",
    "excluded_num_attributes = [\"salary\", \"work_year\"] # just keep salary in usd\n",
    "excluded_cat_attributes = [\"salary_currency\"]\n",
    "\n",
    "salaries = salaries.drop(excluded_num_attributes, axis=1)\n",
    "salaries = salaries.drop(excluded_cat_attributes, axis=1)"
   ]
  },
  {
   "cell_type": "code",
   "execution_count": 135,
   "metadata": {},
   "outputs": [
    {
     "name": "stdout",
     "output_type": "stream",
     "text": [
      "Cat attributes:  ['experience_level', 'employment_type', 'job_title', 'employee_residence', 'company_location', 'company_size']\n",
      "Num attributes:  ['salary_in_usd', 'remote_ratio']\n"
     ]
    }
   ],
   "source": [
    "# Print cat and num attributes again\n",
    "cat_attributes = list(salaries.select_dtypes(include=[\"object\"]))\n",
    "num_attributes = list(salaries.select_dtypes(include=[\"int64\"]))\n",
    "\n",
    "print(\"Cat attributes: \", cat_attributes)\n",
    "print(\"Num attributes: \", num_attributes)"
   ]
  },
  {
   "cell_type": "markdown",
   "metadata": {},
   "source": [
    "## Transformation pipeline: numerical"
   ]
  },
  {
   "cell_type": "code",
   "execution_count": 136,
   "metadata": {},
   "outputs": [],
   "source": [
    "from sklearn.pipeline import Pipeline\n",
    "from sklearn.preprocessing import StandardScaler\n",
    "from sklearn.impute import SimpleImputer\n",
    "\n",
    "# Imputer and 0-1\n",
    "num_pipeline = Pipeline([\n",
    "    (\"imputer\", SimpleImputer(strategy=\"median\")),\n",
    "    (\"std_scaler\", StandardScaler())\n",
    "])"
   ]
  },
  {
   "cell_type": "markdown",
   "metadata": {},
   "source": [
    "## Transformation pipeline: categorical\n",
    "\n",
    "I will be creating pipeline elements to later create a pipeline that will transform the data."
   ]
  },
  {
   "cell_type": "code",
   "execution_count": 137,
   "metadata": {},
   "outputs": [
    {
     "data": {
      "text/plain": [
       "['experience_level',\n",
       " 'employment_type',\n",
       " 'job_title',\n",
       " 'employee_residence',\n",
       " 'company_location',\n",
       " 'company_size']"
      ]
     },
     "execution_count": 137,
     "metadata": {},
     "output_type": "execute_result"
    }
   ],
   "source": [
    "cat_attributes"
   ]
  },
  {
   "cell_type": "markdown",
   "metadata": {},
   "source": [
    "### Experience level"
   ]
  },
  {
   "cell_type": "code",
   "execution_count": 138,
   "metadata": {},
   "outputs": [
    {
     "data": {
      "text/plain": [
       "experience_level\n",
       "SE    2516\n",
       "MI     805\n",
       "EN     320\n",
       "EX     114\n",
       "Name: count, dtype: int64"
      ]
     },
     "execution_count": 138,
     "metadata": {},
     "output_type": "execute_result"
    }
   ],
   "source": [
    "salaries[\"experience_level\"].value_counts()"
   ]
  },
  {
   "cell_type": "code",
   "execution_count": 139,
   "metadata": {},
   "outputs": [],
   "source": [
    "from sklearn.preprocessing import OrdinalEncoder\n",
    "\n",
    "experience_hierarchy = [\"EN\", \"MI\", \"SE\", \"EX\"]\n",
    "\n",
    "# Create ordinal encoder\n",
    "experience_ord_encoder = OrdinalEncoder()"
   ]
  },
  {
   "cell_type": "code",
   "execution_count": 140,
   "metadata": {},
   "outputs": [
    {
     "name": "stdout",
     "output_type": "stream",
     "text": [
      "  experience_level\n",
      "0               SE\n",
      "1               MI\n",
      "2               MI\n",
      "3               SE\n",
      "4               SE\n",
      "5               SE\n",
      "6               SE\n",
      "7               SE\n",
      "8               SE\n",
      "9               SE\n",
      "[[3.]\n",
      " [2.]\n",
      " [2.]\n",
      " [3.]\n",
      " [3.]\n",
      " [3.]\n",
      " [3.]\n",
      " [3.]\n",
      " [3.]\n",
      " [3.]]\n",
      "[array(['EN', 'EX', 'MI', 'SE'], dtype=object)]\n"
     ]
    }
   ],
   "source": [
    "# Print an example\n",
    "salaries_cat = salaries[[\"experience_level\"]]\n",
    "salaries_cat_encoded = experience_ord_encoder.fit_transform(salaries_cat)\n",
    "print(salaries_cat[:10])\n",
    "print(salaries_cat_encoded[:10])\n",
    "print(experience_ord_encoder.categories_)"
   ]
  },
  {
   "cell_type": "markdown",
   "metadata": {},
   "source": [
    "### Employment type"
   ]
  },
  {
   "cell_type": "code",
   "execution_count": 141,
   "metadata": {},
   "outputs": [
    {
     "data": {
      "text/plain": [
       "employment_type\n",
       "FT    3718\n",
       "PT      17\n",
       "CT      10\n",
       "FL      10\n",
       "Name: count, dtype: int64"
      ]
     },
     "execution_count": 141,
     "metadata": {},
     "output_type": "execute_result"
    }
   ],
   "source": [
    "salaries[\"employment_type\"].value_counts()"
   ]
  },
  {
   "cell_type": "code",
   "execution_count": 142,
   "metadata": {},
   "outputs": [],
   "source": [
    "from sklearn.preprocessing import OneHotEncoder\n",
    "\n",
    "# Create one hot encoder\n",
    "employment_one_hot_encoder = OneHotEncoder()"
   ]
  },
  {
   "cell_type": "code",
   "execution_count": 143,
   "metadata": {},
   "outputs": [
    {
     "name": "stdout",
     "output_type": "stream",
     "text": [
      "  employment_type\n",
      "0              FT\n",
      "1              CT\n",
      "2              CT\n",
      "3              FT\n",
      "4              FT\n",
      "5              FT\n",
      "6              FT\n",
      "7              FT\n",
      "8              FT\n",
      "9              FT\n",
      "[[0. 0. 1. 0.]\n",
      " [1. 0. 0. 0.]\n",
      " [1. 0. 0. 0.]\n",
      " [0. 0. 1. 0.]\n",
      " [0. 0. 1. 0.]\n",
      " [0. 0. 1. 0.]\n",
      " [0. 0. 1. 0.]\n",
      " [0. 0. 1. 0.]\n",
      " [0. 0. 1. 0.]\n",
      " [0. 0. 1. 0.]]\n",
      "[array(['CT', 'FL', 'FT', 'PT'], dtype=object)]\n"
     ]
    }
   ],
   "source": [
    "# Print an example\n",
    "salaries_cat = salaries[[\"employment_type\"]]\n",
    "salaries_cat_encoded = employment_one_hot_encoder.fit_transform(salaries_cat)\n",
    "print(salaries_cat[:10])\n",
    "print(salaries_cat_encoded[:10].toarray())\n",
    "print(employment_one_hot_encoder.categories_)"
   ]
  },
  {
   "cell_type": "markdown",
   "metadata": {},
   "source": [
    "### Job title"
   ]
  },
  {
   "cell_type": "code",
   "execution_count": 144,
   "metadata": {},
   "outputs": [
    {
     "data": {
      "text/plain": [
       "job_title\n",
       "Data Engineer                          1040\n",
       "Data Scientist                          840\n",
       "Data Analyst                            612\n",
       "Machine Learning Engineer               289\n",
       "Analytics Engineer                      103\n",
       "                                       ... \n",
       "Principal Machine Learning Engineer       1\n",
       "Azure Data Engineer                       1\n",
       "Manager Data Management                   1\n",
       "Marketing Data Engineer                   1\n",
       "Finance Data Analyst                      1\n",
       "Name: count, Length: 93, dtype: int64"
      ]
     },
     "execution_count": 144,
     "metadata": {},
     "output_type": "execute_result"
    }
   ],
   "source": [
    "salaries[\"job_title\"].value_counts()"
   ]
  },
  {
   "cell_type": "markdown",
   "metadata": {},
   "source": [
    "We are going to create a one hot encoder for the job title to keep info about the job title without creating a lot of columns.\n",
    "\n",
    "For that:\n",
    "1. Create a list of unique words in job titles and their frequency\n",
    "2. Create an empty list \"cover_words\"\n",
    "3. Iterate thru the list of unique words and their frequency and add the word to \"cover_words\":\n",
    "   1. If words in \"cover_words\" all appear in all the job titles, True\n",
    "   2. Else iterate again"
   ]
  },
  {
   "cell_type": "code",
   "execution_count": 145,
   "metadata": {},
   "outputs": [
    {
     "data": {
      "text/plain": [
       "Data         2944\n",
       "Engineer     1640\n",
       "Scientist    1065\n",
       "Analyst       684\n",
       "Learning      382\n",
       "Machine       375\n",
       "Analytics     137\n",
       "Research      123\n",
       "Science       116\n",
       "Manager       113\n",
       "Name: count, dtype: int64"
      ]
     },
     "execution_count": 145,
     "metadata": {},
     "output_type": "execute_result"
    }
   ],
   "source": [
    "word_frequency = salaries[\"job_title\"].str.split(expand=True).stack().value_counts()\n",
    "word_frequency.head(10)"
   ]
  },
  {
   "cell_type": "code",
   "execution_count": 146,
   "metadata": {},
   "outputs": [
    {
     "name": "stdout",
     "output_type": "stream",
     "text": [
      "Cover words:  ['Data', 'Engineer', 'Scientist', 'Analyst', 'Learning', 'Machine', 'Analytics', 'Research', 'Science', 'Manager', 'Architect', 'Applied', 'Developer', 'BI', 'Lead', 'ML', 'of', 'AI', 'Vision', 'Computer', 'Consultant', 'Head', 'Business', 'Specialist', 'Infrastructure', 'Software', 'Principal', 'Operations', 'Big', 'ETL', 'Director', 'Researcher', 'Cloud', 'Deep', 'NLP', 'Quality', 'Product', 'Database', 'Intelligence', 'MLOps', '3D', 'Marketing', 'Financial', 'Insight', 'Modeler', 'Strategist', 'Staff', 'Programmer', 'Technician', 'Vehicle', 'Autonomous', 'Management', 'Tech', 'Power', 'DevOps', 'Azure', 'Compliance', 'Finance']\n"
     ]
    }
   ],
   "source": [
    "def all_covered(word_list, job_title_list):\n",
    "    '''\n",
    "    Check that all job_title_list contains at least one word in cover_words\n",
    "    '''\n",
    "\n",
    "    for job_title in job_title_list:\n",
    "        if not any(word in job_title for word in word_list):\n",
    "            return False\n",
    "\n",
    "# Get all job titles\n",
    "job_titles = salaries[\"job_title\"].unique()\n",
    "\n",
    "# Cover words\n",
    "cover_words = []\n",
    "\n",
    "# Iterate over all unique words by frequency and add them to cover_words until all job titles are covered\n",
    "for word in word_frequency.index:\n",
    "    cover_words.append(word)\n",
    "    if all_covered(cover_words, job_titles):\n",
    "        break\n",
    "\n",
    "print(\"Cover words: \", cover_words)"
   ]
  },
  {
   "cell_type": "code",
   "execution_count": 147,
   "metadata": {},
   "outputs": [],
   "source": [
    "from sklearn.base import BaseEstimator, TransformerMixin\n",
    "import numpy as np\n",
    "\n",
    "class TopCoverWordsAdder(BaseEstimator, TransformerMixin):\n",
    "    def __init__(self, cover_words, top_n):\n",
    "        self.cover_words = cover_words\n",
    "        self.top_n = top_n\n",
    "\n",
    "    def fit(self, X, y=None):\n",
    "        return self\n",
    "    \n",
    "    def transform(self, X):\n",
    "        new_attributes = pd.DataFrame(np.zeros((len(X), self.top_n)), columns=[\"job_\" + word.lower() for word in self.cover_words[:self.top_n]])\n",
    "        for i, job_title in enumerate(X[\"job_title\"]):\n",
    "            for word in job_title.split():\n",
    "                if word in self.cover_words[:self.top_n]:\n",
    "                    new_attributes.loc[i, \"job_\" + word] = 1\n",
    "\n",
    "        # Fill NaN with 0\n",
    "        new_attributes = new_attributes.fillna(0)\n",
    "\n",
    "        # Drop job_title\n",
    "        X = X.drop(\"job_title\", axis=1)\n",
    "        return np.c_[X, new_attributes]\n",
    "    \n",
    "    def fit_transform(self, X, y=None):\n",
    "        self.fit(X, y)\n",
    "        return self.transform(X)\n",
    "\n",
    "cover_words_adder = TopCoverWordsAdder(cover_words, 10)\n",
    "salaries_cover_attribs = cover_words_adder.fit_transform(salaries)"
   ]
  },
  {
   "cell_type": "markdown",
   "metadata": {},
   "source": [
    "### Employee residence\n",
    "\n",
    "https://en.wikipedia.org/wiki/ISO_3166-1_alpha-2#Officially_assigned_code_elements"
   ]
  },
  {
   "cell_type": "code",
   "execution_count": 148,
   "metadata": {},
   "outputs": [
    {
     "data": {
      "text/plain": [
       "employee_residence\n",
       "US    3004\n",
       "GB     167\n",
       "CA      85\n",
       "ES      80\n",
       "IN      71\n",
       "DE      48\n",
       "FR      38\n",
       "PT      18\n",
       "BR      18\n",
       "GR      16\n",
       "NL      15\n",
       "AU      11\n",
       "MX      10\n",
       "IT       8\n",
       "PK       8\n",
       "Name: count, dtype: int64"
      ]
     },
     "execution_count": 148,
     "metadata": {},
     "output_type": "execute_result"
    }
   ],
   "source": [
    "salaries[\"employee_residence\"].value_counts().head(15)"
   ]
  },
  {
   "cell_type": "code",
   "execution_count": 149,
   "metadata": {},
   "outputs": [
    {
     "data": {
      "text/html": [
       "<div>\n",
       "<style scoped>\n",
       "    .dataframe tbody tr th:only-of-type {\n",
       "        vertical-align: middle;\n",
       "    }\n",
       "\n",
       "    .dataframe tbody tr th {\n",
       "        vertical-align: top;\n",
       "    }\n",
       "\n",
       "    .dataframe thead th {\n",
       "        text-align: right;\n",
       "    }\n",
       "</style>\n",
       "<table border=\"1\" class=\"dataframe\">\n",
       "  <thead>\n",
       "    <tr style=\"text-align: right;\">\n",
       "      <th></th>\n",
       "      <th>country_name</th>\n",
       "      <th>year</th>\n",
       "      <th>gdp</th>\n",
       "      <th>gdp_per_capita</th>\n",
       "    </tr>\n",
       "  </thead>\n",
       "  <tbody>\n",
       "    <tr>\n",
       "      <th>0</th>\n",
       "      <td>United States</td>\n",
       "      <td>2021</td>\n",
       "      <td>2.299610e+13</td>\n",
       "      <td>69288</td>\n",
       "    </tr>\n",
       "    <tr>\n",
       "      <th>1</th>\n",
       "      <td>Luxembourg</td>\n",
       "      <td>2021</td>\n",
       "      <td>8.671080e+10</td>\n",
       "      <td>135683</td>\n",
       "    </tr>\n",
       "    <tr>\n",
       "      <th>2</th>\n",
       "      <td>United States</td>\n",
       "      <td>2020</td>\n",
       "      <td>2.089370e+13</td>\n",
       "      <td>63028</td>\n",
       "    </tr>\n",
       "    <tr>\n",
       "      <th>3</th>\n",
       "      <td>Luxembourg</td>\n",
       "      <td>2020</td>\n",
       "      <td>7.335313e+10</td>\n",
       "      <td>116356</td>\n",
       "    </tr>\n",
       "    <tr>\n",
       "      <th>4</th>\n",
       "      <td>United States</td>\n",
       "      <td>2019</td>\n",
       "      <td>2.137260e+13</td>\n",
       "      <td>65095</td>\n",
       "    </tr>\n",
       "  </tbody>\n",
       "</table>\n",
       "</div>"
      ],
      "text/plain": [
       "    country_name  year           gdp  gdp_per_capita\n",
       "0  United States  2021  2.299610e+13           69288\n",
       "1     Luxembourg  2021  8.671080e+10          135683\n",
       "2  United States  2020  2.089370e+13           63028\n",
       "3     Luxembourg  2020  7.335313e+10          116356\n",
       "4  United States  2019  2.137260e+13           65095"
      ]
     },
     "execution_count": 149,
     "metadata": {},
     "output_type": "execute_result"
    }
   ],
   "source": [
    "GPD_DATASET_PATH = \"./datasets/salaries/GPD.csv\"\n",
    "\n",
    "gpd = pd.read_csv(GPD_DATASET_PATH)\n",
    "gpd.columns = gpd.columns.str.lower()\n",
    "\n",
    "gpd.head()"
   ]
  },
  {
   "cell_type": "code",
   "execution_count": 150,
   "metadata": {},
   "outputs": [
    {
     "data": {
      "text/html": [
       "<div>\n",
       "<style scoped>\n",
       "    .dataframe tbody tr th:only-of-type {\n",
       "        vertical-align: middle;\n",
       "    }\n",
       "\n",
       "    .dataframe tbody tr th {\n",
       "        vertical-align: top;\n",
       "    }\n",
       "\n",
       "    .dataframe thead th {\n",
       "        text-align: right;\n",
       "    }\n",
       "</style>\n",
       "<table border=\"1\" class=\"dataframe\">\n",
       "  <thead>\n",
       "    <tr style=\"text-align: right;\">\n",
       "      <th></th>\n",
       "      <th>country_name</th>\n",
       "      <th>year</th>\n",
       "      <th>gdp</th>\n",
       "      <th>gdp_per_capita</th>\n",
       "      <th>iso2</th>\n",
       "    </tr>\n",
       "  </thead>\n",
       "  <tbody>\n",
       "    <tr>\n",
       "      <th>0</th>\n",
       "      <td>United States</td>\n",
       "      <td>2021</td>\n",
       "      <td>2.299610e+13</td>\n",
       "      <td>69288</td>\n",
       "      <td>US</td>\n",
       "    </tr>\n",
       "    <tr>\n",
       "      <th>1</th>\n",
       "      <td>Luxembourg</td>\n",
       "      <td>2021</td>\n",
       "      <td>8.671080e+10</td>\n",
       "      <td>135683</td>\n",
       "      <td>LU</td>\n",
       "    </tr>\n",
       "    <tr>\n",
       "      <th>2</th>\n",
       "      <td>United States</td>\n",
       "      <td>2020</td>\n",
       "      <td>2.089370e+13</td>\n",
       "      <td>63028</td>\n",
       "      <td>US</td>\n",
       "    </tr>\n",
       "    <tr>\n",
       "      <th>3</th>\n",
       "      <td>Luxembourg</td>\n",
       "      <td>2020</td>\n",
       "      <td>7.335313e+10</td>\n",
       "      <td>116356</td>\n",
       "      <td>LU</td>\n",
       "    </tr>\n",
       "    <tr>\n",
       "      <th>4</th>\n",
       "      <td>United States</td>\n",
       "      <td>2019</td>\n",
       "      <td>2.137260e+13</td>\n",
       "      <td>65095</td>\n",
       "      <td>US</td>\n",
       "    </tr>\n",
       "  </tbody>\n",
       "</table>\n",
       "</div>"
      ],
      "text/plain": [
       "    country_name  year           gdp  gdp_per_capita iso2\n",
       "0  United States  2021  2.299610e+13           69288   US\n",
       "1     Luxembourg  2021  8.671080e+10          135683   LU\n",
       "2  United States  2020  2.089370e+13           63028   US\n",
       "3     Luxembourg  2020  7.335313e+10          116356   LU\n",
       "4  United States  2019  2.137260e+13           65095   US"
      ]
     },
     "execution_count": 150,
     "metadata": {},
     "output_type": "execute_result"
    }
   ],
   "source": [
    "import pycountry\n",
    "\n",
    "def get_iso2(country_name):\n",
    "    try:\n",
    "        return pycountry.countries.get(name=country_name).alpha_2\n",
    "    except:\n",
    "        return None\n",
    "    \n",
    "gpd[\"iso2\"] = gpd[\"country_name\"].apply(get_iso2)\n",
    "\n",
    "gpd.head()"
   ]
  },
  {
   "cell_type": "code",
   "execution_count": 151,
   "metadata": {},
   "outputs": [
    {
     "data": {
      "text/html": [
       "<div>\n",
       "<style scoped>\n",
       "    .dataframe tbody tr th:only-of-type {\n",
       "        vertical-align: middle;\n",
       "    }\n",
       "\n",
       "    .dataframe tbody tr th {\n",
       "        vertical-align: top;\n",
       "    }\n",
       "\n",
       "    .dataframe thead th {\n",
       "        text-align: right;\n",
       "    }\n",
       "</style>\n",
       "<table border=\"1\" class=\"dataframe\">\n",
       "  <thead>\n",
       "    <tr style=\"text-align: right;\">\n",
       "      <th></th>\n",
       "      <th>country_name</th>\n",
       "      <th>year</th>\n",
       "      <th>gdp</th>\n",
       "      <th>gdp_per_capita</th>\n",
       "      <th>iso2</th>\n",
       "    </tr>\n",
       "  </thead>\n",
       "  <tbody>\n",
       "    <tr>\n",
       "      <th>190</th>\n",
       "      <td>Andorra</td>\n",
       "      <td>2021</td>\n",
       "      <td>3.329911e+09</td>\n",
       "      <td>43048</td>\n",
       "      <td>AD</td>\n",
       "    </tr>\n",
       "    <tr>\n",
       "      <th>945</th>\n",
       "      <td>Afghanistan</td>\n",
       "      <td>2021</td>\n",
       "      <td>0.000000e+00</td>\n",
       "      <td>0</td>\n",
       "      <td>AF</td>\n",
       "    </tr>\n",
       "    <tr>\n",
       "      <th>380</th>\n",
       "      <td>Antigua And Barbuda</td>\n",
       "      <td>2021</td>\n",
       "      <td>1.471126e+09</td>\n",
       "      <td>14901</td>\n",
       "      <td>AG</td>\n",
       "    </tr>\n",
       "    <tr>\n",
       "      <th>591</th>\n",
       "      <td>Albania</td>\n",
       "      <td>2021</td>\n",
       "      <td>1.826004e+10</td>\n",
       "      <td>6494</td>\n",
       "      <td>AL</td>\n",
       "    </tr>\n",
       "    <tr>\n",
       "      <th>675</th>\n",
       "      <td>Armenia</td>\n",
       "      <td>2021</td>\n",
       "      <td>1.386118e+10</td>\n",
       "      <td>4670</td>\n",
       "      <td>AM</td>\n",
       "    </tr>\n",
       "    <tr>\n",
       "      <th>460</th>\n",
       "      <td>Angola</td>\n",
       "      <td>2021</td>\n",
       "      <td>7.254699e+10</td>\n",
       "      <td>2138</td>\n",
       "      <td>AO</td>\n",
       "    </tr>\n",
       "    <tr>\n",
       "      <th>195</th>\n",
       "      <td>Argentina</td>\n",
       "      <td>2021</td>\n",
       "      <td>4.914930e+11</td>\n",
       "      <td>10729</td>\n",
       "      <td>AR</td>\n",
       "    </tr>\n",
       "    <tr>\n",
       "      <th>910</th>\n",
       "      <td>American Samoa</td>\n",
       "      <td>2021</td>\n",
       "      <td>0.000000e+00</td>\n",
       "      <td>0</td>\n",
       "      <td>AS</td>\n",
       "    </tr>\n",
       "    <tr>\n",
       "      <th>131</th>\n",
       "      <td>Austria</td>\n",
       "      <td>2021</td>\n",
       "      <td>4.770820e+11</td>\n",
       "      <td>53268</td>\n",
       "      <td>AT</td>\n",
       "    </tr>\n",
       "    <tr>\n",
       "      <th>106</th>\n",
       "      <td>Australia</td>\n",
       "      <td>2021</td>\n",
       "      <td>1.542660e+12</td>\n",
       "      <td>59934</td>\n",
       "      <td>AU</td>\n",
       "    </tr>\n",
       "  </tbody>\n",
       "</table>\n",
       "</div>"
      ],
      "text/plain": [
       "            country_name  year           gdp  gdp_per_capita iso2\n",
       "190              Andorra  2021  3.329911e+09           43048   AD\n",
       "945          Afghanistan  2021  0.000000e+00               0   AF\n",
       "380  Antigua And Barbuda  2021  1.471126e+09           14901   AG\n",
       "591              Albania  2021  1.826004e+10            6494   AL\n",
       "675              Armenia  2021  1.386118e+10            4670   AM\n",
       "460               Angola  2021  7.254699e+10            2138   AO\n",
       "195            Argentina  2021  4.914930e+11           10729   AR\n",
       "910       American Samoa  2021  0.000000e+00               0   AS\n",
       "131              Austria  2021  4.770820e+11           53268   AT\n",
       "106            Australia  2021  1.542660e+12           59934   AU"
      ]
     },
     "execution_count": 151,
     "metadata": {},
     "output_type": "execute_result"
    }
   ],
   "source": [
    "# Get max gdp_per_capita for max(year) by country\n",
    "gpd_max = gpd.loc[gpd.groupby(\"iso2\")[\"year\"].idxmax()]\n",
    "\n",
    "gpd_max.head(10)"
   ]
  },
  {
   "cell_type": "code",
   "execution_count": 155,
   "metadata": {},
   "outputs": [],
   "source": [
    "# Create transformer that adds gdp per capita for each country. Removes employee_residence\n",
    "\n",
    "class GdpPerCapitaEmployeeResidenceAdder(BaseEstimator, TransformerMixin):\n",
    "    def __init__(self, gdp_df):\n",
    "        self.gdp_df = gdp_df\n",
    "\n",
    "    def fit(self, X, y=None):\n",
    "        return self\n",
    "    \n",
    "    def transform(self, X, y=None):\n",
    "        X = X.merge(self.gdp_df, how=\"left\", left_on=\"employee_residence\", right_on=\"iso2\")\n",
    "        X = X.drop([\"iso2\", \"employee_residence\"], axis=1)\n",
    "        return X\n",
    "    \n",
    "\n",
    "gdp_employee_residence_adder = GdpPerCapitaEmployeeResidenceAdder(gpd_max)\n",
    "salaries_gdp_employee_attribs = gdp_employee_residence_adder.fit_transform(salaries)"
   ]
  },
  {
   "cell_type": "markdown",
   "metadata": {},
   "source": [
    "### Company location\n",
    "\n",
    "Same as employee residence"
   ]
  },
  {
   "cell_type": "code",
   "execution_count": 157,
   "metadata": {},
   "outputs": [
    {
     "data": {
      "text/plain": [
       "company_location\n",
       "US    3040\n",
       "GB     172\n",
       "CA      87\n",
       "ES      77\n",
       "IN      58\n",
       "DE      56\n",
       "FR      34\n",
       "BR      15\n",
       "AU      14\n",
       "GR      14\n",
       "PT      14\n",
       "NL      13\n",
       "MX      10\n",
       "IE       7\n",
       "SG       6\n",
       "Name: count, dtype: int64"
      ]
     },
     "execution_count": 157,
     "metadata": {},
     "output_type": "execute_result"
    }
   ],
   "source": [
    "salaries[\"company_location\"].value_counts().head(15)"
   ]
  },
  {
   "cell_type": "code",
   "execution_count": 156,
   "metadata": {},
   "outputs": [],
   "source": [
    "class gdpPerCapitaCompanyLocationAdder(BaseEstimator, TransformerMixin):\n",
    "    def __init__(self, gdp_df):\n",
    "        self.gdp_df = gdp_df\n",
    "\n",
    "    def fit(self, X, y=None):\n",
    "        return self\n",
    "    \n",
    "    def transform(self, X, y=None):\n",
    "        X = X.merge(self.gdp_df, how=\"left\", left_on=\"company_location\", right_on=\"iso2\")\n",
    "        X = X.drop([\"iso2\", \"company_location\"], axis=1)\n",
    "        return X\n",
    "    \n",
    "gdp_company_location_adder = gdpPerCapitaCompanyLocationAdder(gpd_max)\n",
    "salaries_gdp_company_attribs = gdp_company_location_adder.fit_transform(salaries)"
   ]
  }
 ],
 "metadata": {
  "kernelspec": {
   "display_name": "handsonml",
   "language": "python",
   "name": "python3"
  },
  "language_info": {
   "codemirror_mode": {
    "name": "ipython",
    "version": 3
   },
   "file_extension": ".py",
   "mimetype": "text/x-python",
   "name": "python",
   "nbconvert_exporter": "python",
   "pygments_lexer": "ipython3",
   "version": "3.10.12"
  },
  "orig_nbformat": 4
 },
 "nbformat": 4,
 "nbformat_minor": 2
}
