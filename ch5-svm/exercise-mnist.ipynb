{
 "cells": [
  {
   "cell_type": "markdown",
   "metadata": {},
   "source": [
    "# 9. Train an SVM classifier on the MNIST dataset. Since SVM classifiers are binary classifiers, you will need to use one-versus-all to classify all 10 digits. You may want to tune the hyperparameters using small validation sets to speed up the process. What accuracy can you reach?"
   ]
  },
  {
   "cell_type": "code",
   "execution_count": 187,
   "metadata": {},
   "outputs": [
    {
     "data": {
      "text/plain": [
       "dict_keys(['data', 'target', 'frame', 'feature_names', 'target_names', 'images', 'DESCR'])"
      ]
     },
     "execution_count": 187,
     "metadata": {},
     "output_type": "execute_result"
    }
   ],
   "source": [
    "import numpy as np\n",
    "import matplotlib.pyplot as plt\n",
    "from sklearn.datasets import load_digits\n",
    "\n",
    "digits = load_digits()\n",
    "digits.keys()"
   ]
  },
  {
   "cell_type": "code",
   "execution_count": 188,
   "metadata": {},
   "outputs": [
    {
     "name": "stdout",
     "output_type": "stream",
     "text": [
      ".. _digits_dataset:\n",
      "\n",
      "Optical recognition of handwritten digits dataset\n",
      "--------------------------------------------------\n",
      "\n",
      "**Data Set Characteristics:**\n",
      "\n",
      "    :Number of Instances: 1797\n",
      "    :Number of Attributes: 64\n",
      "    :Attribute Information: 8x8 image of integer pixels in the range 0..16.\n",
      "    :Missing Attribute Values: None\n",
      "    :Creator: E. Alpaydin (alpaydin '@' boun.edu.tr)\n",
      "    :Date: July; 1998\n",
      "\n",
      "This is a copy of the test set of the UCI ML hand-written digits datasets\n",
      "https://archive.ics.uci.edu/ml/datasets/Optical+Recognition+of+Handwritten+Digits\n",
      "\n",
      "The data set contains images of hand-written digits: 10 classes where\n",
      "each class refers to a digit.\n",
      "\n",
      "Preprocessing programs made available by NIST were used to extract\n",
      "normalized bitmaps of handwritten digits from a preprinted form. From a\n",
      "total of 43 people, 30 contributed to the training set and different 13\n",
      "to the test set. 32x32 bitmaps are divided into nonoverlapping blocks of\n",
      "4x4 and the number of on pixels are counted in each block. This generates\n",
      "an input matrix of 8x8 where each element is an integer in the range\n",
      "0..16. This reduces dimensionality and gives invariance to small\n",
      "distortions.\n",
      "\n",
      "For info on NIST preprocessing routines, see M. D. Garris, J. L. Blue, G.\n",
      "T. Candela, D. L. Dimmick, J. Geist, P. J. Grother, S. A. Janet, and C.\n",
      "L. Wilson, NIST Form-Based Handprint Recognition System, NISTIR 5469,\n",
      "1994.\n",
      "\n",
      ".. topic:: References\n",
      "\n",
      "  - C. Kaynak (1995) Methods of Combining Multiple Classifiers and Their\n",
      "    Applications to Handwritten Digit Recognition, MSc Thesis, Institute of\n",
      "    Graduate Studies in Science and Engineering, Bogazici University.\n",
      "  - E. Alpaydin, C. Kaynak (1998) Cascading Classifiers, Kybernetika.\n",
      "  - Ken Tang and Ponnuthurai N. Suganthan and Xi Yao and A. Kai Qin.\n",
      "    Linear dimensionalityreduction using relevance weighted LDA. School of\n",
      "    Electrical and Electronic Engineering Nanyang Technological University.\n",
      "    2005.\n",
      "  - Claudio Gentile. A New Approximate Maximal Margin Classification\n",
      "    Algorithm. NIPS. 2000.\n",
      "\n"
     ]
    }
   ],
   "source": [
    "print(digits['DESCR'])"
   ]
  },
  {
   "cell_type": "code",
   "execution_count": 189,
   "metadata": {},
   "outputs": [
    {
     "name": "stdout",
     "output_type": "stream",
     "text": [
      "(1797, 64)\n",
      "(1797,)\n"
     ]
    }
   ],
   "source": [
    "X = digits['data']\n",
    "y = digits['target']\n",
    "\n",
    "print(X.shape)\n",
    "print(y.shape)"
   ]
  },
  {
   "cell_type": "code",
   "execution_count": 190,
   "metadata": {},
   "outputs": [
    {
     "data": {
      "image/png": "[encoded data removed]",
      "text/plain": [
       "<Figure size 640x480 with 1 Axes>"
      ]
     },
     "metadata": {},
     "output_type": "display_data"
    }
   ],
   "source": [
    "import matplotlib as mpl\n",
    "\n",
    "def plot_digit(data):\n",
    "    \"\"\"Plots one 8x8 digit image.\n",
    "\n",
    "    Args:\n",
    "        data (np array): Np array of shape (64, 1) representing a digit image.\n",
    "    \"\"\"\n",
    "\n",
    "    image = data.reshape(8, 8)\n",
    "    plt.imshow(image, cmap=mpl.cm.binary, interpolation=\"nearest\")\n",
    "    plt.axis(\"off\")\n",
    "    plt.show()\n",
    "\n",
    "plot_digit(X[0])"
   ]
  },
  {
   "cell_type": "code",
   "execution_count": 191,
   "metadata": {},
   "outputs": [
    {
     "name": "stdout",
     "output_type": "stream",
     "text": [
      "(1437, 64)\n",
      "(360, 64)\n",
      "(1437,)\n",
      "(360,)\n"
     ]
    }
   ],
   "source": [
    "from sklearn.model_selection import train_test_split\n",
    "\n",
    "X_train, X_test, y_train, y_test = train_test_split(\n",
    "    X, y, test_size=0.2\n",
    ")\n",
    "\n",
    "print(X_train.shape)\n",
    "print(X_test.shape)\n",
    "print(y_train.shape)\n",
    "print(y_test.shape)"
   ]
  },
  {
   "cell_type": "code",
   "execution_count": 192,
   "metadata": {},
   "outputs": [
    {
     "data": {
      "image/png": "[encoded data removed]",
      "text/plain": [
       "<Figure size 1200x300 with 5 Axes>"
      ]
     },
     "metadata": {},
     "output_type": "display_data"
    }
   ],
   "source": [
    "def shift_digits(X, y):\n",
    "    \"\"\"Create 4 copies of the digit, shifted one pixel in each direction.\n",
    "\n",
    "    Args:\n",
    "        X (Pandas df): The digits.\n",
    "        y (Pandas df): The labels.\n",
    "\n",
    "    Returns:\n",
    "        np.array: The shifted digits.\n",
    "    \"\"\"\n",
    "    # Convert to numpy arrays\n",
    "    X = np.array(X)\n",
    "    y = np.array(y)\n",
    "\n",
    "    # Check if it is a single row\n",
    "    if len(X.shape) == 1:\n",
    "        X = X.reshape(1, -1)\n",
    "    if len(y.shape) == 1:\n",
    "        y = y.reshape(1, -1)\n",
    "        \n",
    "\n",
    "    # Reshape to 8x8\n",
    "    X = X.reshape(-1, 8, 8)\n",
    "\n",
    "    # Each image is shifted one pixel to each directions. If the shift goes out, the pixel is set to 0\n",
    "    digits_shifted = np.array([\n",
    "        # Up\n",
    "        np.concatenate((X[:, 1:, :], np.zeros((X.shape[0], 1, 8))), axis=1).reshape(-1, 64),\n",
    "        # Down\n",
    "        np.concatenate((np.zeros((X.shape[0], 1, 8)), X[:, :-1, :]), axis=1).reshape(-1, 64),\n",
    "        # Left\n",
    "        np.concatenate((X[:, :, 1:], np.zeros((X.shape[0], 8, 1))), axis=2).reshape(-1, 64),\n",
    "        # Right\n",
    "        np.concatenate((np.zeros((X.shape[0], 8, 1)), X[:, :, :-1]), axis=2).reshape(-1, 64)\n",
    "    ])     \n",
    "    # Unravel and add the original image\n",
    "    digits_shifted = digits_shifted.reshape(-1, 64)\n",
    "    digits_shifted = np.concatenate((digits_shifted, X.reshape(-1, 64)), axis=0)\n",
    "\n",
    "    # Repeat the labels\n",
    "    y = np.repeat(y, 5, axis=0).reshape(-1, 1)\n",
    "\n",
    "    return digits_shifted, y\n",
    "\n",
    "def plot_shifted(X, y):\n",
    "    \"\"\"Shifts a digit and plots the result.\n",
    "\n",
    "    Args:\n",
    "        digit (np.array): The digit to be shifted.\n",
    "        label (int): The label of the digit.\n",
    "    \"\"\"\n",
    "    digits_shifted, y = shift_digits(X, y)\n",
    "    plt.figure(figsize=(12, 3))\n",
    "    dirs = ['Up', 'Down', 'Left', 'Right', 'Original']\n",
    "    for i in range(5):\n",
    "        plt.subplot(1, 5, i+1)\n",
    "        plt.imshow(digits_shifted[i].reshape(8, 8), cmap=mpl.cm.binary)  # Use binary color map\n",
    "        plt.title(dirs[i])\n",
    "        plt.axis('off')\n",
    "    plt.show()\n",
    "    \n",
    "\n",
    "plot_shifted(X_train[123], y_train[123])"
   ]
  },
  {
   "cell_type": "code",
   "execution_count": 193,
   "metadata": {},
   "outputs": [
    {
     "name": "stdout",
     "output_type": "stream",
     "text": [
      "(7185, 64)\n",
      "(7185, 1)\n"
     ]
    }
   ],
   "source": [
    "# Apply the augmentation to the dataset\n",
    "X_aug, y_aug = shift_digits(X_train, y_train)\n",
    "\n",
    "print(X_aug.shape)\n",
    "print(y_aug.shape)"
   ]
  },
  {
   "cell_type": "code",
   "execution_count": 194,
   "metadata": {},
   "outputs": [],
   "source": [
    "from sklearn.preprocessing import StandardScaler\n",
    "from sklearn.model_selection import GridSearchCV\n",
    "from sklearn.pipeline import Pipeline\n",
    "from sklearn.svm import SVC\n",
    "\n",
    "Cs = [0.01, 0.1, 1, 10, 100, 1000]\n",
    "kernel = ['linear', 'poly', 'rbf', 'sigmoid']\n",
    "degree = [2, 3]\n",
    "gamma = ['scale', 'auto']\n",
    "coef0 = [0.1]\n",
    "shrinking = [True, False]\n",
    "class_weight = ['balanced']\n",
    "\n",
    "param_grid = {\n",
    "    'svc_clf__C': Cs,\n",
    "    'svc_clf__kernel': kernel,\n",
    "    'svc_clf__degree': degree,\n",
    "    'svc_clf__gamma': gamma,\n",
    "    'svc_clf__coef0': coef0,\n",
    "    'svc_clf__shrinking': shrinking,\n",
    "    'svc_clf__class_weight': class_weight\n",
    "}\n",
    "\n",
    "pipe = Pipeline((\n",
    "    (\"std_scaler\", StandardScaler()),\n",
    "    (\"svc_clf\", SVC())\n",
    "))\n",
    "\n",
    "gs = GridSearchCV(\n",
    "    pipe,\n",
    "    param_grid,\n",
    "    n_jobs=-1,\n",
    "    cv=3,\n",
    "    verbose=10\n",
    ")"
   ]
  },
  {
   "cell_type": "code",
   "execution_count": 195,
   "metadata": {},
   "outputs": [
    {
     "name": "stdout",
     "output_type": "stream",
     "text": [
      "Fitting 3 folds for each of 192 candidates, totalling 576 fits\n"
     ]
    }
   ],
   "source": [
    "gs.fit(X_aug, y_aug) # Using original dataset on low spec machine"
   ]
  },
  {
   "cell_type": "code",
   "execution_count": null,
   "metadata": {},
   "outputs": [
    {
     "name": "stdout",
     "output_type": "stream",
     "text": [
      "Best model:  Pipeline(steps=[('std_scaler', StandardScaler()),\n",
      "                ('svc_clf',\n",
      "                 SVC(C=10, class_weight='balanced', coef0=0.1, degree=2,\n",
      "                     kernel='poly'))])\n"
     ]
    }
   ],
   "source": [
    "best_model = gs.best_estimator_\n",
    "print('Best model: ', best_model)"
   ]
  },
  {
   "cell_type": "code",
   "execution_count": null,
   "metadata": {},
   "outputs": [],
   "source": [
    "# Make predictions\n",
    "y_pred = best_model.predict(X_test)"
   ]
  },
  {
   "cell_type": "code",
   "execution_count": null,
   "metadata": {},
   "outputs": [
    {
     "name": "stdout",
     "output_type": "stream",
     "text": [
      "Precision:  0.9916955974683971\n",
      "Recall:  0.9916666666666667\n",
      "F1 score:  0.9916074580246119\n",
      "Confusion matrix: \n",
      " [[41  0  0  0  0  0  0  0  0  0]\n",
      " [ 0 24  0  0  0  0  0  0  0  0]\n",
      " [ 0  0 30  0  0  0  0  0  0  0]\n",
      " [ 0  0  0 40  0  0  0  0  0  0]\n",
      " [ 0  0  0  0 38  0  0  0  0  0]\n",
      " [ 0  0  0  0  0 45  0  0  0  0]\n",
      " [ 0  0  0  0  0  0 40  0  0  0]\n",
      " [ 0  0  0  0  0  0  0 35  0  0]\n",
      " [ 0  0  0  0  0  0  0  0 37  1]\n",
      " [ 0  0  0  1  0  1  0  0  0 27]]\n"
     ]
    }
   ],
   "source": [
    "# Measure performance. Precision, recall, F1 score, ROC-AUC score. Weighted.\n",
    "\n",
    "from sklearn.metrics import precision_score, recall_score, f1_score\n",
    "\n",
    "# Precision, recall, F1 score\n",
    "print(\"Precision: \", precision_score(y_test, y_pred, average='weighted'))\n",
    "print(\"Recall: \", recall_score(y_test, y_pred, average='weighted'))\n",
    "print(\"F1 score: \", f1_score(y_test, y_pred, average='weighted'))\n",
    "\n",
    "# Confusion matrix for all 10 digits\n",
    "from sklearn.metrics import confusion_matrix\n",
    "conf_mx = confusion_matrix(y_test, y_pred)\n",
    "print(\"Confusion matrix: \\n\", conf_mx)\n",
    "\n"
   ]
  },
  {
   "cell_type": "code",
   "execution_count": null,
   "metadata": {},
   "outputs": [
    {
     "data": {
      "image/png": "[encoded data removed]",
      "text/plain": [
       "<Figure size 1000x500 with 2 Axes>"
      ]
     },
     "metadata": {},
     "output_type": "display_data"
    }
   ],
   "source": [
    "# Plot any of the bad classified images\n",
    "bad_classifs = np.where(y_pred != y_test)[0]\n",
    "\n",
    "# Plot a pair of images and the corresponding labels\n",
    "fig, axes = plt.subplots(1, 2, figsize=(10, 5))\n",
    "for i, ax in enumerate(axes):\n",
    "    ax.imshow(X_test[bad_classifs[i]].reshape(8, 8), cmap='gray')\n",
    "    ax.set_title('Predicted: %d, Actual: %d' % (y_pred[bad_classifs[i]], y_test[bad_classifs[i]]))\n",
    "    ax.axis('off')\n",
    "\n",
    "plt.show()"
   ]
  }
 ],
 "metadata": {
  "kernelspec": {
   "display_name": "ml",
   "language": "python",
   "name": "python3"
  },
  "language_info": {
   "codemirror_mode": {
    "name": "ipython",
    "version": 3
   },
   "file_extension": ".py",
   "mimetype": "text/x-python",
   "name": "python",
   "nbconvert_exporter": "python",
   "pygments_lexer": "ipython3",
   "version": "3.9.17"
  },
  "orig_nbformat": 4
 },
 "nbformat": 4,
 "nbformat_minor": 2
}
