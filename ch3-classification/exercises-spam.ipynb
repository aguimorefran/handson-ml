{
 "cells": [
  {
   "cell_type": "markdown",
   "metadata": {},
   "source": [
    "# Spam classificator"
   ]
  },
  {
   "cell_type": "markdown",
   "metadata": {},
   "source": [
    "# Problem definition\n",
    "\n",
    "We need to classify either if an email is SPAM or not.\n",
    "This is a BINARY CLASSIFICATION problem, where the label will be spam and get binary values 0/1."
   ]
  },
  {
   "cell_type": "markdown",
   "metadata": {},
   "source": [
    "## Precission vs Recall tradeoff\n",
    "\n",
    "We also want to study the tradeoff between PRECISION and RECALL.\n",
    "\n",
    "**Precision**: rate of correct classifications. If from 100 mails we classify 70 as spam and 50 are spam, the precision is 50/70. It is, from all the classifications we made, how many of them are correct.\n",
    "\n",
    "**Recall**: rate of detected spams. If from 100 mails there are 80 spams, and we classify correctly 70, the recall is 70/80. It is how many of the mails that are true spams are correctly classified.\n",
    "\n",
    "*Precision* = TP / TP+FP\n",
    "\n",
    "*Recall* = TP / TP+FN\n",
    "\n",
    "So for a spam filter, we want to maximize the recall."
   ]
  },
  {
   "cell_type": "markdown",
   "metadata": {},
   "source": [
    "# Data gathering"
   ]
  },
  {
   "cell_type": "markdown",
   "metadata": {},
   "source": [
    "### Downloading"
   ]
  },
  {
   "cell_type": "code",
   "execution_count": 20,
   "metadata": {},
   "outputs": [],
   "source": [
    "import os\n",
    "import tarfile\n",
    "import urllib.request\n",
    "import numpy as np\n",
    "\n",
    "\n",
    "DOWNLOAD_PATH = \"datasets\"\n",
    "\n",
    "SPAM_URL = 'https://spamassassin.apache.org/old/publiccorpus/20021010_spam.tar.bz2'\n",
    "SPAM_2_URL = 'https://spamassassin.apache.org/old/publiccorpus/20050311_spam_2.tar.bz2'\n",
    "HAM_URL = 'https://spamassassin.apache.org/old/publiccorpus/20021010_easy_ham.tar.bz2'\n",
    "\n",
    "def fetch_spam_data(spam_url=SPAM_URL, spam2_url=SPAM_2_URL, ham_url=HAM_URL, download_path=DOWNLOAD_PATH):\n",
    "    if not os.path.isdir(download_path):\n",
    "        os.makedirs(download_path)\n",
    "    for url in (spam_url, spam2_url, ham_url):\n",
    "        filename = url.split('/')[-1]\n",
    "        path = os.path.join(download_path, filename)\n",
    "        if not os.path.isfile(path):\n",
    "            urllib.request.urlretrieve(url, path)\n",
    "        with tarfile.open(path) as tar:\n",
    "            tar.extractall(path=download_path)\n",
    "\n",
    "fetch_spam_data()"
   ]
  },
  {
   "cell_type": "markdown",
   "metadata": {},
   "source": [
    "### Loading data"
   ]
  },
  {
   "cell_type": "code",
   "execution_count": 21,
   "metadata": {},
   "outputs": [],
   "source": [
    "from os import listdir\n",
    "import pandas as pd\n",
    "\n",
    "SPAM_FOLDER = os.path.join(DOWNLOAD_PATH, 'spam')\n",
    "SPAM2_FOLDER = os.path.join(DOWNLOAD_PATH, 'spam_2')\n",
    "HAM_FOLDER = os.path.join(DOWNLOAD_PATH, 'easy_ham')\n",
    "\n",
    "exclude = ['0000.7b1b73cf36cf9dbc3d64e3f2ee2b91f1']\n",
    "\n",
    "def load_spam_data(spam_folder=SPAM_FOLDER,  spam2_folder=SPAM2_FOLDER, ham_folder=HAM_FOLDER):\n",
    "    data = []\n",
    "    for filename in listdir(spam_folder):\n",
    "        if filename in exclude:\n",
    "            continue\n",
    "        with open(os.path.join(spam_folder, filename), 'rb') as f:\n",
    "            text = f.read().decode('latin-1')\n",
    "            data.append((text, 1))\n",
    "    for filename in listdir(spam2_folder):\n",
    "        with open(os.path.join(spam2_folder, filename), 'rb') as f:\n",
    "            text = f.read().decode('latin-1')\n",
    "            data.append((text, 1))\n",
    "    for filename in listdir(ham_folder):\n",
    "        with open(os.path.join(ham_folder, filename), 'rb') as f:\n",
    "            text = f.read().decode('latin-1')\n",
    "            data.append((text, 0))       \n",
    "\n",
    "    spam_df = pd.DataFrame(data, columns=['text', 'spam'])\n",
    "    return spam_df\n",
    "\n",
    "spam_df = load_spam_data()\n",
    "# save in csv\n",
    "spam_df.to_csv(os.path.join(DOWNLOAD_PATH, 'spam.csv'), index=False)"
   ]
  },
  {
   "cell_type": "code",
   "execution_count": 22,
   "metadata": {},
   "outputs": [
    {
     "data": {
      "text/html": [
       "<div>\n",
       "<style scoped>\n",
       "    .dataframe tbody tr th:only-of-type {\n",
       "        vertical-align: middle;\n",
       "    }\n",
       "\n",
       "    .dataframe tbody tr th {\n",
       "        vertical-align: top;\n",
       "    }\n",
       "\n",
       "    .dataframe thead th {\n",
       "        text-align: right;\n",
       "    }\n",
       "</style>\n",
       "<table border=\"1\" class=\"dataframe\">\n",
       "  <thead>\n",
       "    <tr style=\"text-align: right;\">\n",
       "      <th></th>\n",
       "      <th>text</th>\n",
       "      <th>spam</th>\n",
       "    </tr>\n",
       "  </thead>\n",
       "  <tbody>\n",
       "    <tr>\n",
       "      <th>0</th>\n",
       "      <td>From 12a1mailbot1@web.de  Thu Aug 22 13:17:22 ...</td>\n",
       "      <td>1</td>\n",
       "    </tr>\n",
       "    <tr>\n",
       "      <th>1</th>\n",
       "      <td>From ilug-admin@linux.ie  Thu Aug 22 13:27:39 ...</td>\n",
       "      <td>1</td>\n",
       "    </tr>\n",
       "    <tr>\n",
       "      <th>2</th>\n",
       "      <td>From sabrina@mx3.1premio.com  Thu Aug 22 14:44...</td>\n",
       "      <td>1</td>\n",
       "    </tr>\n",
       "    <tr>\n",
       "      <th>3</th>\n",
       "      <td>From wsup@playful.com  Thu Aug 22 16:17:00 200...</td>\n",
       "      <td>1</td>\n",
       "    </tr>\n",
       "    <tr>\n",
       "      <th>4</th>\n",
       "      <td>From social-admin@linux.ie  Thu Aug 22 16:37:3...</td>\n",
       "      <td>1</td>\n",
       "    </tr>\n",
       "  </tbody>\n",
       "</table>\n",
       "</div>"
      ],
      "text/plain": [
       "                                                text  spam\n",
       "0  From 12a1mailbot1@web.de  Thu Aug 22 13:17:22 ...     1\n",
       "1  From ilug-admin@linux.ie  Thu Aug 22 13:27:39 ...     1\n",
       "2  From sabrina@mx3.1premio.com  Thu Aug 22 14:44...     1\n",
       "3  From wsup@playful.com  Thu Aug 22 16:17:00 200...     1\n",
       "4  From social-admin@linux.ie  Thu Aug 22 16:37:3...     1"
      ]
     },
     "execution_count": 22,
     "metadata": {},
     "output_type": "execute_result"
    }
   ],
   "source": [
    "spam_df.head()"
   ]
  },
  {
   "cell_type": "code",
   "execution_count": 23,
   "metadata": {},
   "outputs": [
    {
     "name": "stdout",
     "output_type": "stream",
     "text": [
      "spam\n",
      "0    2551\n",
      "1    1897\n",
      "Name: count, dtype: int64\n"
     ]
    }
   ],
   "source": [
    "print(spam_df['spam'].value_counts())"
   ]
  },
  {
   "cell_type": "markdown",
   "metadata": {},
   "source": [
    "# Data preparation"
   ]
  },
  {
   "cell_type": "markdown",
   "metadata": {},
   "source": [
    "## Train test split"
   ]
  },
  {
   "cell_type": "code",
   "execution_count": 24,
   "metadata": {},
   "outputs": [
    {
     "name": "stdout",
     "output_type": "stream",
     "text": [
      "Training set size: 3558\n",
      "Test set size: 890\n",
      "Training set spam ratio: spam\n",
      "0    0.573637\n",
      "1    0.426363\n",
      "Name: count, dtype: float64\n",
      "Test set spam ratio: spam\n",
      "0    0.573034\n",
      "1    0.426966\n",
      "Name: count, dtype: float64\n"
     ]
    }
   ],
   "source": [
    "from sklearn.model_selection import StratifiedShuffleSplit\n",
    "\n",
    "split = StratifiedShuffleSplit(n_splits=1, test_size=0.2, random_state=42)\n",
    "\n",
    "for train_index, test_index in split.split(spam_df, spam_df['spam']):\n",
    "    strat_train_set = spam_df.iloc[train_index]\n",
    "    strat_test_set = spam_df.iloc[test_index]\n",
    "\n",
    "print(f\"Training set size: {len(strat_train_set)}\")\n",
    "print(f\"Test set size: {len(strat_test_set)}\")\n",
    "print(f\"Training set spam ratio: {strat_train_set['spam'].value_counts() / len(strat_train_set)}\")\n",
    "print(f\"Test set spam ratio: {strat_test_set['spam'].value_counts() / len(strat_test_set)}\")"
   ]
  },
  {
   "cell_type": "markdown",
   "metadata": {},
   "source": [
    "## Feature engineering"
   ]
  },
  {
   "cell_type": "markdown",
   "metadata": {},
   "source": [
    "I am going to create two types of new features:\n",
    "- stats about the email: proportion of upper/lower chars, num of exclamations, question marks, etc\n",
    "- vector of processed words"
   ]
  },
  {
   "cell_type": "markdown",
   "metadata": {},
   "source": [
    "### Mail stats"
   ]
  },
  {
   "cell_type": "code",
   "execution_count": 80,
   "metadata": {},
   "outputs": [],
   "source": [
    "# Function to calc stats from sender\n",
    "import re\n",
    "def sender_stats(text):\n",
    "    sender = re.findall(r'From: (.*)', text)\n",
    "    if len(sender) == 0:\n",
    "        return np.array([0, 0, 0])\n",
    "    sender = sender[0]\n",
    "    if sender == '':\n",
    "        return np.array([0, 0, 0])\n",
    "    sender_num_rate = len([c for c in sender if c.isdigit()]) / len(sender)\n",
    "    sender_upper_rate = len([c for c in sender if c.isupper()]) / len(sender)\n",
    "    sender_exclamation_rate = len([c for c in sender if c == '!']) / len(sender)\n",
    "\n",
    "    return np.array([sender_num_rate, sender_upper_rate, sender_exclamation_rate])\n",
    "\n",
    "# Function to calc stats from subject\n",
    "\n",
    "CURRENCY_SYMBOLS = ['$', '£', '€', '¥', '₹', '₽', '₩', '₴', '₱', '₲', '₪', '₫', '₵', '₭', '₦', '₸', '₼', '₡', '₢', '₯', '₠', '₧', '₣', '₤', '₶', '₸', '₺', '₼', '₽', '₾', '₿']\n",
    "\n",
    "def subject_stats(text):\n",
    "    subject = re.findall(r'Subject: (.*)', text)\n",
    "    if len(subject) == 0:\n",
    "        return np.array([0, 0, 0, 0])\n",
    "    subject = subject[0]\n",
    "    if subject == '':\n",
    "        return np.array([0, 0, 0, 0])\n",
    "    subject_num_rate = len([c for c in subject if c.isdigit()]) / len(subject)\n",
    "    subject_upper_rate = len([c for c in subject if c.isupper()]) / len(subject)\n",
    "    subject_currency_rate = len([c for c in subject if c in CURRENCY_SYMBOLS]) / len(subject)\n",
    "    subject_exclamation_rate = len([c for c in subject if c == '!']) / len(subject)\n",
    "    \n",
    "    return np.array([subject_num_rate, subject_upper_rate, subject_currency_rate, subject_exclamation_rate])"
   ]
  },
  {
   "cell_type": "code",
   "execution_count": 26,
   "metadata": {},
   "outputs": [],
   "source": [
    "# Create a custom Transformer that will be called from a ColumnTransformer\n",
    "# This custom transformer will ingest a Pandas Df of dimmension (n, 1) and return a numpy array of dimmension (n, x), x = number of new features\n",
    "\n",
    "from sklearn.base import BaseEstimator, TransformerMixin\n",
    "class AttributesAdder(BaseEstimator, TransformerMixin):\n",
    "    def __init__(self):\n",
    "        pass\n",
    "    def fit(self, X, y=None):\n",
    "        return self\n",
    "    def transform(self, X, y=None):\n",
    "        # X is a Pandas Df of dimmension (n, 1)\n",
    "        # Each new feature is a np array of dimmension (n, 1)\n",
    "\n",
    "        # If len in words is 0, return np array of zeros\n",
    "        avg_word_len = X['text'].apply(lambda x: np.divide(len(x), len(x.split()), out=np.zeros_like(float(len(x))), where=len(x.split())!=0)).values.reshape(-1, 1)\n",
    "        rate_upper = X['text'].apply(lambda x: np.divide(len([c for c in x if c.isupper()]), len(x), out=np.zeros_like(float(len(x))), where=len(x)!=0)).values.reshape(-1, 1)\n",
    "        rate_exclamation = X['text'].apply(lambda x: np.divide(len([c for c in x if c == '!']), len(x), out=np.zeros_like(float(len(x))), where=len(x)!=0)).values.reshape(-1, 1)\n",
    "        rate_question = X['text'].apply(lambda x: np.divide(len([c for c in x if c == '?']), len(x), out=np.zeros_like(float(len(x))), where=len(x)!=0)).values.reshape(-1, 1)\n",
    "        sender_num_rate, sender_upper_rate, sender_exclamation_rate = np.array(list(X['text'].apply(sender_stats))).T\n",
    "        subject_num_rate, subject_upper_rate, subject_currency_rate, subject_exclamation_rate = np.array(list(X['text'].apply(subject_stats))).T\n",
    "\n",
    "\n",
    "        return np.c_[\n",
    "            avg_word_len, rate_upper, rate_exclamation, rate_question, \n",
    "            sender_num_rate, sender_upper_rate, sender_exclamation_rate,\n",
    "            subject_num_rate, subject_upper_rate, subject_currency_rate, subject_exclamation_rate\n",
    "        ]"
   ]
  },
  {
   "cell_type": "code",
   "execution_count": 27,
   "metadata": {},
   "outputs": [],
   "source": [
    "from sklearn.compose import ColumnTransformer\n",
    "from sklearn.pipeline import Pipeline\n",
    "from sklearn.preprocessing import StandardScaler\n",
    "\n",
    "stats_preprocessing_pipeline = Pipeline([\n",
    "    ('add_stats', AttributesAdder()),\n",
    "    ('std_scaler', StandardScaler())\n",
    "])\n",
    "\n",
    "# Create column transformer that will apply the stats_preprocessing_pipeline to the text column\n",
    "stats_column_transformer = ColumnTransformer([\n",
    "    ('stats', stats_preprocessing_pipeline, ['text'])\n",
    "], remainder='passthrough')"
   ]
  },
  {
   "cell_type": "code",
   "execution_count": 28,
   "metadata": {},
   "outputs": [
    {
     "name": "stdout",
     "output_type": "stream",
     "text": [
      "                                                   text  spam\n",
      "149   From lu5guxf4c4149@yahoo.com  Wed Aug 28 15:39...     1\n",
      "578   From 3cKq2amCZ@hotmail.com  Sat Jul  7 02:01:4...     1\n",
      "2491  From fork-admin@xent.com  Tue Sep 10 11:07:34 ...     0\n",
      "3085  From rpm-list-admin@freshrpms.net  Tue Sep 10 ...     0\n",
      "948   From malalad@mail.ru  Mon Jun 24 17:06:29 2002...     1\n",
      "[[ 0.63982221 -1.35847552  0.18919172 -1.16941675  1.72735711 -1.03842471\n",
      "   0.         -0.5        -0.35689306  0.         -0.5         1.        ]\n",
      " [-1.55690071  1.76074799  1.83077954  0.75570758  0.5442358   1.85861117\n",
      "   0.         -0.5        -1.03442844  0.          2.          1.        ]\n",
      " [-0.81336918 -0.14927985 -0.95702528  1.26097277 -0.75719764 -0.04328904\n",
      "   0.         -0.5         0.25583459  0.         -0.5         0.        ]\n",
      " [ 0.92804784 -0.1299362  -0.27493031  0.32215316 -0.75719764 -0.67443815\n",
      "   0.         -0.5        -0.67573324  0.         -0.5         0.        ]\n",
      " [ 0.80239984 -0.12305643 -0.78801568 -1.16941675 -0.75719764 -0.10245927\n",
      "   0.          2.          1.81122015  0.         -0.5         1.        ]]\n"
     ]
    }
   ],
   "source": [
    "# Test on sample data\n",
    "sample = strat_train_set.sample(5)\n",
    "print(sample)\n",
    "\n",
    "sample_pr = stats_column_transformer.fit_transform(sample)\n",
    "print(sample_pr)"
   ]
  },
  {
   "cell_type": "markdown",
   "metadata": {},
   "source": [
    "#### Word Vectorizer"
   ]
  },
  {
   "cell_type": "code",
   "execution_count": 29,
   "metadata": {},
   "outputs": [],
   "source": [
    "import re\n",
    "from nltk.stem import PorterStemmer\n",
    "\n",
    "def spamEmailPreprocessor(\n",
    "    email_text,\n",
    "    stop_words_set,\n",
    "    remove_html_header=True,\n",
    "    remove_punctuation=True,\n",
    "    stem=True\n",
    "):\n",
    "    currency_symbols = ['$', '£', '€', '¥', '₹', '₽', '₩', '₴', '₱', '₲', '₪', '₫', '₵', '₭', '₦', '₸', '₼', '₡', '₢', '₯', '₠', '₧', '₣', '₤', '₶', '₸', '₺', '₼', '₽', '₾', '₿']\n",
    "    punctuation_symbols = ['!', '\"', '#', '%', '&', \"'\", '(', ')', '*', '+', ',', '-', '.', '/', ':', ';', '<', '=', \n",
    "                   '>', '?', '@', '[', '\\\\', ']', '^', '_', '`', '{', '|', '}', '~']\n",
    "\n",
    "    if remove_html_header:\n",
    "        # HTML header is separated from the rest of the email by at least one blank line\n",
    "        split_email = email_text.split('\\n\\n', 1)\n",
    "        email_text = split_email[1] if len(split_email) > 1 else split_email[0]\n",
    "\n",
    "    email_text = email_text.lower()\n",
    "    email_text = ' '.join([word.lower() for word in email_text.split() if word.lower() not in stop_words_set])\n",
    "\n",
    "    if remove_punctuation:\n",
    "        for symbol in punctuation_symbols:\n",
    "            email_text = email_text.replace(symbol, ' ')\n",
    "\n",
    "    if stem:\n",
    "        stemmer = PorterStemmer()\n",
    "        email_text = ' '.join([stemmer.stem(word) for word in email_text.split()])\n",
    "\n",
    "    # Replace numbers with NUMBER xx or xx.xx\n",
    "    email_text = re.sub(r'\\d+\\.\\d+', ' NUMBER ', email_text)\n",
    "    email_text = re.sub(r'\\d+', ' NUMBER ', email_text)\n",
    "\n",
    "    # Replace currency symbols with CURRENCY\n",
    "    for symbol in currency_symbols:\n",
    "        email_text = email_text.replace(symbol, ' CURRENCY ')\n",
    "\n",
    "    # Replace email addresses with EMAIL\n",
    "    email_text = re.sub(r'\\S+@\\S+', ' EMAIL ', email_text)\n",
    "\n",
    "    # Replace URLs with URL\n",
    "    email_text = re.sub(r'http\\S+', ' URL ', email_text)\n",
    "\n",
    "    # Replace IP addresses with IP\n",
    "    email_text = re.sub(r'\\d{1,3}\\.\\d{1,3}\\.\\d{1,3}\\.\\d{1,3}', ' IP ', email_text)\n",
    "    \n",
    "    return email_text"
   ]
  },
  {
   "cell_type": "code",
   "execution_count": 30,
   "metadata": {},
   "outputs": [],
   "source": [
    "from nltk.corpus import stopwords\n",
    "stop_words_en = set(stopwords.words('english'))"
   ]
  },
  {
   "cell_type": "code",
   "execution_count": 31,
   "metadata": {},
   "outputs": [
    {
     "name": "stdout",
     "output_type": "stream",
     "text": [
      "got bad credit fix it ye fix credit report easi use softwar attorney fee simpli download way good credit get rid neg credit report easili nucredit avail two version nucredit individu use  CURRENCY  NUMBER   NUMBER  credit pro use  NUMBER  peopl  CURRENCY  NUMBER   NUMBER  follow link start repair credit today http  NUMBER   NUMBER   NUMBER   NUMBER  inbox NUMBER  wish remov mail list pleas click link indic address receiv origin email properli remov list mailto nucredit NUMBER  yahoo com subject remov\n"
     ]
    }
   ],
   "source": [
    "# Test on rand email\n",
    "rand_email = strat_train_set.sample(1, random_state=41)['text'].values[0]\n",
    "# Preprocess\n",
    "rand_email_pr = spamEmailPreprocessor(rand_email, stop_words_en)\n",
    "print(rand_email_pr)"
   ]
  },
  {
   "cell_type": "code",
   "execution_count": 32,
   "metadata": {},
   "outputs": [],
   "source": [
    "# Create a custom Transformer, which Transform will apply the spamEmailPreprocessor function to the text column\n",
    "\n",
    "stop_words_set = set(stopwords.words('english'))\n",
    "\n",
    "class EmailPreprocessorTransformer(BaseEstimator, TransformerMixin):\n",
    "    def __init__(self, remove_html_header=True, remove_punctuation=True, stem=True):\n",
    "        self.stop_words_set = stop_words_set\n",
    "        self.remove_html_header = remove_html_header\n",
    "        self.remove_punctuation = remove_punctuation\n",
    "        self.stem = stem\n",
    "\n",
    "    def fit(self, X, y=None):\n",
    "        return self\n",
    "\n",
    "    def transform(self, X, y=None):\n",
    "        X_pr = X['text'].apply(\n",
    "            lambda x: spamEmailPreprocessor(\n",
    "                x, \n",
    "                self.stop_words_set, \n",
    "                self.remove_html_header, \n",
    "                self.remove_punctuation, \n",
    "                self.stem\n",
    "            )\n",
    "        ).values.reshape(-1, 1)\n",
    "\n",
    "        return X_pr"
   ]
  },
  {
   "cell_type": "code",
   "execution_count": 33,
   "metadata": {},
   "outputs": [],
   "source": [
    "# Vectorizer custom transformer\n",
    "\n",
    "from sklearn.feature_extraction.text import CountVectorizer\n",
    "\n",
    "class VectorizerTransformer(BaseEstimator, TransformerMixin):\n",
    "    def __init__(self, max_features=1000):\n",
    "        self.max_features = max_features\n",
    "\n",
    "    def fit(self, X, y=None):\n",
    "        self.vectorizer = CountVectorizer(max_features=self.max_features)\n",
    "        self.vectorizer.fit(X.ravel())\n",
    "        return self\n",
    "\n",
    "    def transform(self, X, y=None):\n",
    "        return self.vectorizer.transform(X.ravel())"
   ]
  },
  {
   "cell_type": "code",
   "execution_count": 34,
   "metadata": {},
   "outputs": [],
   "source": [
    "preprocessor = EmailPreprocessorTransformer()\n",
    "\n",
    "text_pipeline = Pipeline([\n",
    "    ('preprocessor', preprocessor),\n",
    "    ('vectorizer', VectorizerTransformer())\n",
    "])"
   ]
  },
  {
   "cell_type": "code",
   "execution_count": 62,
   "metadata": {},
   "outputs": [
    {
     "name": "stdout",
     "output_type": "stream",
     "text": [
      "(5, 699)\n"
     ]
    }
   ],
   "source": [
    "# Final pipeline\n",
    "\n",
    "from sklearn.pipeline import FeatureUnion\n",
    "\n",
    "full_pipeline = ColumnTransformer([\n",
    "    ('stats', stats_preprocessing_pipeline, ['text']),\n",
    "    ('text', text_pipeline, ['text'])\n",
    "], remainder='drop')\n",
    "\n",
    "# Test on sample data\n",
    "sample = strat_train_set.sample(5)\n",
    "# print(sample)\n",
    "\n",
    "sample_pr = full_pipeline.fit_transform(sample)\n",
    "print(sample_pr.shape)"
   ]
  },
  {
   "cell_type": "markdown",
   "metadata": {},
   "source": [
    "# Model training"
   ]
  },
  {
   "cell_type": "markdown",
   "metadata": {},
   "source": [
    "## Choosing a classifier"
   ]
  },
  {
   "cell_type": "code",
   "execution_count": 63,
   "metadata": {},
   "outputs": [
    {
     "data": {
      "text/plain": [
       "(4448, 2)"
      ]
     },
     "execution_count": 63,
     "metadata": {},
     "output_type": "execute_result"
    }
   ],
   "source": [
    "# Number of samples\n",
    "spam_df.shape"
   ]
  },
  {
   "cell_type": "code",
   "execution_count": 64,
   "metadata": {},
   "outputs": [],
   "source": [
    "y_train = strat_train_set['spam']\n",
    "X_train = strat_train_set.drop('spam', axis=1)\n",
    "# Print shape and type\n",
    "print(X_train.shape)\n",
    "print(type(X_train))"
   ]
  },
  {
   "cell_type": "code",
   "execution_count": 82,
   "metadata": {},
   "outputs": [],
   "source": [
    "strat_test_set.head()\n",
    "\n",
    "y_test_pr = full_pipeline.transform(strat_test_set)\n",
    "\n",
    "X_test = strat_test_set.drop('spam', axis=1)\n",
    "y_test = strat_test_set['spam']"
   ]
  },
  {
   "cell_type": "markdown",
   "metadata": {},
   "source": [
    "### Linear SVC"
   ]
  },
  {
   "cell_type": "markdown",
   "metadata": {},
   "source": [
    "Linear SVC -> Naive Bayes"
   ]
  },
  {
   "cell_type": "code",
   "execution_count": 67,
   "metadata": {},
   "outputs": [
    {
     "name": "stdout",
     "output_type": "stream",
     "text": [
      "Fitting 3 folds for each of 160 candidates, totalling 480 fits\n"
     ]
    },
    {
     "data": {
      "text/html": [
       "<style>#sk-container-id-1 {color: black;}#sk-container-id-1 pre{padding: 0;}#sk-container-id-1 div.sk-toggleable {background-color: white;}#sk-container-id-1 label.sk-toggleable__label {cursor: pointer;display: block;width: 100%;margin-bottom: 0;padding: 0.3em;box-sizing: border-box;text-align: center;}#sk-container-id-1 label.sk-toggleable__label-arrow:before {content: \"▸\";float: left;margin-right: 0.25em;color: #696969;}#sk-container-id-1 label.sk-toggleable__label-arrow:hover:before {color: black;}#sk-container-id-1 div.sk-estimator:hover label.sk-toggleable__label-arrow:before {color: black;}#sk-container-id-1 div.sk-toggleable__content {max-height: 0;max-width: 0;overflow: hidden;text-align: left;background-color: #f0f8ff;}#sk-container-id-1 div.sk-toggleable__content pre {margin: 0.2em;color: black;border-radius: 0.25em;background-color: #f0f8ff;}#sk-container-id-1 input.sk-toggleable__control:checked~div.sk-toggleable__content {max-height: 200px;max-width: 100%;overflow: auto;}#sk-container-id-1 input.sk-toggleable__control:checked~label.sk-toggleable__label-arrow:before {content: \"▾\";}#sk-container-id-1 div.sk-estimator input.sk-toggleable__control:checked~label.sk-toggleable__label {background-color: #d4ebff;}#sk-container-id-1 div.sk-label input.sk-toggleable__control:checked~label.sk-toggleable__label {background-color: #d4ebff;}#sk-container-id-1 input.sk-hidden--visually {border: 0;clip: rect(1px 1px 1px 1px);clip: rect(1px, 1px, 1px, 1px);height: 1px;margin: -1px;overflow: hidden;padding: 0;position: absolute;width: 1px;}#sk-container-id-1 div.sk-estimator {font-family: monospace;background-color: #f0f8ff;border: 1px dotted black;border-radius: 0.25em;box-sizing: border-box;margin-bottom: 0.5em;}#sk-container-id-1 div.sk-estimator:hover {background-color: #d4ebff;}#sk-container-id-1 div.sk-parallel-item::after {content: \"\";width: 100%;border-bottom: 1px solid gray;flex-grow: 1;}#sk-container-id-1 div.sk-label:hover label.sk-toggleable__label {background-color: #d4ebff;}#sk-container-id-1 div.sk-serial::before {content: \"\";position: absolute;border-left: 1px solid gray;box-sizing: border-box;top: 0;bottom: 0;left: 50%;z-index: 0;}#sk-container-id-1 div.sk-serial {display: flex;flex-direction: column;align-items: center;background-color: white;padding-right: 0.2em;padding-left: 0.2em;position: relative;}#sk-container-id-1 div.sk-item {position: relative;z-index: 1;}#sk-container-id-1 div.sk-parallel {display: flex;align-items: stretch;justify-content: center;background-color: white;position: relative;}#sk-container-id-1 div.sk-item::before, #sk-container-id-1 div.sk-parallel-item::before {content: \"\";position: absolute;border-left: 1px solid gray;box-sizing: border-box;top: 0;bottom: 0;left: 50%;z-index: -1;}#sk-container-id-1 div.sk-parallel-item {display: flex;flex-direction: column;z-index: 1;position: relative;background-color: white;}#sk-container-id-1 div.sk-parallel-item:first-child::after {align-self: flex-end;width: 50%;}#sk-container-id-1 div.sk-parallel-item:last-child::after {align-self: flex-start;width: 50%;}#sk-container-id-1 div.sk-parallel-item:only-child::after {width: 0;}#sk-container-id-1 div.sk-dashed-wrapped {border: 1px dashed gray;margin: 0 0.4em 0.5em 0.4em;box-sizing: border-box;padding-bottom: 0.4em;background-color: white;}#sk-container-id-1 div.sk-label label {font-family: monospace;font-weight: bold;display: inline-block;line-height: 1.2em;}#sk-container-id-1 div.sk-label-container {text-align: center;}#sk-container-id-1 div.sk-container {/* jupyter's `normalize.less` sets `[hidden] { display: none; }` but bootstrap.min.css set `[hidden] { display: none !important; }` so we also need the `!important` here to be able to override the default hidden behavior on the sphinx rendered scikit-learn.org. See: https://github.com/scikit-learn/scikit-learn/issues/21755 */display: inline-block !important;position: relative;}#sk-container-id-1 div.sk-text-repr-fallback {display: none;}</style><div id=\"sk-container-id-1\" class=\"sk-top-container\"><div class=\"sk-text-repr-fallback\"><pre>GridSearchCV(cv=3,\n",
       "             estimator=Pipeline(steps=[(&#x27;preprocessing&#x27;,\n",
       "                                        ColumnTransformer(transformers=[(&#x27;stats&#x27;,\n",
       "                                                                         Pipeline(steps=[(&#x27;add_stats&#x27;,\n",
       "                                                                                          AttributesAdder()),\n",
       "                                                                                         (&#x27;std_scaler&#x27;,\n",
       "                                                                                          StandardScaler())]),\n",
       "                                                                         [&#x27;text&#x27;]),\n",
       "                                                                        (&#x27;text&#x27;,\n",
       "                                                                         Pipeline(steps=[(&#x27;preprocessor&#x27;,\n",
       "                                                                                          EmailPreprocessorTransformer()),\n",
       "                                                                                         (&#x27;vectorizer&#x27;,\n",
       "                                                                                          VectorizerTransformer())]),\n",
       "                                                                         [&#x27;text&#x27;])])),\n",
       "                                       (&#x27;svc&#x27;, SVC())]),\n",
       "             n_jobs=-1,\n",
       "             para...id=[{&#x27;preprocessing__text__preprocessor__remove_html_header&#x27;: [True,\n",
       "                                                                                    False],\n",
       "                          &#x27;preprocessing__text__preprocessor__remove_punctuation&#x27;: [True,\n",
       "                                                                                    False],\n",
       "                          &#x27;preprocessing__text__preprocessor__stem&#x27;: [True,\n",
       "                                                                      False],\n",
       "                          &#x27;preprocessing__text__vectorizer__max_features&#x27;: [1000,\n",
       "                                                                            2000],\n",
       "                          &#x27;svc__C&#x27;: [0.1, 1, 10, 100, 1000],\n",
       "                          &#x27;svc__kernel&#x27;: [&#x27;linear&#x27;, &#x27;rbf&#x27;]}],\n",
       "             scoring=&#x27;accuracy&#x27;, verbose=10)</pre><b>In a Jupyter environment, please rerun this cell to show the HTML representation or trust the notebook. <br />On GitHub, the HTML representation is unable to render, please try loading this page with nbviewer.org.</b></div><div class=\"sk-container\" hidden><div class=\"sk-item sk-dashed-wrapped\"><div class=\"sk-label-container\"><div class=\"sk-label sk-toggleable\"><input class=\"sk-toggleable__control sk-hidden--visually\" id=\"sk-estimator-id-1\" type=\"checkbox\" ><label for=\"sk-estimator-id-1\" class=\"sk-toggleable__label sk-toggleable__label-arrow\">GridSearchCV</label><div class=\"sk-toggleable__content\"><pre>GridSearchCV(cv=3,\n",
       "             estimator=Pipeline(steps=[(&#x27;preprocessing&#x27;,\n",
       "                                        ColumnTransformer(transformers=[(&#x27;stats&#x27;,\n",
       "                                                                         Pipeline(steps=[(&#x27;add_stats&#x27;,\n",
       "                                                                                          AttributesAdder()),\n",
       "                                                                                         (&#x27;std_scaler&#x27;,\n",
       "                                                                                          StandardScaler())]),\n",
       "                                                                         [&#x27;text&#x27;]),\n",
       "                                                                        (&#x27;text&#x27;,\n",
       "                                                                         Pipeline(steps=[(&#x27;preprocessor&#x27;,\n",
       "                                                                                          EmailPreprocessorTransformer()),\n",
       "                                                                                         (&#x27;vectorizer&#x27;,\n",
       "                                                                                          VectorizerTransformer())]),\n",
       "                                                                         [&#x27;text&#x27;])])),\n",
       "                                       (&#x27;svc&#x27;, SVC())]),\n",
       "             n_jobs=-1,\n",
       "             para...id=[{&#x27;preprocessing__text__preprocessor__remove_html_header&#x27;: [True,\n",
       "                                                                                    False],\n",
       "                          &#x27;preprocessing__text__preprocessor__remove_punctuation&#x27;: [True,\n",
       "                                                                                    False],\n",
       "                          &#x27;preprocessing__text__preprocessor__stem&#x27;: [True,\n",
       "                                                                      False],\n",
       "                          &#x27;preprocessing__text__vectorizer__max_features&#x27;: [1000,\n",
       "                                                                            2000],\n",
       "                          &#x27;svc__C&#x27;: [0.1, 1, 10, 100, 1000],\n",
       "                          &#x27;svc__kernel&#x27;: [&#x27;linear&#x27;, &#x27;rbf&#x27;]}],\n",
       "             scoring=&#x27;accuracy&#x27;, verbose=10)</pre></div></div></div><div class=\"sk-parallel\"><div class=\"sk-parallel-item\"><div class=\"sk-item\"><div class=\"sk-label-container\"><div class=\"sk-label sk-toggleable\"><input class=\"sk-toggleable__control sk-hidden--visually\" id=\"sk-estimator-id-2\" type=\"checkbox\" ><label for=\"sk-estimator-id-2\" class=\"sk-toggleable__label sk-toggleable__label-arrow\">estimator: Pipeline</label><div class=\"sk-toggleable__content\"><pre>Pipeline(steps=[(&#x27;preprocessing&#x27;,\n",
       "                 ColumnTransformer(transformers=[(&#x27;stats&#x27;,\n",
       "                                                  Pipeline(steps=[(&#x27;add_stats&#x27;,\n",
       "                                                                   AttributesAdder()),\n",
       "                                                                  (&#x27;std_scaler&#x27;,\n",
       "                                                                   StandardScaler())]),\n",
       "                                                  [&#x27;text&#x27;]),\n",
       "                                                 (&#x27;text&#x27;,\n",
       "                                                  Pipeline(steps=[(&#x27;preprocessor&#x27;,\n",
       "                                                                   EmailPreprocessorTransformer()),\n",
       "                                                                  (&#x27;vectorizer&#x27;,\n",
       "                                                                   VectorizerTransformer())]),\n",
       "                                                  [&#x27;text&#x27;])])),\n",
       "                (&#x27;svc&#x27;, SVC())])</pre></div></div></div><div class=\"sk-serial\"><div class=\"sk-item\"><div class=\"sk-serial\"><div class=\"sk-item sk-dashed-wrapped\"><div class=\"sk-label-container\"><div class=\"sk-label sk-toggleable\"><input class=\"sk-toggleable__control sk-hidden--visually\" id=\"sk-estimator-id-3\" type=\"checkbox\" ><label for=\"sk-estimator-id-3\" class=\"sk-toggleable__label sk-toggleable__label-arrow\">preprocessing: ColumnTransformer</label><div class=\"sk-toggleable__content\"><pre>ColumnTransformer(transformers=[(&#x27;stats&#x27;,\n",
       "                                 Pipeline(steps=[(&#x27;add_stats&#x27;,\n",
       "                                                  AttributesAdder()),\n",
       "                                                 (&#x27;std_scaler&#x27;,\n",
       "                                                  StandardScaler())]),\n",
       "                                 [&#x27;text&#x27;]),\n",
       "                                (&#x27;text&#x27;,\n",
       "                                 Pipeline(steps=[(&#x27;preprocessor&#x27;,\n",
       "                                                  EmailPreprocessorTransformer()),\n",
       "                                                 (&#x27;vectorizer&#x27;,\n",
       "                                                  VectorizerTransformer())]),\n",
       "                                 [&#x27;text&#x27;])])</pre></div></div></div><div class=\"sk-parallel\"><div class=\"sk-parallel-item\"><div class=\"sk-item\"><div class=\"sk-label-container\"><div class=\"sk-label sk-toggleable\"><input class=\"sk-toggleable__control sk-hidden--visually\" id=\"sk-estimator-id-4\" type=\"checkbox\" ><label for=\"sk-estimator-id-4\" class=\"sk-toggleable__label sk-toggleable__label-arrow\">stats</label><div class=\"sk-toggleable__content\"><pre>[&#x27;text&#x27;]</pre></div></div></div><div class=\"sk-serial\"><div class=\"sk-item\"><div class=\"sk-serial\"><div class=\"sk-item\"><div class=\"sk-estimator sk-toggleable\"><input class=\"sk-toggleable__control sk-hidden--visually\" id=\"sk-estimator-id-5\" type=\"checkbox\" ><label for=\"sk-estimator-id-5\" class=\"sk-toggleable__label sk-toggleable__label-arrow\">AttributesAdder</label><div class=\"sk-toggleable__content\"><pre>AttributesAdder()</pre></div></div></div><div class=\"sk-item\"><div class=\"sk-estimator sk-toggleable\"><input class=\"sk-toggleable__control sk-hidden--visually\" id=\"sk-estimator-id-6\" type=\"checkbox\" ><label for=\"sk-estimator-id-6\" class=\"sk-toggleable__label sk-toggleable__label-arrow\">StandardScaler</label><div class=\"sk-toggleable__content\"><pre>StandardScaler()</pre></div></div></div></div></div></div></div></div><div class=\"sk-parallel-item\"><div class=\"sk-item\"><div class=\"sk-label-container\"><div class=\"sk-label sk-toggleable\"><input class=\"sk-toggleable__control sk-hidden--visually\" id=\"sk-estimator-id-7\" type=\"checkbox\" ><label for=\"sk-estimator-id-7\" class=\"sk-toggleable__label sk-toggleable__label-arrow\">text</label><div class=\"sk-toggleable__content\"><pre>[&#x27;text&#x27;]</pre></div></div></div><div class=\"sk-serial\"><div class=\"sk-item\"><div class=\"sk-serial\"><div class=\"sk-item\"><div class=\"sk-estimator sk-toggleable\"><input class=\"sk-toggleable__control sk-hidden--visually\" id=\"sk-estimator-id-8\" type=\"checkbox\" ><label for=\"sk-estimator-id-8\" class=\"sk-toggleable__label sk-toggleable__label-arrow\">EmailPreprocessorTransformer</label><div class=\"sk-toggleable__content\"><pre>EmailPreprocessorTransformer()</pre></div></div></div><div class=\"sk-item\"><div class=\"sk-estimator sk-toggleable\"><input class=\"sk-toggleable__control sk-hidden--visually\" id=\"sk-estimator-id-9\" type=\"checkbox\" ><label for=\"sk-estimator-id-9\" class=\"sk-toggleable__label sk-toggleable__label-arrow\">VectorizerTransformer</label><div class=\"sk-toggleable__content\"><pre>VectorizerTransformer()</pre></div></div></div></div></div></div></div></div></div></div><div class=\"sk-item\"><div class=\"sk-estimator sk-toggleable\"><input class=\"sk-toggleable__control sk-hidden--visually\" id=\"sk-estimator-id-10\" type=\"checkbox\" ><label for=\"sk-estimator-id-10\" class=\"sk-toggleable__label sk-toggleable__label-arrow\">SVC</label><div class=\"sk-toggleable__content\"><pre>SVC()</pre></div></div></div></div></div></div></div></div></div></div></div></div>"
      ],
      "text/plain": [
       "GridSearchCV(cv=3,\n",
       "             estimator=Pipeline(steps=[('preprocessing',\n",
       "                                        ColumnTransformer(transformers=[('stats',\n",
       "                                                                         Pipeline(steps=[('add_stats',\n",
       "                                                                                          AttributesAdder()),\n",
       "                                                                                         ('std_scaler',\n",
       "                                                                                          StandardScaler())]),\n",
       "                                                                         ['text']),\n",
       "                                                                        ('text',\n",
       "                                                                         Pipeline(steps=[('preprocessor',\n",
       "                                                                                          EmailPreprocessorTransformer()),\n",
       "                                                                                         ('vectorizer',\n",
       "                                                                                          VectorizerTransformer())]),\n",
       "                                                                         ['text'])])),\n",
       "                                       ('svc', SVC())]),\n",
       "             n_jobs=-1,\n",
       "             para...id=[{'preprocessing__text__preprocessor__remove_html_header': [True,\n",
       "                                                                                    False],\n",
       "                          'preprocessing__text__preprocessor__remove_punctuation': [True,\n",
       "                                                                                    False],\n",
       "                          'preprocessing__text__preprocessor__stem': [True,\n",
       "                                                                      False],\n",
       "                          'preprocessing__text__vectorizer__max_features': [1000,\n",
       "                                                                            2000],\n",
       "                          'svc__C': [0.1, 1, 10, 100, 1000],\n",
       "                          'svc__kernel': ['linear', 'rbf']}],\n",
       "             scoring='accuracy', verbose=10)"
      ]
     },
     "execution_count": 67,
     "metadata": {},
     "output_type": "execute_result"
    }
   ],
   "source": [
    "# SVC Classifier with GridSearchCV\n",
    "\n",
    "from sklearn.svm import SVC\n",
    "from sklearn.model_selection import GridSearchCV\n",
    "\n",
    "pipeline_with_svc = Pipeline([\n",
    "    ('preprocessing', full_pipeline),\n",
    "    ('svc', SVC())\n",
    "])\n",
    "\n",
    "param_grid = [\n",
    "    {\n",
    "        'preprocessing__text__preprocessor__remove_html_header': [True, False], \n",
    "        'preprocessing__text__preprocessor__remove_punctuation': [True, False], \n",
    "        'preprocessing__text__preprocessor__stem': [True, False], \n",
    "        'preprocessing__text__vectorizer__max_features': [1e3, 1e4, 1e5, 1e6], \n",
    "        'svc__kernel': ['linear', 'rbf'], \n",
    "        'svc__C': [1e-4, 1e-3, 1e-2, 1e-1]\n",
    "    }\n",
    "]\n",
    "\n",
    "svc_clf = SVC()\n",
    "\n",
    "grid_search = GridSearchCV(pipeline_with_svc, param_grid, cv=3, scoring='accuracy', verbose=10, n_jobs=-1)\n",
    "\n",
    "grid_search.fit(X_train, y_train)"
   ]
  },
  {
   "cell_type": "code",
   "execution_count": 68,
   "metadata": {},
   "outputs": [
    {
     "data": {
      "text/plain": [
       "{'preprocessing__text__preprocessor__remove_html_header': False,\n",
       " 'preprocessing__text__preprocessor__remove_punctuation': True,\n",
       " 'preprocessing__text__preprocessor__stem': True,\n",
       " 'preprocessing__text__vectorizer__max_features': 2000,\n",
       " 'svc__C': 0.1,\n",
       " 'svc__kernel': 'linear'}"
      ]
     },
     "execution_count": 68,
     "metadata": {},
     "output_type": "execute_result"
    }
   ],
   "source": [
    "grid_search.best_params_"
   ]
  },
  {
   "cell_type": "markdown",
   "metadata": {},
   "source": [
    "#### Model evaluation on test"
   ]
  },
  {
   "cell_type": "code",
   "execution_count": 72,
   "metadata": {},
   "outputs": [
    {
     "data": {
      "text/html": [
       "<div>\n",
       "<style scoped>\n",
       "    .dataframe tbody tr th:only-of-type {\n",
       "        vertical-align: middle;\n",
       "    }\n",
       "\n",
       "    .dataframe tbody tr th {\n",
       "        vertical-align: top;\n",
       "    }\n",
       "\n",
       "    .dataframe thead th {\n",
       "        text-align: right;\n",
       "    }\n",
       "</style>\n",
       "<table border=\"1\" class=\"dataframe\">\n",
       "  <thead>\n",
       "    <tr style=\"text-align: right;\">\n",
       "      <th></th>\n",
       "      <th>text</th>\n",
       "      <th>spam</th>\n",
       "    </tr>\n",
       "  </thead>\n",
       "  <tbody>\n",
       "    <tr>\n",
       "      <th>2650</th>\n",
       "      <td>From fork-admin@xent.com  Sun Sep 22 14:11:39 ...</td>\n",
       "      <td>0</td>\n",
       "    </tr>\n",
       "    <tr>\n",
       "      <th>1080</th>\n",
       "      <td>From andramariehuaa@mail.com  Mon Jun 24 17:52...</td>\n",
       "      <td>1</td>\n",
       "    </tr>\n",
       "    <tr>\n",
       "      <th>2852</th>\n",
       "      <td>From fork-admin@xent.com  Sat Oct  5 17:22:20 ...</td>\n",
       "      <td>0</td>\n",
       "    </tr>\n",
       "    <tr>\n",
       "      <th>663</th>\n",
       "      <td>From hpr-2@solarisexpert.com  Mon Jun 24 17:41...</td>\n",
       "      <td>1</td>\n",
       "    </tr>\n",
       "    <tr>\n",
       "      <th>313</th>\n",
       "      <td>From iiu-admin@taint.org  Sun Sep 15 12:22:02 ...</td>\n",
       "      <td>1</td>\n",
       "    </tr>\n",
       "  </tbody>\n",
       "</table>\n",
       "</div>"
      ],
      "text/plain": [
       "                                                   text  spam\n",
       "2650  From fork-admin@xent.com  Sun Sep 22 14:11:39 ...     0\n",
       "1080  From andramariehuaa@mail.com  Mon Jun 24 17:52...     1\n",
       "2852  From fork-admin@xent.com  Sat Oct  5 17:22:20 ...     0\n",
       "663   From hpr-2@solarisexpert.com  Mon Jun 24 17:41...     1\n",
       "313   From iiu-admin@taint.org  Sun Sep 15 12:22:02 ...     1"
      ]
     },
     "execution_count": 72,
     "metadata": {},
     "output_type": "execute_result"
    }
   ],
   "source": [
    "# Test\n",
    "strat_test_set.head()"
   ]
  },
  {
   "cell_type": "code",
   "execution_count": 83,
   "metadata": {},
   "outputs": [
    {
     "data": {
      "text/plain": [
       "array([[509,   1],\n",
       "       [  4, 376]], dtype=int64)"
      ]
     },
     "execution_count": 83,
     "metadata": {},
     "output_type": "execute_result"
    }
   ],
   "source": [
    "# Confussion matrix\n",
    "from sklearn.metrics import confusion_matrix\n",
    "\n",
    "y_test_pred = grid_search.predict(X_test)\n",
    "\n",
    "confusion_matrix(y_test, y_test_pred)"
   ]
  },
  {
   "cell_type": "code",
   "execution_count": 84,
   "metadata": {},
   "outputs": [
    {
     "name": "stdout",
     "output_type": "stream",
     "text": [
      "Precision: 0.9973474801061007\n",
      "Recall: 0.9894736842105263\n"
     ]
    }
   ],
   "source": [
    "# Precision and recall\n",
    "\n",
    "from sklearn.metrics import precision_score, recall_score\n",
    "\n",
    "print(f\"Precision: {precision_score(y_test, y_test_pred)}\")\n",
    "print(f\"Recall: {recall_score(y_test, y_test_pred)}\")"
   ]
  },
  {
   "cell_type": "markdown",
   "metadata": {},
   "source": [
    "We don't need to tune the precision/recall tradeoff just because both precision and recall are very high."
   ]
  },
  {
   "cell_type": "code",
   "execution_count": 90,
   "metadata": {},
   "outputs": [
    {
     "data": {
      "image/png": "[encoded data removed]",
      "text/plain": [
       "<Figure size 400x200 with 1 Axes>"
      ]
     },
     "metadata": {},
     "output_type": "display_data"
    }
   ],
   "source": [
    "# Precision vs recall curve\n",
    "\n",
    "from sklearn.metrics import precision_recall_curve\n",
    "import matplotlib.pyplot as plt\n",
    "\n",
    "y_scores = grid_search.decision_function(X_test)\n",
    "\n",
    "precisions, recalls, thresholds = precision_recall_curve(y_test, y_scores)\n",
    "\n",
    "def plot_precision_recall_vs_threshold(precisions, recalls, thresholds):\n",
    "    plt.figure(figsize=(4, 2))\n",
    "    plt.plot(thresholds, precisions[:-1], 'b--', label='Precision')\n",
    "    plt.plot(thresholds, recalls[:-1], 'g-', label='Recall')\n",
    "    plt.xlabel('Threshold')\n",
    "    plt.legend(loc='center right')\n",
    "    plt.ylim([0, 1])\n",
    "\n",
    "plot_precision_recall_vs_threshold(precisions, recalls, thresholds)\n"
   ]
  },
  {
   "cell_type": "code",
   "execution_count": 88,
   "metadata": {},
   "outputs": [
    {
     "data": {
      "image/png": "[encoded data removed]",
      "text/plain": [
       "<Figure size 200x300 with 1 Axes>"
      ]
     },
     "metadata": {},
     "output_type": "display_data"
    }
   ],
   "source": [
    "# Precision and recall vs threshold curve\n",
    "\n",
    "def plot_precision_vs_recall(precisions, recalls):\n",
    "    plt.figure(figsize=(2, 3))\n",
    "    plt.plot(recalls, precisions, 'b-')\n",
    "    plt.xlabel('Recall')\n",
    "    plt.ylabel('Precision')\n",
    "    plt.ylim([0, 1])\n",
    "\n",
    "plot_precision_vs_recall(precisions, recalls)\n"
   ]
  },
  {
   "cell_type": "code",
   "execution_count": 93,
   "metadata": {},
   "outputs": [
    {
     "name": "stdout",
     "output_type": "stream",
     "text": [
      "ROC AUC score: 0.9999690402476781\n"
     ]
    },
    {
     "data": {
      "image/png": "[encoded data removed]",
      "text/plain": [
       "<Figure size 300x300 with 1 Axes>"
      ]
     },
     "metadata": {},
     "output_type": "display_data"
    }
   ],
   "source": [
    "# ROC curve\n",
    "\n",
    "from sklearn.metrics import roc_curve\n",
    "from sklearn.metrics import roc_auc_score\n",
    "\n",
    "fpr, tpr, thresholds = roc_curve(y_test, y_scores)\n",
    "\n",
    "def plot_roc_curve(fpr, tpr, label=None):\n",
    "    plt.figure(figsize=(3, 3))\n",
    "    plt.plot(fpr, tpr, linewidth=2, label=label)\n",
    "    plt.plot([0, 1], [0, 1], 'k--')\n",
    "    plt.xlabel('False positive rate')\n",
    "    plt.ylabel('True positive rate')\n",
    "\n",
    "plot_roc_curve(fpr, tpr)\n",
    "\n",
    "# ROC AUC score\n",
    "roc_score = roc_auc_score(y_test, y_scores)\n",
    "print(f\"ROC AUC score: {roc_score}\")"
   ]
  },
  {
   "cell_type": "code",
   "execution_count": 94,
   "metadata": {},
   "outputs": [
    {
     "data": {
      "text/plain": [
       "0.9943791279197489"
      ]
     },
     "execution_count": 94,
     "metadata": {},
     "output_type": "execute_result"
    }
   ],
   "source": [
    "# F1 weighted score\n",
    "from sklearn.metrics import f1_score\n",
    "\n",
    "f1_score(y_test, y_test_pred, average='weighted')"
   ]
  },
  {
   "cell_type": "markdown",
   "metadata": {},
   "source": [
    "#### Feature importance"
   ]
  }
 ],
 "metadata": {
  "kernelspec": {
   "display_name": "ml",
   "language": "python",
   "name": "python3"
  },
  "language_info": {
   "codemirror_mode": {
    "name": "ipython",
    "version": 3
   },
   "file_extension": ".py",
   "mimetype": "text/x-python",
   "name": "python",
   "nbconvert_exporter": "python",
   "pygments_lexer": "ipython3",
   "version": "3.10.12"
  },
  "orig_nbformat": 4
 },
 "nbformat": 4,
 "nbformat_minor": 2
}
