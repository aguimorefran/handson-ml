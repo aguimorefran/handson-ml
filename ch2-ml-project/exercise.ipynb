{
 "cells": [
  {
   "cell_type": "markdown",
   "metadata": {},
   "source": [
    "# Data Science Salaries 2023"
   ]
  },
  {
   "cell_type": "markdown",
   "metadata": {},
   "source": [
    "## Download the data\n",
    "\n",
    "https://www.kaggle.com/datasets/arnabchaki/data-science-salaries-2023"
   ]
  },
  {
   "cell_type": "code",
   "execution_count": 49,
   "metadata": {},
   "outputs": [],
   "source": [
    "import pandas as pd\n",
    "import numpy as np\n",
    "\n",
    "DATASET_PATH = \"./datasets/salaries/ds_salaries.csv\"\n",
    "\n",
    "salaries = pd.read_csv(DATASET_PATH)"
   ]
  },
  {
   "cell_type": "markdown",
   "metadata": {},
   "source": [
    "## Data structure"
   ]
  },
  {
   "cell_type": "code",
   "execution_count": 50,
   "metadata": {},
   "outputs": [
    {
     "data": {
      "text/html": [
       "<div>\n",
       "<style scoped>\n",
       "    .dataframe tbody tr th:only-of-type {\n",
       "        vertical-align: middle;\n",
       "    }\n",
       "\n",
       "    .dataframe tbody tr th {\n",
       "        vertical-align: top;\n",
       "    }\n",
       "\n",
       "    .dataframe thead th {\n",
       "        text-align: right;\n",
       "    }\n",
       "</style>\n",
       "<table border=\"1\" class=\"dataframe\">\n",
       "  <thead>\n",
       "    <tr style=\"text-align: right;\">\n",
       "      <th></th>\n",
       "      <th>work_year</th>\n",
       "      <th>experience_level</th>\n",
       "      <th>employment_type</th>\n",
       "      <th>job_title</th>\n",
       "      <th>salary</th>\n",
       "      <th>salary_currency</th>\n",
       "      <th>salary_in_usd</th>\n",
       "      <th>employee_residence</th>\n",
       "      <th>remote_ratio</th>\n",
       "      <th>company_location</th>\n",
       "      <th>company_size</th>\n",
       "    </tr>\n",
       "  </thead>\n",
       "  <tbody>\n",
       "    <tr>\n",
       "      <th>0</th>\n",
       "      <td>2023</td>\n",
       "      <td>SE</td>\n",
       "      <td>FT</td>\n",
       "      <td>Principal Data Scientist</td>\n",
       "      <td>80000</td>\n",
       "      <td>EUR</td>\n",
       "      <td>85847</td>\n",
       "      <td>ES</td>\n",
       "      <td>100</td>\n",
       "      <td>ES</td>\n",
       "      <td>L</td>\n",
       "    </tr>\n",
       "    <tr>\n",
       "      <th>1</th>\n",
       "      <td>2023</td>\n",
       "      <td>MI</td>\n",
       "      <td>CT</td>\n",
       "      <td>ML Engineer</td>\n",
       "      <td>30000</td>\n",
       "      <td>USD</td>\n",
       "      <td>30000</td>\n",
       "      <td>US</td>\n",
       "      <td>100</td>\n",
       "      <td>US</td>\n",
       "      <td>S</td>\n",
       "    </tr>\n",
       "    <tr>\n",
       "      <th>2</th>\n",
       "      <td>2023</td>\n",
       "      <td>MI</td>\n",
       "      <td>CT</td>\n",
       "      <td>ML Engineer</td>\n",
       "      <td>25500</td>\n",
       "      <td>USD</td>\n",
       "      <td>25500</td>\n",
       "      <td>US</td>\n",
       "      <td>100</td>\n",
       "      <td>US</td>\n",
       "      <td>S</td>\n",
       "    </tr>\n",
       "    <tr>\n",
       "      <th>3</th>\n",
       "      <td>2023</td>\n",
       "      <td>SE</td>\n",
       "      <td>FT</td>\n",
       "      <td>Data Scientist</td>\n",
       "      <td>175000</td>\n",
       "      <td>USD</td>\n",
       "      <td>175000</td>\n",
       "      <td>CA</td>\n",
       "      <td>100</td>\n",
       "      <td>CA</td>\n",
       "      <td>M</td>\n",
       "    </tr>\n",
       "    <tr>\n",
       "      <th>4</th>\n",
       "      <td>2023</td>\n",
       "      <td>SE</td>\n",
       "      <td>FT</td>\n",
       "      <td>Data Scientist</td>\n",
       "      <td>120000</td>\n",
       "      <td>USD</td>\n",
       "      <td>120000</td>\n",
       "      <td>CA</td>\n",
       "      <td>100</td>\n",
       "      <td>CA</td>\n",
       "      <td>M</td>\n",
       "    </tr>\n",
       "  </tbody>\n",
       "</table>\n",
       "</div>"
      ],
      "text/plain": [
       "   work_year experience_level employment_type                 job_title  \\\n",
       "0       2023               SE              FT  Principal Data Scientist   \n",
       "1       2023               MI              CT               ML Engineer   \n",
       "2       2023               MI              CT               ML Engineer   \n",
       "3       2023               SE              FT            Data Scientist   \n",
       "4       2023               SE              FT            Data Scientist   \n",
       "\n",
       "   salary salary_currency  salary_in_usd employee_residence  remote_ratio  \\\n",
       "0   80000             EUR          85847                 ES           100   \n",
       "1   30000             USD          30000                 US           100   \n",
       "2   25500             USD          25500                 US           100   \n",
       "3  175000             USD         175000                 CA           100   \n",
       "4  120000             USD         120000                 CA           100   \n",
       "\n",
       "  company_location company_size  \n",
       "0               ES            L  \n",
       "1               US            S  \n",
       "2               US            S  \n",
       "3               CA            M  \n",
       "4               CA            M  "
      ]
     },
     "execution_count": 50,
     "metadata": {},
     "output_type": "execute_result"
    }
   ],
   "source": [
    "salaries.head()"
   ]
  },
  {
   "cell_type": "code",
   "execution_count": 51,
   "metadata": {},
   "outputs": [
    {
     "name": "stdout",
     "output_type": "stream",
     "text": [
      "<class 'pandas.core.frame.DataFrame'>\n",
      "RangeIndex: 3754 entries, 0 to 3753\n",
      "Data columns (total 11 columns):\n",
      " #   Column              Non-Null Count  Dtype \n",
      "---  ------              --------------  ----- \n",
      " 0   work_year           3754 non-null   int64 \n",
      " 1   experience_level    3754 non-null   object\n",
      " 2   employment_type     3754 non-null   object\n",
      " 3   job_title           3754 non-null   object\n",
      " 4   salary              3754 non-null   int64 \n",
      " 5   salary_currency     3754 non-null   object\n",
      " 6   salary_in_usd       3754 non-null   int64 \n",
      " 7   employee_residence  3754 non-null   object\n",
      " 8   remote_ratio        3754 non-null   int64 \n",
      " 9   company_location    3754 non-null   object\n",
      " 10  company_size        3754 non-null   object\n",
      "dtypes: int64(4), object(7)\n",
      "memory usage: 322.7+ KB\n"
     ]
    }
   ],
   "source": [
    "salaries.info()"
   ]
  },
  {
   "cell_type": "code",
   "execution_count": 52,
   "metadata": {},
   "outputs": [
    {
     "data": {
      "text/html": [
       "<div>\n",
       "<style scoped>\n",
       "    .dataframe tbody tr th:only-of-type {\n",
       "        vertical-align: middle;\n",
       "    }\n",
       "\n",
       "    .dataframe tbody tr th {\n",
       "        vertical-align: top;\n",
       "    }\n",
       "\n",
       "    .dataframe thead th {\n",
       "        text-align: right;\n",
       "    }\n",
       "</style>\n",
       "<table border=\"1\" class=\"dataframe\">\n",
       "  <thead>\n",
       "    <tr style=\"text-align: right;\">\n",
       "      <th></th>\n",
       "      <th>work_year</th>\n",
       "      <th>salary</th>\n",
       "      <th>salary_in_usd</th>\n",
       "      <th>remote_ratio</th>\n",
       "    </tr>\n",
       "  </thead>\n",
       "  <tbody>\n",
       "    <tr>\n",
       "      <th>count</th>\n",
       "      <td>3754.000000</td>\n",
       "      <td>3.754000e+03</td>\n",
       "      <td>3754.000000</td>\n",
       "      <td>3754.000000</td>\n",
       "    </tr>\n",
       "    <tr>\n",
       "      <th>mean</th>\n",
       "      <td>2022.374001</td>\n",
       "      <td>1.907197e+05</td>\n",
       "      <td>137580.397975</td>\n",
       "      <td>46.283964</td>\n",
       "    </tr>\n",
       "    <tr>\n",
       "      <th>std</th>\n",
       "      <td>0.691177</td>\n",
       "      <td>6.717643e+05</td>\n",
       "      <td>63061.042594</td>\n",
       "      <td>48.589652</td>\n",
       "    </tr>\n",
       "    <tr>\n",
       "      <th>min</th>\n",
       "      <td>2020.000000</td>\n",
       "      <td>6.000000e+03</td>\n",
       "      <td>5132.000000</td>\n",
       "      <td>0.000000</td>\n",
       "    </tr>\n",
       "    <tr>\n",
       "      <th>25%</th>\n",
       "      <td>2022.000000</td>\n",
       "      <td>1.000000e+05</td>\n",
       "      <td>95000.000000</td>\n",
       "      <td>0.000000</td>\n",
       "    </tr>\n",
       "    <tr>\n",
       "      <th>50%</th>\n",
       "      <td>2022.000000</td>\n",
       "      <td>1.380000e+05</td>\n",
       "      <td>135000.000000</td>\n",
       "      <td>0.000000</td>\n",
       "    </tr>\n",
       "    <tr>\n",
       "      <th>75%</th>\n",
       "      <td>2023.000000</td>\n",
       "      <td>1.800000e+05</td>\n",
       "      <td>175000.000000</td>\n",
       "      <td>100.000000</td>\n",
       "    </tr>\n",
       "    <tr>\n",
       "      <th>max</th>\n",
       "      <td>2023.000000</td>\n",
       "      <td>3.040000e+07</td>\n",
       "      <td>450000.000000</td>\n",
       "      <td>100.000000</td>\n",
       "    </tr>\n",
       "  </tbody>\n",
       "</table>\n",
       "</div>"
      ],
      "text/plain": [
       "         work_year        salary  salary_in_usd  remote_ratio\n",
       "count  3754.000000  3.754000e+03    3754.000000   3754.000000\n",
       "mean   2022.374001  1.907197e+05  137580.397975     46.283964\n",
       "std       0.691177  6.717643e+05   63061.042594     48.589652\n",
       "min    2020.000000  6.000000e+03    5132.000000      0.000000\n",
       "25%    2022.000000  1.000000e+05   95000.000000      0.000000\n",
       "50%    2022.000000  1.380000e+05  135000.000000      0.000000\n",
       "75%    2023.000000  1.800000e+05  175000.000000    100.000000\n",
       "max    2023.000000  3.040000e+07  450000.000000    100.000000"
      ]
     },
     "execution_count": 52,
     "metadata": {},
     "output_type": "execute_result"
    }
   ],
   "source": [
    "salaries.describe()"
   ]
  },
  {
   "cell_type": "code",
   "execution_count": 53,
   "metadata": {},
   "outputs": [
    {
     "name": "stdout",
     "output_type": "stream",
     "text": [
      "Cat attributes:  ['experience_level', 'employment_type', 'job_title', 'salary_currency', 'employee_residence', 'company_location', 'company_size']\n",
      "Num attributes:  ['work_year', 'salary', 'salary_in_usd', 'remote_ratio']\n"
     ]
    }
   ],
   "source": [
    "import matplotlib.pyplot as plt\n",
    "\n",
    "cat_attributes = list(salaries.select_dtypes(include=[\"object\"]))\n",
    "num_attributes = list(salaries.select_dtypes(include=[\"int64\"]))\n",
    "\n",
    "print(\"Cat attributes: \", cat_attributes)\n",
    "print(\"Num attributes: \", num_attributes)"
   ]
  },
  {
   "cell_type": "code",
   "execution_count": 54,
   "metadata": {},
   "outputs": [
    {
     "data": {
      "text/plain": [
       "array([[<Axes: title={'center': 'work_year'}>,\n",
       "        <Axes: title={'center': 'salary'}>],\n",
       "       [<Axes: title={'center': 'salary_in_usd'}>,\n",
       "        <Axes: title={'center': 'remote_ratio'}>]], dtype=object)"
      ]
     },
     "execution_count": 54,
     "metadata": {},
     "output_type": "execute_result"
    },
    {
     "data": {
      "image/png": "[encoded data removed]",
      "text/plain": [
       "<Figure size 1000x1000 with 4 Axes>"
      ]
     },
     "metadata": {},
     "output_type": "display_data"
    }
   ],
   "source": [
    "salaries[num_attributes].hist(bins=50, figsize=(10,10))"
   ]
  },
  {
   "cell_type": "code",
   "execution_count": 55,
   "metadata": {},
   "outputs": [
    {
     "data": {
      "text/html": [
       "<div>\n",
       "<style scoped>\n",
       "    .dataframe tbody tr th:only-of-type {\n",
       "        vertical-align: middle;\n",
       "    }\n",
       "\n",
       "    .dataframe tbody tr th {\n",
       "        vertical-align: top;\n",
       "    }\n",
       "\n",
       "    .dataframe thead th {\n",
       "        text-align: right;\n",
       "    }\n",
       "</style>\n",
       "<table border=\"1\" class=\"dataframe\">\n",
       "  <thead>\n",
       "    <tr style=\"text-align: right;\">\n",
       "      <th></th>\n",
       "      <th>country_name</th>\n",
       "      <th>year</th>\n",
       "      <th>gdp</th>\n",
       "      <th>gdp_per_capita</th>\n",
       "    </tr>\n",
       "  </thead>\n",
       "  <tbody>\n",
       "    <tr>\n",
       "      <th>0</th>\n",
       "      <td>United States</td>\n",
       "      <td>2021</td>\n",
       "      <td>2.299610e+13</td>\n",
       "      <td>69288</td>\n",
       "    </tr>\n",
       "    <tr>\n",
       "      <th>1</th>\n",
       "      <td>Luxembourg</td>\n",
       "      <td>2021</td>\n",
       "      <td>8.671080e+10</td>\n",
       "      <td>135683</td>\n",
       "    </tr>\n",
       "    <tr>\n",
       "      <th>2</th>\n",
       "      <td>United States</td>\n",
       "      <td>2020</td>\n",
       "      <td>2.089370e+13</td>\n",
       "      <td>63028</td>\n",
       "    </tr>\n",
       "    <tr>\n",
       "      <th>3</th>\n",
       "      <td>Luxembourg</td>\n",
       "      <td>2020</td>\n",
       "      <td>7.335313e+10</td>\n",
       "      <td>116356</td>\n",
       "    </tr>\n",
       "    <tr>\n",
       "      <th>4</th>\n",
       "      <td>United States</td>\n",
       "      <td>2019</td>\n",
       "      <td>2.137260e+13</td>\n",
       "      <td>65095</td>\n",
       "    </tr>\n",
       "  </tbody>\n",
       "</table>\n",
       "</div>"
      ],
      "text/plain": [
       "    country_name  year           gdp  gdp_per_capita\n",
       "0  United States  2021  2.299610e+13           69288\n",
       "1     Luxembourg  2021  8.671080e+10          135683\n",
       "2  United States  2020  2.089370e+13           63028\n",
       "3     Luxembourg  2020  7.335313e+10          116356\n",
       "4  United States  2019  2.137260e+13           65095"
      ]
     },
     "execution_count": 55,
     "metadata": {},
     "output_type": "execute_result"
    }
   ],
   "source": [
    "# Convert countries columns to the GDP per capita of each country\n",
    "gdp = pd.read_csv(\"./datasets/salaries/GDP.csv\", sep=\";\")\n",
    "gdp.head()"
   ]
  },
  {
   "cell_type": "code",
   "execution_count": 56,
   "metadata": {},
   "outputs": [],
   "source": [
    "import pycountry\n",
    "\n",
    "# Salaries[\"employee_residence\"] and salaries[\"company_location\"] to their ISO2\n",
    "def get_country_name(iso2):\n",
    "    try:\n",
    "        return pycountry.countries.get(alpha_2=iso2).name\n",
    "    except:\n",
    "        print(\"Country not found: \", iso2)\n",
    "        return None\n",
    "    \n",
    "salaries[\"employee_residence\"] = salaries[\"employee_residence\"].apply(get_country_name)\n",
    "salaries[\"company_location\"] = salaries[\"company_location\"].apply(get_country_name)"
   ]
  },
  {
   "cell_type": "code",
   "execution_count": 57,
   "metadata": {},
   "outputs": [
    {
     "data": {
      "text/html": [
       "<div>\n",
       "<style scoped>\n",
       "    .dataframe tbody tr th:only-of-type {\n",
       "        vertical-align: middle;\n",
       "    }\n",
       "\n",
       "    .dataframe tbody tr th {\n",
       "        vertical-align: top;\n",
       "    }\n",
       "\n",
       "    .dataframe thead th {\n",
       "        text-align: right;\n",
       "    }\n",
       "</style>\n",
       "<table border=\"1\" class=\"dataframe\">\n",
       "  <thead>\n",
       "    <tr style=\"text-align: right;\">\n",
       "      <th></th>\n",
       "      <th>work_year</th>\n",
       "      <th>experience_level</th>\n",
       "      <th>employment_type</th>\n",
       "      <th>job_title</th>\n",
       "      <th>salary</th>\n",
       "      <th>salary_currency</th>\n",
       "      <th>salary_in_usd</th>\n",
       "      <th>employee_residence</th>\n",
       "      <th>remote_ratio</th>\n",
       "      <th>company_location</th>\n",
       "      <th>company_size</th>\n",
       "    </tr>\n",
       "  </thead>\n",
       "  <tbody>\n",
       "    <tr>\n",
       "      <th>0</th>\n",
       "      <td>2023</td>\n",
       "      <td>SE</td>\n",
       "      <td>FT</td>\n",
       "      <td>Principal Data Scientist</td>\n",
       "      <td>80000</td>\n",
       "      <td>EUR</td>\n",
       "      <td>85847</td>\n",
       "      <td>Spain</td>\n",
       "      <td>100</td>\n",
       "      <td>Spain</td>\n",
       "      <td>L</td>\n",
       "    </tr>\n",
       "    <tr>\n",
       "      <th>1</th>\n",
       "      <td>2023</td>\n",
       "      <td>MI</td>\n",
       "      <td>CT</td>\n",
       "      <td>ML Engineer</td>\n",
       "      <td>30000</td>\n",
       "      <td>USD</td>\n",
       "      <td>30000</td>\n",
       "      <td>United States</td>\n",
       "      <td>100</td>\n",
       "      <td>United States</td>\n",
       "      <td>S</td>\n",
       "    </tr>\n",
       "    <tr>\n",
       "      <th>2</th>\n",
       "      <td>2023</td>\n",
       "      <td>MI</td>\n",
       "      <td>CT</td>\n",
       "      <td>ML Engineer</td>\n",
       "      <td>25500</td>\n",
       "      <td>USD</td>\n",
       "      <td>25500</td>\n",
       "      <td>United States</td>\n",
       "      <td>100</td>\n",
       "      <td>United States</td>\n",
       "      <td>S</td>\n",
       "    </tr>\n",
       "    <tr>\n",
       "      <th>3</th>\n",
       "      <td>2023</td>\n",
       "      <td>SE</td>\n",
       "      <td>FT</td>\n",
       "      <td>Data Scientist</td>\n",
       "      <td>175000</td>\n",
       "      <td>USD</td>\n",
       "      <td>175000</td>\n",
       "      <td>Canada</td>\n",
       "      <td>100</td>\n",
       "      <td>Canada</td>\n",
       "      <td>M</td>\n",
       "    </tr>\n",
       "    <tr>\n",
       "      <th>4</th>\n",
       "      <td>2023</td>\n",
       "      <td>SE</td>\n",
       "      <td>FT</td>\n",
       "      <td>Data Scientist</td>\n",
       "      <td>120000</td>\n",
       "      <td>USD</td>\n",
       "      <td>120000</td>\n",
       "      <td>Canada</td>\n",
       "      <td>100</td>\n",
       "      <td>Canada</td>\n",
       "      <td>M</td>\n",
       "    </tr>\n",
       "  </tbody>\n",
       "</table>\n",
       "</div>"
      ],
      "text/plain": [
       "   work_year experience_level employment_type                 job_title  \\\n",
       "0       2023               SE              FT  Principal Data Scientist   \n",
       "1       2023               MI              CT               ML Engineer   \n",
       "2       2023               MI              CT               ML Engineer   \n",
       "3       2023               SE              FT            Data Scientist   \n",
       "4       2023               SE              FT            Data Scientist   \n",
       "\n",
       "   salary salary_currency  salary_in_usd employee_residence  remote_ratio  \\\n",
       "0   80000             EUR          85847              Spain           100   \n",
       "1   30000             USD          30000      United States           100   \n",
       "2   25500             USD          25500      United States           100   \n",
       "3  175000             USD         175000             Canada           100   \n",
       "4  120000             USD         120000             Canada           100   \n",
       "\n",
       "  company_location company_size  \n",
       "0            Spain            L  \n",
       "1    United States            S  \n",
       "2    United States            S  \n",
       "3           Canada            M  \n",
       "4           Canada            M  "
      ]
     },
     "execution_count": 57,
     "metadata": {},
     "output_type": "execute_result"
    }
   ],
   "source": [
    "salaries.head()"
   ]
  },
  {
   "cell_type": "code",
   "execution_count": 58,
   "metadata": {},
   "outputs": [],
   "source": [
    "def get_country_last_gdp(country_name):  \n",
    "    # Group by country name, max(year)\n",
    "    country_gdp = gdp[gdp[\"country_name\"] == country_name]\n",
    "    country_gdp = country_gdp[country_gdp[\"year\"] == country_gdp[\"year\"].max()]\n",
    "\n",
    "    try:\n",
    "        return country_gdp[\"gdp_per_capita\"].values[0]\n",
    "    except:\n",
    "        print(\"Country not found: \", country_name)\n",
    "        return None\n",
    "\n",
    "salaries[\"employee_residence_gdp\"] = salaries[\"employee_residence\"].apply(get_country_last_gdp)\n",
    "salaries[\"company_location_gdp\"] = salaries[\"company_location\"].apply(get_country_last_gdp)"
   ]
  },
  {
   "cell_type": "code",
   "execution_count": 59,
   "metadata": {},
   "outputs": [],
   "source": [
    "# Lastly we remove irrelevant attributes\n",
    "excluded_num_attributes = [\"salary\", \"work_year\"] # just keep salary in usd\n",
    "excluded_cat_attributes = [\"salary_currency\"]\n",
    "\n",
    "salaries = salaries.drop(excluded_num_attributes, axis=1)\n",
    "salaries = salaries.drop(excluded_cat_attributes, axis=1)"
   ]
  },
  {
   "cell_type": "code",
   "execution_count": 60,
   "metadata": {},
   "outputs": [
    {
     "name": "stdout",
     "output_type": "stream",
     "text": [
      "Cat attributes:  ['experience_level', 'employment_type', 'job_title', 'employee_residence', 'company_location', 'company_size']\n",
      "Num attributes:  ['salary_in_usd', 'remote_ratio', 'employee_residence_gdp', 'company_location_gdp']\n"
     ]
    }
   ],
   "source": [
    "# Print cat and num attributes again\n",
    "cat_attributes = list(salaries.select_dtypes(include=[\"object\"]))\n",
    "num_attributes = list(salaries.select_dtypes(include=[\"int64\"]))\n",
    "\n",
    "print(\"Cat attributes: \", cat_attributes)\n",
    "print(\"Num attributes: \", num_attributes)"
   ]
  },
  {
   "cell_type": "code",
   "execution_count": 61,
   "metadata": {},
   "outputs": [],
   "source": [
    "# Remove salary_in_usd, employee_residence, and company_location\n",
    "salaries = salaries.drop([\"employee_residence\", \"company_location\"], axis=1)"
   ]
  },
  {
   "cell_type": "code",
   "execution_count": 62,
   "metadata": {},
   "outputs": [
    {
     "name": "stdout",
     "output_type": "stream",
     "text": [
      "Cat attributes:  ['experience_level', 'employment_type', 'job_title', 'company_size']\n",
      "Num attributes:  ['remote_ratio', 'employee_residence_gdp', 'company_location_gdp']\n"
     ]
    }
   ],
   "source": [
    "# Get num and cat again\n",
    "cat_attributes = list(salaries.select_dtypes(include=[\"object\"]))\n",
    "num_attributes = list(salaries.select_dtypes(include=[\"int64\"]))\n",
    "\n",
    "num_attributes.remove(\"salary_in_usd\")\n",
    "\n",
    "print(\"Cat attributes: \", cat_attributes)\n",
    "print(\"Num attributes: \", num_attributes)"
   ]
  },
  {
   "cell_type": "markdown",
   "metadata": {},
   "source": [
    "## Split the data"
   ]
  },
  {
   "cell_type": "code",
   "execution_count": 63,
   "metadata": {},
   "outputs": [],
   "source": [
    "from sklearn.model_selection import train_test_split\n",
    "train_set, test_set = train_test_split(salaries, test_size=0.2, random_state=42)"
   ]
  },
  {
   "cell_type": "code",
   "execution_count": 64,
   "metadata": {},
   "outputs": [],
   "source": [
    "salaries = train_set.drop(\"salary_in_usd\", axis=1)\n",
    "salaries_labels = train_set[\"salary_in_usd\"].copy()"
   ]
  },
  {
   "cell_type": "markdown",
   "metadata": {},
   "source": [
    "## Transformation pipeline: numerical"
   ]
  },
  {
   "cell_type": "code",
   "execution_count": 65,
   "metadata": {},
   "outputs": [
    {
     "name": "stdout",
     "output_type": "stream",
     "text": [
      "Num attributes:  ['remote_ratio', 'employee_residence_gdp', 'company_location_gdp']\n"
     ]
    }
   ],
   "source": [
    "from sklearn.pipeline import Pipeline\n",
    "from sklearn.preprocessing import StandardScaler\n",
    "from sklearn.impute import SimpleImputer\n",
    "\n",
    "print(\"Num attributes: \", num_attributes)\n",
    "\n",
    "# Imputer and 0-1\n",
    "num_pipeline = Pipeline([\n",
    "    (\"imputer\", SimpleImputer(strategy=\"median\")),\n",
    "    (\"std_scaler\", StandardScaler())\n",
    "])"
   ]
  },
  {
   "cell_type": "markdown",
   "metadata": {},
   "source": [
    "## Transformation pipeline: categorical"
   ]
  },
  {
   "cell_type": "code",
   "execution_count": 66,
   "metadata": {},
   "outputs": [
    {
     "name": "stdout",
     "output_type": "stream",
     "text": [
      "Cat attributes:  ['experience_level', 'employment_type', 'job_title', 'company_size']\n"
     ]
    }
   ],
   "source": [
    "print(\"Cat attributes: \", cat_attributes)"
   ]
  },
  {
   "cell_type": "markdown",
   "metadata": {},
   "source": [
    "### Experience level"
   ]
  },
  {
   "cell_type": "code",
   "execution_count": 67,
   "metadata": {},
   "outputs": [
    {
     "data": {
      "text/plain": [
       "experience_level\n",
       "SE    2024\n",
       "MI     635\n",
       "EN     256\n",
       "EX      88\n",
       "Name: count, dtype: int64"
      ]
     },
     "execution_count": 67,
     "metadata": {},
     "output_type": "execute_result"
    }
   ],
   "source": [
    "salaries[\"experience_level\"].value_counts()"
   ]
  },
  {
   "cell_type": "markdown",
   "metadata": {},
   "source": [
    "### Employment type"
   ]
  },
  {
   "cell_type": "code",
   "execution_count": 68,
   "metadata": {},
   "outputs": [
    {
     "data": {
      "text/plain": [
       "employment_type\n",
       "FT    2974\n",
       "PT      13\n",
       "CT       9\n",
       "FL       7\n",
       "Name: count, dtype: int64"
      ]
     },
     "execution_count": 68,
     "metadata": {},
     "output_type": "execute_result"
    }
   ],
   "source": [
    "salaries[\"employment_type\"].value_counts()"
   ]
  },
  {
   "cell_type": "markdown",
   "metadata": {},
   "source": [
    "### Job title"
   ]
  },
  {
   "cell_type": "code",
   "execution_count": 69,
   "metadata": {},
   "outputs": [
    {
     "data": {
      "text/plain": [
       "job_title\n",
       "Data Engineer                 852\n",
       "Data Scientist                677\n",
       "Data Analyst                  474\n",
       "Machine Learning Engineer     233\n",
       "Data Architect                 85\n",
       "                             ... \n",
       "Principal Data Architect        1\n",
       "Data Management Specialist      1\n",
       "Finance Data Analyst            1\n",
       "ETL Engineer                    1\n",
       "BI Data Engineer                1\n",
       "Name: count, Length: 84, dtype: int64"
      ]
     },
     "execution_count": 69,
     "metadata": {},
     "output_type": "execute_result"
    }
   ],
   "source": [
    "salaries[\"job_title\"].value_counts()"
   ]
  },
  {
   "cell_type": "code",
   "execution_count": 70,
   "metadata": {},
   "outputs": [],
   "source": [
    "# Create a transformer that takes word frequency and top_n as hyperparameter\n",
    "# Modifies the dataset by adding new columns for each word\n",
    "# Creates columns job_<word> for each word in the top_n\n",
    "# Populates the columns with 1 if the word is in the job title, 0 otherwise\n",
    "\n",
    "# Stop words\n",
    "# import nltk\n",
    "# nltk.download('stopwords')\n",
    "from nltk.corpus import stopwords\n",
    "stop_words_english = stopwords.words('english')\n",
    "\n",
    "from sklearn.base import BaseEstimator, TransformerMixin\n",
    "\n",
    "class JobTitleWordFrequencyTransformer(BaseEstimator, TransformerMixin):\n",
    "    def __init__(self, top_n=10):\n",
    "        self.top_n = top_n\n",
    "        self.word_frequency = {}\n",
    "        self.top_n_words = []\n",
    "    \n",
    "    def fit(self, X, y=None):\n",
    "        for job_title in X[\"job_title\"]:\n",
    "            for w in job_title.split(' '):\n",
    "                if w in self.word_frequency:\n",
    "                    self.word_frequency[w] += 1\n",
    "                else:\n",
    "                    self.word_frequency[w] = 1\n",
    "\n",
    "        self.word_frequency = {k: v for k, v in sorted(self.word_frequency.items(), key=lambda item: item[1], reverse=True)}\n",
    "        self.word_frequency = {k: v for k, v in self.word_frequency.items() if k not in stop_words_english}\n",
    "\n",
    "        self.top_n_words = list(self.word_frequency.keys())[:self.top_n]\n",
    "\n",
    "     \n",
    "\n",
    "        return self\n",
    "    \n",
    "    def transform(self, X, y=None):\n",
    "        X_out = pd.DataFrame()\n",
    "        for word in self.top_n_words:\n",
    "            X_out[\"job_\" + word] = X[\"job_title\"].apply(lambda x: 1 if word in x else 0)\n",
    "        return X_out\n"
   ]
  },
  {
   "cell_type": "markdown",
   "metadata": {},
   "source": [
    "### Company size"
   ]
  },
  {
   "cell_type": "code",
   "execution_count": 71,
   "metadata": {},
   "outputs": [
    {
     "data": {
      "text/plain": [
       "company_size\n",
       "M    2520\n",
       "L     366\n",
       "S     117\n",
       "Name: count, dtype: int64"
      ]
     },
     "execution_count": 71,
     "metadata": {},
     "output_type": "execute_result"
    }
   ],
   "source": [
    "salaries[\"company_size\"].value_counts()"
   ]
  },
  {
   "cell_type": "markdown",
   "metadata": {},
   "source": [
    "### Cat final pipeline"
   ]
  },
  {
   "cell_type": "code",
   "execution_count": 97,
   "metadata": {},
   "outputs": [],
   "source": [
    "from sklearn.compose import ColumnTransformer\n",
    "from sklearn.preprocessing import OneHotEncoder\n",
    "\n",
    "cat_pipeline = ColumnTransformer([\n",
    "    (\"one_hot\", OneHotEncoder(), [\"experience_level\", \"employment_type\", \"company_size\"]),\n",
    "    (\"job_title\", JobTitleWordFrequencyTransformer(top_n=20), [\"job_title\"])\n",
    "], remainder=\"drop\")\n"
   ]
  },
  {
   "cell_type": "markdown",
   "metadata": {},
   "source": [
    "## Final pipeline"
   ]
  },
  {
   "cell_type": "code",
   "execution_count": 98,
   "metadata": {},
   "outputs": [],
   "source": [
    "from sklearn.ensemble import RandomForestRegressor\n",
    "\n",
    "full_pipeline = ColumnTransformer([\n",
    "    (\"num\", num_pipeline, num_attributes),\n",
    "    (\"cat\", cat_pipeline, cat_attributes)\n",
    "])\n",
    "\n",
    "final_pipeline = Pipeline([\n",
    "    (\"full_pipeline\", full_pipeline),\n",
    "    (\"imputer\", SimpleImputer(strategy=\"median\"))\n",
    "])\n",
    "\n",
    "salaries_prepared = final_pipeline.fit_transform(salaries)\n"
   ]
  },
  {
   "cell_type": "markdown",
   "metadata": {},
   "source": [
    "## Train a model - Random Forest Regressor"
   ]
  },
  {
   "cell_type": "markdown",
   "metadata": {},
   "source": [
    "### Grid search"
   ]
  },
  {
   "cell_type": "code",
   "execution_count": 119,
   "metadata": {},
   "outputs": [
    {
     "name": "stdout",
     "output_type": "stream",
     "text": [
      "Fitting 5 folds for each of 41 candidates, totalling 205 fits\n"
     ]
    },
    {
     "data": {
      "text/html": [
       "<style>#sk-container-id-5 {color: black;}#sk-container-id-5 pre{padding: 0;}#sk-container-id-5 div.sk-toggleable {background-color: white;}#sk-container-id-5 label.sk-toggleable__label {cursor: pointer;display: block;width: 100%;margin-bottom: 0;padding: 0.3em;box-sizing: border-box;text-align: center;}#sk-container-id-5 label.sk-toggleable__label-arrow:before {content: \"▸\";float: left;margin-right: 0.25em;color: #696969;}#sk-container-id-5 label.sk-toggleable__label-arrow:hover:before {color: black;}#sk-container-id-5 div.sk-estimator:hover label.sk-toggleable__label-arrow:before {color: black;}#sk-container-id-5 div.sk-toggleable__content {max-height: 0;max-width: 0;overflow: hidden;text-align: left;background-color: #f0f8ff;}#sk-container-id-5 div.sk-toggleable__content pre {margin: 0.2em;color: black;border-radius: 0.25em;background-color: #f0f8ff;}#sk-container-id-5 input.sk-toggleable__control:checked~div.sk-toggleable__content {max-height: 200px;max-width: 100%;overflow: auto;}#sk-container-id-5 input.sk-toggleable__control:checked~label.sk-toggleable__label-arrow:before {content: \"▾\";}#sk-container-id-5 div.sk-estimator input.sk-toggleable__control:checked~label.sk-toggleable__label {background-color: #d4ebff;}#sk-container-id-5 div.sk-label input.sk-toggleable__control:checked~label.sk-toggleable__label {background-color: #d4ebff;}#sk-container-id-5 input.sk-hidden--visually {border: 0;clip: rect(1px 1px 1px 1px);clip: rect(1px, 1px, 1px, 1px);height: 1px;margin: -1px;overflow: hidden;padding: 0;position: absolute;width: 1px;}#sk-container-id-5 div.sk-estimator {font-family: monospace;background-color: #f0f8ff;border: 1px dotted black;border-radius: 0.25em;box-sizing: border-box;margin-bottom: 0.5em;}#sk-container-id-5 div.sk-estimator:hover {background-color: #d4ebff;}#sk-container-id-5 div.sk-parallel-item::after {content: \"\";width: 100%;border-bottom: 1px solid gray;flex-grow: 1;}#sk-container-id-5 div.sk-label:hover label.sk-toggleable__label {background-color: #d4ebff;}#sk-container-id-5 div.sk-serial::before {content: \"\";position: absolute;border-left: 1px solid gray;box-sizing: border-box;top: 0;bottom: 0;left: 50%;z-index: 0;}#sk-container-id-5 div.sk-serial {display: flex;flex-direction: column;align-items: center;background-color: white;padding-right: 0.2em;padding-left: 0.2em;position: relative;}#sk-container-id-5 div.sk-item {position: relative;z-index: 1;}#sk-container-id-5 div.sk-parallel {display: flex;align-items: stretch;justify-content: center;background-color: white;position: relative;}#sk-container-id-5 div.sk-item::before, #sk-container-id-5 div.sk-parallel-item::before {content: \"\";position: absolute;border-left: 1px solid gray;box-sizing: border-box;top: 0;bottom: 0;left: 50%;z-index: -1;}#sk-container-id-5 div.sk-parallel-item {display: flex;flex-direction: column;z-index: 1;position: relative;background-color: white;}#sk-container-id-5 div.sk-parallel-item:first-child::after {align-self: flex-end;width: 50%;}#sk-container-id-5 div.sk-parallel-item:last-child::after {align-self: flex-start;width: 50%;}#sk-container-id-5 div.sk-parallel-item:only-child::after {width: 0;}#sk-container-id-5 div.sk-dashed-wrapped {border: 1px dashed gray;margin: 0 0.4em 0.5em 0.4em;box-sizing: border-box;padding-bottom: 0.4em;background-color: white;}#sk-container-id-5 div.sk-label label {font-family: monospace;font-weight: bold;display: inline-block;line-height: 1.2em;}#sk-container-id-5 div.sk-label-container {text-align: center;}#sk-container-id-5 div.sk-container {/* jupyter's `normalize.less` sets `[hidden] { display: none; }` but bootstrap.min.css set `[hidden] { display: none !important; }` so we also need the `!important` here to be able to override the default hidden behavior on the sphinx rendered scikit-learn.org. See: https://github.com/scikit-learn/scikit-learn/issues/21755 */display: inline-block !important;position: relative;}#sk-container-id-5 div.sk-text-repr-fallback {display: none;}</style><div id=\"sk-container-id-5\" class=\"sk-top-container\"><div class=\"sk-text-repr-fallback\"><pre>GridSearchCV(cv=5, estimator=RandomForestRegressor(),\n",
       "             param_grid=[{&#x27;max_features&#x27;: [2, 4, 6, 8, 10],\n",
       "                          &#x27;n_estimators&#x27;: [3, 10, 30, 50, 100]},\n",
       "                         {&#x27;bootstrap&#x27;: [False], &#x27;max_features&#x27;: [2, 3, 4, 10],\n",
       "                          &#x27;n_estimators&#x27;: [3, 10, 20, 50]}],\n",
       "             return_train_score=True, scoring=&#x27;neg_mean_squared_error&#x27;,\n",
       "             verbose=1)</pre><b>In a Jupyter environment, please rerun this cell to show the HTML representation or trust the notebook. <br />On GitHub, the HTML representation is unable to render, please try loading this page with nbviewer.org.</b></div><div class=\"sk-container\" hidden><div class=\"sk-item sk-dashed-wrapped\"><div class=\"sk-label-container\"><div class=\"sk-label sk-toggleable\"><input class=\"sk-toggleable__control sk-hidden--visually\" id=\"sk-estimator-id-13\" type=\"checkbox\" ><label for=\"sk-estimator-id-13\" class=\"sk-toggleable__label sk-toggleable__label-arrow\">GridSearchCV</label><div class=\"sk-toggleable__content\"><pre>GridSearchCV(cv=5, estimator=RandomForestRegressor(),\n",
       "             param_grid=[{&#x27;max_features&#x27;: [2, 4, 6, 8, 10],\n",
       "                          &#x27;n_estimators&#x27;: [3, 10, 30, 50, 100]},\n",
       "                         {&#x27;bootstrap&#x27;: [False], &#x27;max_features&#x27;: [2, 3, 4, 10],\n",
       "                          &#x27;n_estimators&#x27;: [3, 10, 20, 50]}],\n",
       "             return_train_score=True, scoring=&#x27;neg_mean_squared_error&#x27;,\n",
       "             verbose=1)</pre></div></div></div><div class=\"sk-parallel\"><div class=\"sk-parallel-item\"><div class=\"sk-item\"><div class=\"sk-label-container\"><div class=\"sk-label sk-toggleable\"><input class=\"sk-toggleable__control sk-hidden--visually\" id=\"sk-estimator-id-14\" type=\"checkbox\" ><label for=\"sk-estimator-id-14\" class=\"sk-toggleable__label sk-toggleable__label-arrow\">estimator: RandomForestRegressor</label><div class=\"sk-toggleable__content\"><pre>RandomForestRegressor()</pre></div></div></div><div class=\"sk-serial\"><div class=\"sk-item\"><div class=\"sk-estimator sk-toggleable\"><input class=\"sk-toggleable__control sk-hidden--visually\" id=\"sk-estimator-id-15\" type=\"checkbox\" ><label for=\"sk-estimator-id-15\" class=\"sk-toggleable__label sk-toggleable__label-arrow\">RandomForestRegressor</label><div class=\"sk-toggleable__content\"><pre>RandomForestRegressor()</pre></div></div></div></div></div></div></div></div></div></div>"
      ],
      "text/plain": [
       "GridSearchCV(cv=5, estimator=RandomForestRegressor(),\n",
       "             param_grid=[{'max_features': [2, 4, 6, 8, 10],\n",
       "                          'n_estimators': [3, 10, 30, 50, 100]},\n",
       "                         {'bootstrap': [False], 'max_features': [2, 3, 4, 10],\n",
       "                          'n_estimators': [3, 10, 20, 50]}],\n",
       "             return_train_score=True, scoring='neg_mean_squared_error',\n",
       "             verbose=1)"
      ]
     },
     "execution_count": 119,
     "metadata": {},
     "output_type": "execute_result"
    }
   ],
   "source": [
    "from sklearn.model_selection import GridSearchCV\n",
    "from sklearn.ensemble import RandomForestRegressor\n",
    "\n",
    "param_grid = [\n",
    "    {'n_estimators': [3, 10, 30, 50, 100], 'max_features': [2, 4, 6, 8, 10]},\n",
    "    {'bootstrap': [False], 'n_estimators': [3, 10, 20, 50], 'max_features': [2, 3, 4, 10]},\n",
    "]\n",
    "\n",
    "forest_reg = RandomForestRegressor()\n",
    "grid_search = GridSearchCV(\n",
    "    forest_reg,\n",
    "    param_grid,\n",
    "    cv=5,\n",
    "    scoring=\"neg_mean_squared_error\",\n",
    "    return_train_score=True,\n",
    "    verbose=1)\n",
    "\n",
    "grid_search.fit(salaries_prepared, salaries_labels)"
   ]
  },
  {
   "cell_type": "code",
   "execution_count": 120,
   "metadata": {},
   "outputs": [
    {
     "data": {
      "text/plain": [
       "{'max_features': 6, 'n_estimators': 100}"
      ]
     },
     "execution_count": 120,
     "metadata": {},
     "output_type": "execute_result"
    }
   ],
   "source": [
    "grid_search.best_params_"
   ]
  },
  {
   "cell_type": "markdown",
   "metadata": {},
   "source": [
    " ### Analyze the best model"
   ]
  },
  {
   "cell_type": "code",
   "execution_count": 121,
   "metadata": {},
   "outputs": [
    {
     "data": {
      "text/plain": [
       "array([0.04798502, 0.21167498, 0.19136004, 0.05341268, 0.04245043,\n",
       "       0.05302864, 0.07823623, 0.00538711, 0.00077685, 0.00725762,\n",
       "       0.00219971, 0.01431351, 0.02032476, 0.01646603, 0.02810122,\n",
       "       0.01918331, 0.02136327, 0.06875193, 0.00922764, 0.00912562,\n",
       "       0.00803097, 0.01393348, 0.00576118, 0.01473   , 0.00788107,\n",
       "       0.00832682, 0.0089952 , 0.006986  , 0.00329523, 0.00379651,\n",
       "       0.00293578, 0.00247617, 0.00890417, 0.00332081])"
      ]
     },
     "execution_count": 121,
     "metadata": {},
     "output_type": "execute_result"
    }
   ],
   "source": [
    "best_estimator = grid_search.best_estimator_\n",
    "feature_importances = best_estimator.feature_importances_\n",
    "feature_importances"
   ]
  },
  {
   "cell_type": "code",
   "execution_count": 122,
   "metadata": {},
   "outputs": [],
   "source": [
    "one_hot_attribs = list(full_pipeline.named_transformers_[\"cat\"].named_transformers_[\"one_hot\"].get_feature_names_out()) \n",
    "job_title_attribs = [\"job_\" + word for word in full_pipeline.named_transformers_[\"cat\"].named_transformers_[\"job_title\"].top_n_words] \n",
    "\n",
    "# combina todas las listas para obtener la lista completa de características\n",
    "attributes = num_attributes + one_hot_attribs + job_title_attribs"
   ]
  },
  {
   "cell_type": "code",
   "execution_count": 123,
   "metadata": {},
   "outputs": [
    {
     "data": {
      "text/plain": [
       "[(0.21167498259543865, 'employee_residence_gdp'),\n",
       " (0.19136003989526962, 'company_location_gdp'),\n",
       " (0.07823622538602923, 'experience_level_SE'),\n",
       " (0.06875192992042926, 'job_Analyst'),\n",
       " (0.0534126812322606, 'experience_level_EN'),\n",
       " (0.0530286426637914, 'experience_level_MI'),\n",
       " (0.04798501768621019, 'remote_ratio'),\n",
       " (0.042450431232364166, 'experience_level_EX'),\n",
       " (0.028101218460587624, 'job_Data'),\n",
       " (0.021363269145398246, 'job_Scientist'),\n",
       " (0.020324764383971645, 'company_size_M'),\n",
       " (0.019183313485049463, 'job_Engineer'),\n",
       " (0.016466026885164402, 'company_size_S'),\n",
       " (0.014730001621347402, 'job_Science'),\n",
       " (0.014313506172562471, 'company_size_L'),\n",
       " (0.0139334775310287, 'job_Research'),\n",
       " (0.009227641628149527, 'job_Learning'),\n",
       " (0.009125619259463974, 'job_Machine'),\n",
       " (0.008995201097109272, 'job_Lead'),\n",
       " (0.008904174109874667, 'job_AI'),\n",
       " (0.008326824341370042, 'job_Applied'),\n",
       " (0.008030969875981616, 'job_Analytics'),\n",
       " (0.007881066695340876, 'job_Manager'),\n",
       " (0.007257620764181835, 'employment_type_FT'),\n",
       " (0.006986001022016142, 'job_Developer'),\n",
       " (0.005761176711491624, 'job_Architect'),\n",
       " (0.005387114114043812, 'employment_type_CT'),\n",
       " (0.0037965075900090284, 'job_BI'),\n",
       " (0.0033208141236897985, 'job_Consultant'),\n",
       " (0.0032952276064538914, 'job_ML'),\n",
       " (0.002935780939449283, 'job_Computer'),\n",
       " (0.002476174600351656, 'job_Vision'),\n",
       " (0.002199707293640891, 'employment_type_PT'),\n",
       " (0.000776849930479036, 'employment_type_FL')]"
      ]
     },
     "execution_count": 123,
     "metadata": {},
     "output_type": "execute_result"
    }
   ],
   "source": [
    "sorted(zip(feature_importances, attributes), reverse=True)"
   ]
  },
  {
   "cell_type": "markdown",
   "metadata": {},
   "source": [
    "### Evaluate the model on the test set"
   ]
  },
  {
   "cell_type": "code",
   "execution_count": 124,
   "metadata": {},
   "outputs": [],
   "source": [
    "final_model = grid_search.best_estimator_\n",
    "\n",
    "X_test = test_set.drop(\"salary_in_usd\", axis=1)\n",
    "y_test = test_set[\"salary_in_usd\"].copy()"
   ]
  },
  {
   "cell_type": "code",
   "execution_count": 125,
   "metadata": {},
   "outputs": [],
   "source": [
    "X_test_prepared = final_pipeline.transform(X_test)"
   ]
  },
  {
   "cell_type": "code",
   "execution_count": 126,
   "metadata": {},
   "outputs": [
    {
     "data": {
      "text/plain": [
       "49441.395226896035"
      ]
     },
     "execution_count": 126,
     "metadata": {},
     "output_type": "execute_result"
    }
   ],
   "source": [
    "from sklearn.metrics import mean_squared_error\n",
    "\n",
    "final_predictions = final_model.predict(X_test_prepared)\n",
    "\n",
    "final_mse = mean_squared_error(y_test, final_predictions)\n",
    "final_rmse = np.sqrt(final_mse)\n",
    "final_rmse"
   ]
  },
  {
   "cell_type": "code",
   "execution_count": 127,
   "metadata": {},
   "outputs": [
    {
     "data": {
      "text/plain": [
       "array([44534.82771931, 53903.17471147])"
      ]
     },
     "execution_count": 127,
     "metadata": {},
     "output_type": "execute_result"
    }
   ],
   "source": [
    "from scipy import stats\n",
    "confidence = 0.95\n",
    "squared_errors = (final_predictions - y_test) ** 2\n",
    "np.sqrt(stats.t.interval(confidence, len(squared_errors) - 1, loc=squared_errors.mean(), scale=stats.sem(squared_errors)))"
   ]
  },
  {
   "cell_type": "code",
   "execution_count": 128,
   "metadata": {},
   "outputs": [
    {
     "data": {
      "text/plain": [
       "0.4077034113721939"
      ]
     },
     "execution_count": 128,
     "metadata": {},
     "output_type": "execute_result"
    }
   ],
   "source": [
    "# Get precission of the model\n",
    "from sklearn.metrics import r2_score\n",
    "r2_score(y_test, final_predictions)"
   ]
  },
  {
   "cell_type": "markdown",
   "metadata": {},
   "source": [
    "## Exercise 1 - Try a  Vector Machine regressor"
   ]
  },
  {
   "cell_type": "markdown",
   "metadata": {},
   "source": [
    "### Grid search"
   ]
  },
  {
   "cell_type": "code",
   "execution_count": 165,
   "metadata": {},
   "outputs": [
    {
     "name": "stdout",
     "output_type": "stream",
     "text": [
      "Fitting 5 folds for each of 11 candidates, totalling 55 fits\n",
      "[CV 1/5; 1/11] START C=0.01, kernel=linear......................................\n",
      "[CV 1/5; 1/11] END C=0.01, kernel=linear;, score=(train=-3909516087.471, test=-4081752615.490) total time=   0.1s\n",
      "[CV 2/5; 1/11] START C=0.01, kernel=linear......................................\n",
      "[CV 2/5; 1/11] END C=0.01, kernel=linear;, score=(train=-3916707688.476, test=-4052948275.640) total time=   0.0s\n",
      "[CV 3/5; 1/11] START C=0.01, kernel=linear......................................\n",
      "[CV 3/5; 1/11] END C=0.01, kernel=linear;, score=(train=-3968617314.363, test=-3845925212.440) total time=   0.0s\n",
      "[CV 4/5; 1/11] START C=0.01, kernel=linear......................................\n",
      "[CV 4/5; 1/11] END C=0.01, kernel=linear;, score=(train=-3964076724.063, test=-3863921737.891) total time=   0.0s\n",
      "[CV 5/5; 1/11] START C=0.01, kernel=linear......................................\n",
      "[CV 5/5; 1/11] END C=0.01, kernel=linear;, score=(train=-3961215733.242, test=-3875379748.622) total time=   0.0s\n",
      "[CV 1/5; 2/11] START C=1, kernel=linear.........................................\n",
      "[CV 1/5; 2/11] END C=1, kernel=linear;, score=(train=-3795877183.183, test=-3988769899.103) total time=   0.0s\n",
      "[CV 2/5; 2/11] START C=1, kernel=linear.........................................\n",
      "[CV 2/5; 2/11] END C=1, kernel=linear;, score=(train=-3806476870.076, test=-3946882046.010) total time=   0.0s\n",
      "[CV 3/5; 2/11] START C=1, kernel=linear.........................................\n",
      "[CV 3/5; 2/11] END C=1, kernel=linear;, score=(train=-3868204524.529, test=-3734910695.483) total time=   0.0s\n",
      "[CV 4/5; 2/11] START C=1, kernel=linear.........................................\n",
      "[CV 4/5; 2/11] END C=1, kernel=linear;, score=(train=-3862286381.834, test=-3763409364.870) total time=   0.0s\n",
      "[CV 5/5; 2/11] START C=1, kernel=linear.........................................\n",
      "[CV 5/5; 2/11] END C=1, kernel=linear;, score=(train=-3860948001.718, test=-3763765373.476) total time=   0.0s\n",
      "[CV 1/5; 3/11] START C=100.0, kernel=linear.....................................\n",
      "[CV 1/5; 3/11] END C=100.0, kernel=linear;, score=(train=-2682180294.138, test=-3028781792.401) total time=   0.0s\n",
      "[CV 2/5; 3/11] START C=100.0, kernel=linear.....................................\n",
      "[CV 2/5; 3/11] END C=100.0, kernel=linear;, score=(train=-2701709083.411, test=-2895863256.044) total time=   0.0s\n",
      "[CV 3/5; 3/11] START C=100.0, kernel=linear.....................................\n",
      "[CV 3/5; 3/11] END C=100.0, kernel=linear;, score=(train=-2783595651.514, test=-2624944333.003) total time=   0.0s\n",
      "[CV 4/5; 3/11] START C=100.0, kernel=linear.....................................\n",
      "[CV 4/5; 3/11] END C=100.0, kernel=linear;, score=(train=-2769603392.767, test=-2677123230.990) total time=   0.0s\n",
      "[CV 5/5; 3/11] START C=100.0, kernel=linear.....................................\n",
      "[CV 5/5; 3/11] END C=100.0, kernel=linear;, score=(train=-2791545606.027, test=-2560475603.643) total time=   0.0s\n",
      "[CV 1/5; 4/11] START C=1000.0, kernel=linear....................................\n",
      "[CV 1/5; 4/11] END C=1000.0, kernel=linear;, score=(train=-2409279462.880, test=-2724393523.203) total time=   0.0s\n",
      "[CV 2/5; 4/11] START C=1000.0, kernel=linear....................................\n",
      "[CV 2/5; 4/11] END C=1000.0, kernel=linear;, score=(train=-2418777765.439, test=-2675248062.985) total time=   0.0s\n",
      "[CV 3/5; 4/11] START C=1000.0, kernel=linear....................................\n",
      "[CV 3/5; 4/11] END C=1000.0, kernel=linear;, score=(train=-2507508912.497, test=-2394335880.446) total time=   0.0s\n",
      "[CV 4/5; 4/11] START C=1000.0, kernel=linear....................................\n",
      "[CV 4/5; 4/11] END C=1000.0, kernel=linear;, score=(train=-2520296360.745, test=-2427473367.278) total time=   0.1s\n",
      "[CV 5/5; 4/11] START C=1000.0, kernel=linear....................................\n",
      "[CV 5/5; 4/11] END C=1000.0, kernel=linear;, score=(train=-2529417736.665, test=-2321445986.962) total time=   0.0s\n",
      "[CV 1/5; 5/11] START C=100000.0, kernel=linear..................................\n",
      "[CV 1/5; 5/11] END C=100000.0, kernel=linear;, score=(train=-2352931306.713, test=-2668871948.723) total time=   0.2s\n",
      "[CV 2/5; 5/11] START C=100000.0, kernel=linear..................................\n",
      "[CV 2/5; 5/11] END C=100000.0, kernel=linear;, score=(train=-2326395868.005, test=-2696245140.890) total time=   0.3s\n",
      "[CV 3/5; 5/11] START C=100000.0, kernel=linear..................................\n",
      "[CV 3/5; 5/11] END C=100000.0, kernel=linear;, score=(train=-2438421853.757, test=-2322246840.249) total time=   0.4s\n",
      "[CV 4/5; 5/11] START C=100000.0, kernel=linear..................................\n",
      "[CV 4/5; 5/11] END C=100000.0, kernel=linear;, score=(train=-2461289144.049, test=-2327445596.284) total time=   0.5s\n",
      "[CV 5/5; 5/11] START C=100000.0, kernel=linear..................................\n",
      "[CV 5/5; 5/11] END C=100000.0, kernel=linear;, score=(train=-2467159428.593, test=-2248362099.531) total time=   0.2s\n",
      "[CV 1/5; 6/11] START C=0.01, gamma=0.1, kernel=rbf..............................\n",
      "[CV 1/5; 6/11] END C=0.01, gamma=0.1, kernel=rbf;, score=(train=-3910638320.699, test=-4082672388.475) total time=   0.2s\n",
      "[CV 2/5; 6/11] START C=0.01, gamma=0.1, kernel=rbf..............................\n",
      "[CV 2/5; 6/11] END C=0.01, gamma=0.1, kernel=rbf;, score=(train=-3917806827.738, test=-4054017996.089) total time=   0.2s\n",
      "[CV 3/5; 6/11] START C=0.01, gamma=0.1, kernel=rbf..............................\n",
      "[CV 3/5; 6/11] END C=0.01, gamma=0.1, kernel=rbf;, score=(train=-3969605307.531, test=-3847022047.940) total time=   0.2s\n",
      "[CV 4/5; 6/11] START C=0.01, gamma=0.1, kernel=rbf..............................\n",
      "[CV 4/5; 6/11] END C=0.01, gamma=0.1, kernel=rbf;, score=(train=-3965088129.264, test=-3864921124.723) total time=   0.2s\n",
      "[CV 5/5; 6/11] START C=0.01, gamma=0.1, kernel=rbf..............................\n",
      "[CV 5/5; 6/11] END C=0.01, gamma=0.1, kernel=rbf;, score=(train=-3962199608.726, test=-3876477477.322) total time=   0.2s\n",
      "[CV 1/5; 7/11] START C=0.01, gamma=1, kernel=rbf................................\n",
      "[CV 1/5; 7/11] END C=0.01, gamma=1, kernel=rbf;, score=(train=-3910678385.420, test=-4082703414.649) total time=   0.2s\n",
      "[CV 2/5; 7/11] START C=0.01, gamma=1, kernel=rbf................................\n",
      "[CV 2/5; 7/11] END C=0.01, gamma=1, kernel=rbf;, score=(train=-3917844385.611, test=-4054055209.230) total time=   0.2s\n",
      "[CV 3/5; 7/11] START C=0.01, gamma=1, kernel=rbf................................\n",
      "[CV 3/5; 7/11] END C=0.01, gamma=1, kernel=rbf;, score=(train=-3969637687.828, test=-3847061463.683) total time=   0.2s\n",
      "[CV 4/5; 7/11] START C=0.01, gamma=1, kernel=rbf................................\n",
      "[CV 4/5; 7/11] END C=0.01, gamma=1, kernel=rbf;, score=(train=-3965124855.556, test=-3864958726.153) total time=   0.2s\n",
      "[CV 5/5; 7/11] START C=0.01, gamma=1, kernel=rbf................................\n",
      "[CV 5/5; 7/11] END C=0.01, gamma=1, kernel=rbf;, score=(train=-3962232443.714, test=-3876517472.111) total time=   0.2s\n",
      "[CV 1/5; 8/11] START C=0.1, gamma=0.1, kernel=rbf...............................\n",
      "[CV 1/5; 8/11] END C=0.1, gamma=0.1, kernel=rbf;, score=(train=-3910091670.928, test=-4082213693.275) total time=   0.2s\n",
      "[CV 2/5; 8/11] START C=0.1, gamma=0.1, kernel=rbf...............................\n",
      "[CV 2/5; 8/11] END C=0.1, gamma=0.1, kernel=rbf;, score=(train=-3917275963.804, test=-4053452546.307) total time=   0.2s\n",
      "[CV 3/5; 8/11] START C=0.1, gamma=0.1, kernel=rbf...............................\n",
      "[CV 3/5; 8/11] END C=0.1, gamma=0.1, kernel=rbf;, score=(train=-3969125758.288, test=-3846512409.860) total time=   0.2s\n",
      "[CV 4/5; 8/11] START C=0.1, gamma=0.1, kernel=rbf...............................\n",
      "[CV 4/5; 8/11] END C=0.1, gamma=0.1, kernel=rbf;, score=(train=-3964607235.863, test=-3864487006.975) total time=   0.2s\n",
      "[CV 5/5; 8/11] START C=0.1, gamma=0.1, kernel=rbf...............................\n",
      "[CV 5/5; 8/11] END C=0.1, gamma=0.1, kernel=rbf;, score=(train=-3961723028.290, test=-3875955106.795) total time=   0.2s\n",
      "[CV 1/5; 9/11] START C=0.1, gamma=1, kernel=rbf.................................\n",
      "[CV 1/5; 9/11] END C=0.1, gamma=1, kernel=rbf;, score=(train=-3910493145.343, test=-4082525270.588) total time=   0.2s\n",
      "[CV 2/5; 9/11] START C=0.1, gamma=1, kernel=rbf.................................\n",
      "[CV 2/5; 9/11] END C=0.1, gamma=1, kernel=rbf;, score=(train=-3917654620.356, test=-4053832199.256) total time=   0.2s\n",
      "[CV 3/5; 9/11] START C=0.1, gamma=1, kernel=rbf.................................\n",
      "[CV 3/5; 9/11] END C=0.1, gamma=1, kernel=rbf;, score=(train=-3969447621.459, test=-3846907057.783) total time=   0.2s\n",
      "[CV 4/5; 9/11] START C=0.1, gamma=1, kernel=rbf.................................\n",
      "[CV 4/5; 9/11] END C=0.1, gamma=1, kernel=rbf;, score=(train=-3964973282.254, test=-3864860030.844) total time=   0.2s\n",
      "[CV 5/5; 9/11] START C=0.1, gamma=1, kernel=rbf.................................\n",
      "[CV 5/5; 9/11] END C=0.1, gamma=1, kernel=rbf;, score=(train=-3962046519.968, test=-3876356341.992) total time=   0.2s\n",
      "[CV 1/5; 10/11] START C=1, gamma=0.1, kernel=rbf................................\n",
      "[CV 1/5; 10/11] END C=1, gamma=0.1, kernel=rbf;, score=(train=-3904632666.507, test=-4077633743.814) total time=   0.2s\n",
      "[CV 2/5; 10/11] START C=1, gamma=0.1, kernel=rbf................................\n",
      "[CV 2/5; 10/11] END C=1, gamma=0.1, kernel=rbf;, score=(train=-3911977465.654, test=-4047810405.612) total time=   0.2s\n",
      "[CV 3/5; 10/11] START C=1, gamma=0.1, kernel=rbf................................\n",
      "[CV 3/5; 10/11] END C=1, gamma=0.1, kernel=rbf;, score=(train=-3964332760.346, test=-3841422907.186) total time=   0.2s\n",
      "[CV 4/5; 10/11] START C=1, gamma=0.1, kernel=rbf................................\n",
      "[CV 4/5; 10/11] END C=1, gamma=0.1, kernel=rbf;, score=(train=-3959813664.522, test=-3860169728.838) total time=   0.2s\n",
      "[CV 5/5; 10/11] START C=1, gamma=0.1, kernel=rbf................................\n",
      "[CV 5/5; 10/11] END C=1, gamma=0.1, kernel=rbf;, score=(train=-3956962399.251, test=-3870736720.204) total time=   0.2s\n",
      "[CV 1/5; 11/11] START C=1, gamma=1, kernel=rbf..................................\n",
      "[CV 1/5; 11/11] END C=1, gamma=1, kernel=rbf;, score=(train=-3908642845.314, test=-4080745317.939) total time=   0.2s\n",
      "[CV 2/5; 11/11] START C=1, gamma=1, kernel=rbf..................................\n",
      "[CV 2/5; 11/11] END C=1, gamma=1, kernel=rbf;, score=(train=-3915758661.331, test=-4051601441.175) total time=   0.2s\n",
      "[CV 3/5; 11/11] START C=1, gamma=1, kernel=rbf..................................\n",
      "[CV 3/5; 11/11] END C=1, gamma=1, kernel=rbf;, score=(train=-3967544807.951, test=-3845366259.936) total time=   0.2s\n",
      "[CV 4/5; 11/11] START C=1, gamma=1, kernel=rbf..................................\n",
      "[CV 4/5; 11/11] END C=1, gamma=1, kernel=rbf;, score=(train=-3963461088.862, test=-3863876142.388) total time=   0.2s\n",
      "[CV 5/5; 11/11] START C=1, gamma=1, kernel=rbf..................................\n",
      "[CV 5/5; 11/11] END C=1, gamma=1, kernel=rbf;, score=(train=-3960188885.302, test=-3874746827.450) total time=   0.2s\n"
     ]
    },
    {
     "data": {
      "text/html": [
       "<style>#sk-container-id-12 {color: black;}#sk-container-id-12 pre{padding: 0;}#sk-container-id-12 div.sk-toggleable {background-color: white;}#sk-container-id-12 label.sk-toggleable__label {cursor: pointer;display: block;width: 100%;margin-bottom: 0;padding: 0.3em;box-sizing: border-box;text-align: center;}#sk-container-id-12 label.sk-toggleable__label-arrow:before {content: \"▸\";float: left;margin-right: 0.25em;color: #696969;}#sk-container-id-12 label.sk-toggleable__label-arrow:hover:before {color: black;}#sk-container-id-12 div.sk-estimator:hover label.sk-toggleable__label-arrow:before {color: black;}#sk-container-id-12 div.sk-toggleable__content {max-height: 0;max-width: 0;overflow: hidden;text-align: left;background-color: #f0f8ff;}#sk-container-id-12 div.sk-toggleable__content pre {margin: 0.2em;color: black;border-radius: 0.25em;background-color: #f0f8ff;}#sk-container-id-12 input.sk-toggleable__control:checked~div.sk-toggleable__content {max-height: 200px;max-width: 100%;overflow: auto;}#sk-container-id-12 input.sk-toggleable__control:checked~label.sk-toggleable__label-arrow:before {content: \"▾\";}#sk-container-id-12 div.sk-estimator input.sk-toggleable__control:checked~label.sk-toggleable__label {background-color: #d4ebff;}#sk-container-id-12 div.sk-label input.sk-toggleable__control:checked~label.sk-toggleable__label {background-color: #d4ebff;}#sk-container-id-12 input.sk-hidden--visually {border: 0;clip: rect(1px 1px 1px 1px);clip: rect(1px, 1px, 1px, 1px);height: 1px;margin: -1px;overflow: hidden;padding: 0;position: absolute;width: 1px;}#sk-container-id-12 div.sk-estimator {font-family: monospace;background-color: #f0f8ff;border: 1px dotted black;border-radius: 0.25em;box-sizing: border-box;margin-bottom: 0.5em;}#sk-container-id-12 div.sk-estimator:hover {background-color: #d4ebff;}#sk-container-id-12 div.sk-parallel-item::after {content: \"\";width: 100%;border-bottom: 1px solid gray;flex-grow: 1;}#sk-container-id-12 div.sk-label:hover label.sk-toggleable__label {background-color: #d4ebff;}#sk-container-id-12 div.sk-serial::before {content: \"\";position: absolute;border-left: 1px solid gray;box-sizing: border-box;top: 0;bottom: 0;left: 50%;z-index: 0;}#sk-container-id-12 div.sk-serial {display: flex;flex-direction: column;align-items: center;background-color: white;padding-right: 0.2em;padding-left: 0.2em;position: relative;}#sk-container-id-12 div.sk-item {position: relative;z-index: 1;}#sk-container-id-12 div.sk-parallel {display: flex;align-items: stretch;justify-content: center;background-color: white;position: relative;}#sk-container-id-12 div.sk-item::before, #sk-container-id-12 div.sk-parallel-item::before {content: \"\";position: absolute;border-left: 1px solid gray;box-sizing: border-box;top: 0;bottom: 0;left: 50%;z-index: -1;}#sk-container-id-12 div.sk-parallel-item {display: flex;flex-direction: column;z-index: 1;position: relative;background-color: white;}#sk-container-id-12 div.sk-parallel-item:first-child::after {align-self: flex-end;width: 50%;}#sk-container-id-12 div.sk-parallel-item:last-child::after {align-self: flex-start;width: 50%;}#sk-container-id-12 div.sk-parallel-item:only-child::after {width: 0;}#sk-container-id-12 div.sk-dashed-wrapped {border: 1px dashed gray;margin: 0 0.4em 0.5em 0.4em;box-sizing: border-box;padding-bottom: 0.4em;background-color: white;}#sk-container-id-12 div.sk-label label {font-family: monospace;font-weight: bold;display: inline-block;line-height: 1.2em;}#sk-container-id-12 div.sk-label-container {text-align: center;}#sk-container-id-12 div.sk-container {/* jupyter's `normalize.less` sets `[hidden] { display: none; }` but bootstrap.min.css set `[hidden] { display: none !important; }` so we also need the `!important` here to be able to override the default hidden behavior on the sphinx rendered scikit-learn.org. See: https://github.com/scikit-learn/scikit-learn/issues/21755 */display: inline-block !important;position: relative;}#sk-container-id-12 div.sk-text-repr-fallback {display: none;}</style><div id=\"sk-container-id-12\" class=\"sk-top-container\"><div class=\"sk-text-repr-fallback\"><pre>GridSearchCV(cv=5, estimator=SVR(),\n",
       "             param_grid=[{&#x27;C&#x27;: [0.01, 1, 100.0, 1000.0, 100000.0],\n",
       "                          &#x27;kernel&#x27;: [&#x27;linear&#x27;]},\n",
       "                         {&#x27;C&#x27;: [0.01, 0.1, 1], &#x27;gamma&#x27;: [0.1, 1],\n",
       "                          &#x27;kernel&#x27;: [&#x27;rbf&#x27;]}],\n",
       "             return_train_score=True, scoring=&#x27;neg_mean_squared_error&#x27;,\n",
       "             verbose=10)</pre><b>In a Jupyter environment, please rerun this cell to show the HTML representation or trust the notebook. <br />On GitHub, the HTML representation is unable to render, please try loading this page with nbviewer.org.</b></div><div class=\"sk-container\" hidden><div class=\"sk-item sk-dashed-wrapped\"><div class=\"sk-label-container\"><div class=\"sk-label sk-toggleable\"><input class=\"sk-toggleable__control sk-hidden--visually\" id=\"sk-estimator-id-34\" type=\"checkbox\" ><label for=\"sk-estimator-id-34\" class=\"sk-toggleable__label sk-toggleable__label-arrow\">GridSearchCV</label><div class=\"sk-toggleable__content\"><pre>GridSearchCV(cv=5, estimator=SVR(),\n",
       "             param_grid=[{&#x27;C&#x27;: [0.01, 1, 100.0, 1000.0, 100000.0],\n",
       "                          &#x27;kernel&#x27;: [&#x27;linear&#x27;]},\n",
       "                         {&#x27;C&#x27;: [0.01, 0.1, 1], &#x27;gamma&#x27;: [0.1, 1],\n",
       "                          &#x27;kernel&#x27;: [&#x27;rbf&#x27;]}],\n",
       "             return_train_score=True, scoring=&#x27;neg_mean_squared_error&#x27;,\n",
       "             verbose=10)</pre></div></div></div><div class=\"sk-parallel\"><div class=\"sk-parallel-item\"><div class=\"sk-item\"><div class=\"sk-label-container\"><div class=\"sk-label sk-toggleable\"><input class=\"sk-toggleable__control sk-hidden--visually\" id=\"sk-estimator-id-35\" type=\"checkbox\" ><label for=\"sk-estimator-id-35\" class=\"sk-toggleable__label sk-toggleable__label-arrow\">estimator: SVR</label><div class=\"sk-toggleable__content\"><pre>SVR()</pre></div></div></div><div class=\"sk-serial\"><div class=\"sk-item\"><div class=\"sk-estimator sk-toggleable\"><input class=\"sk-toggleable__control sk-hidden--visually\" id=\"sk-estimator-id-36\" type=\"checkbox\" ><label for=\"sk-estimator-id-36\" class=\"sk-toggleable__label sk-toggleable__label-arrow\">SVR</label><div class=\"sk-toggleable__content\"><pre>SVR()</pre></div></div></div></div></div></div></div></div></div></div>"
      ],
      "text/plain": [
       "GridSearchCV(cv=5, estimator=SVR(),\n",
       "             param_grid=[{'C': [0.01, 1, 100.0, 1000.0, 100000.0],\n",
       "                          'kernel': ['linear']},\n",
       "                         {'C': [0.01, 0.1, 1], 'gamma': [0.1, 1],\n",
       "                          'kernel': ['rbf']}],\n",
       "             return_train_score=True, scoring='neg_mean_squared_error',\n",
       "             verbose=10)"
      ]
     },
     "execution_count": 165,
     "metadata": {},
     "output_type": "execute_result"
    }
   ],
   "source": [
    "from sklearn.svm import SVR\n",
    "\n",
    "param_grid_svr = [\n",
    "    {\"kernel\": [\"linear\"], \"C\": [0.01, 1, 1e2, 1e3, 1e5]},\n",
    "    {\"kernel\": [\"rbf\"], \"C\": [0.01, 0.1, 1], \"gamma\": [0.1, 1]}\n",
    "]\n",
    "\n",
    "svr = SVR()\n",
    "grid_search = GridSearchCV(\n",
    "    svr,\n",
    "    param_grid_svr,\n",
    "    cv=5,\n",
    "    scoring=\"neg_mean_squared_error\",\n",
    "    return_train_score=True,\n",
    "    verbose=10\n",
    ")\n",
    "\n",
    "grid_search.fit(salaries_prepared, salaries_labels)"
   ]
  },
  {
   "cell_type": "code",
   "execution_count": 166,
   "metadata": {},
   "outputs": [
    {
     "data": {
      "text/plain": [
       "{'C': 100000.0, 'kernel': 'linear'}"
      ]
     },
     "execution_count": 166,
     "metadata": {},
     "output_type": "execute_result"
    }
   ],
   "source": [
    "grid_search.best_params_"
   ]
  },
  {
   "cell_type": "markdown",
   "metadata": {},
   "source": [
    "### Analyze the best model"
   ]
  },
  {
   "cell_type": "code",
   "execution_count": 167,
   "metadata": {},
   "outputs": [
    {
     "data": {
      "text/plain": [
       "array([[   823.74544238,  15467.138795  ,   8950.39861699,\n",
       "        -38907.42961076,  54025.18945509, -20450.48017834,\n",
       "          5332.72033402,  -2570.12595071,  -6657.18811316,\n",
       "         17813.83273736,  -8586.51867349,    808.41163839,\n",
       "          8115.43777813,  -8923.84941652, -18257.77831683,\n",
       "         12239.88577717,  15093.80366522, -15906.3731084 ,\n",
       "         -2470.99730771,   -439.84351999, -14211.03551002,\n",
       "          2529.07337237,  22093.47133998,  22096.90354932,\n",
       "         21304.24493241,  12742.50457423,  14123.96039988,\n",
       "         -9963.63021492,  13186.27991856,  -6199.98211505,\n",
       "         -6657.18811316,  -6657.18811316,  13018.40414792,\n",
       "        -35803.89100039]])"
      ]
     },
     "execution_count": 167,
     "metadata": {},
     "output_type": "execute_result"
    }
   ],
   "source": [
    "# Best svr model\n",
    "best_svr = grid_search.best_estimator_\n",
    "\n",
    "# Feature importances of SVR\n",
    "feature_importances_svr = best_svr.coef_\n",
    "feature_importances_svr"
   ]
  },
  {
   "cell_type": "markdown",
   "metadata": {},
   "source": [
    "### Evaluate the model on the test set"
   ]
  },
  {
   "cell_type": "code",
   "execution_count": 168,
   "metadata": {},
   "outputs": [],
   "source": [
    "X_test = test_set.drop(\"salary_in_usd\", axis=1)\n",
    "y_test = test_set[\"salary_in_usd\"].copy()\n",
    "X_test_prepared = final_pipeline.transform(X_test)"
   ]
  },
  {
   "cell_type": "code",
   "execution_count": 170,
   "metadata": {},
   "outputs": [
    {
     "data": {
      "text/plain": [
       "51748.648146531115"
      ]
     },
     "execution_count": 170,
     "metadata": {},
     "output_type": "execute_result"
    }
   ],
   "source": [
    "from sklearn.metrics import mean_squared_error\n",
    "\n",
    "final_model_svr = grid_search.best_estimator_\n",
    "final_predictions = final_model_svr.predict(X_test_prepared)\n",
    "\n",
    "final_mse = mean_squared_error(y_test, final_predictions)\n",
    "final_rmse = np.sqrt(final_mse)\n",
    "final_rmse"
   ]
  },
  {
   "cell_type": "code",
   "execution_count": 171,
   "metadata": {},
   "outputs": [
    {
     "data": {
      "text/plain": [
       "0.35113281180550415"
      ]
     },
     "execution_count": 171,
     "metadata": {},
     "output_type": "execute_result"
    }
   ],
   "source": [
    "# Get precission of the model\n",
    "r2_score(y_test, final_predictions)"
   ]
  },
  {
   "cell_type": "markdown",
   "metadata": {},
   "source": [
    "## Exercise 2 - Try replacing GridSearchCV with RandomizedSearchCV"
   ]
  },
  {
   "cell_type": "code",
   "execution_count": 173,
   "metadata": {},
   "outputs": [
    {
     "name": "stdout",
     "output_type": "stream",
     "text": [
      "Fitting 5 folds for each of 50 candidates, totalling 250 fits\n",
      "[CV 1/5; 1/50] START C=629.7823295913721, gamma=3.010121430917521, kernel=linear\n",
      "[CV 1/5; 1/50] END C=629.7823295913721, gamma=3.010121430917521, kernel=linear;, score=-2770808753.173 total time=   0.1s\n",
      "[CV 2/5; 1/50] START C=629.7823295913721, gamma=3.010121430917521, kernel=linear\n",
      "[CV 2/5; 1/50] END C=629.7823295913721, gamma=3.010121430917521, kernel=linear;, score=-2690954925.177 total time=   0.1s\n",
      "[CV 3/5; 1/50] START C=629.7823295913721, gamma=3.010121430917521, kernel=linear\n",
      "[CV 3/5; 1/50] END C=629.7823295913721, gamma=3.010121430917521, kernel=linear;, score=-2423513022.344 total time=   0.0s\n",
      "[CV 4/5; 1/50] START C=629.7823295913721, gamma=3.010121430917521, kernel=linear\n",
      "[CV 4/5; 1/50] END C=629.7823295913721, gamma=3.010121430917521, kernel=linear;, score=-2471639632.566 total time=   0.1s\n",
      "[CV 5/5; 1/50] START C=629.7823295913721, gamma=3.010121430917521, kernel=linear\n",
      "[CV 5/5; 1/50] END C=629.7823295913721, gamma=3.010121430917521, kernel=linear;, score=-2341546837.428 total time=   0.0s\n",
      "[CV 1/5; 2/50] START C=26290.20646430022, gamma=0.9084469696321253, kernel=rbf..\n",
      "[CV 1/5; 2/50] END C=26290.20646430022, gamma=0.9084469696321253, kernel=rbf;, score=-2893007733.697 total time=   0.2s\n",
      "[CV 2/5; 2/50] START C=26290.20646430022, gamma=0.9084469696321253, kernel=rbf..\n",
      "[CV 2/5; 2/50] END C=26290.20646430022, gamma=0.9084469696321253, kernel=rbf;, score=-2596013253.168 total time=   0.2s\n",
      "[CV 3/5; 2/50] START C=26290.20646430022, gamma=0.9084469696321253, kernel=rbf..\n",
      "[CV 3/5; 2/50] END C=26290.20646430022, gamma=0.9084469696321253, kernel=rbf;, score=-2448299284.339 total time=   0.2s\n",
      "[CV 4/5; 2/50] START C=26290.20646430022, gamma=0.9084469696321253, kernel=rbf..\n",
      "[CV 4/5; 2/50] END C=26290.20646430022, gamma=0.9084469696321253, kernel=rbf;, score=-2458265491.599 total time=   0.2s\n",
      "[CV 5/5; 2/50] START C=26290.20646430022, gamma=0.9084469696321253, kernel=rbf..\n",
      "[CV 5/5; 2/50] END C=26290.20646430022, gamma=0.9084469696321253, kernel=rbf;, score=-2209244493.435 total time=   0.2s\n",
      "[CV 1/5; 3/50] START C=84.14107900575871, gamma=0.059838768608680676, kernel=rbf\n",
      "[CV 1/5; 3/50] END C=84.14107900575871, gamma=0.059838768608680676, kernel=rbf;, score=-3754663489.122 total time=   0.2s\n",
      "[CV 2/5; 3/50] START C=84.14107900575871, gamma=0.059838768608680676, kernel=rbf\n",
      "[CV 2/5; 3/50] END C=84.14107900575871, gamma=0.059838768608680676, kernel=rbf;, score=-3671119550.227 total time=   0.2s\n",
      "[CV 3/5; 3/50] START C=84.14107900575871, gamma=0.059838768608680676, kernel=rbf\n",
      "[CV 3/5; 3/50] END C=84.14107900575871, gamma=0.059838768608680676, kernel=rbf;, score=-3446776104.530 total time=   0.2s\n",
      "[CV 4/5; 3/50] START C=84.14107900575871, gamma=0.059838768608680676, kernel=rbf\n",
      "[CV 4/5; 3/50] END C=84.14107900575871, gamma=0.059838768608680676, kernel=rbf;, score=-3510992614.218 total time=   0.2s\n",
      "[CV 5/5; 3/50] START C=84.14107900575871, gamma=0.059838768608680676, kernel=rbf\n",
      "[CV 5/5; 3/50] END C=84.14107900575871, gamma=0.059838768608680676, kernel=rbf;, score=-3460621558.253 total time=   0.2s\n",
      "[CV 1/5; 4/50] START C=432.37884813148844, gamma=0.15416196746656105, kernel=linear\n",
      "[CV 1/5; 4/50] END C=432.37884813148844, gamma=0.15416196746656105, kernel=linear;, score=-2828175374.417 total time=   0.0s\n",
      "[CV 2/5; 4/50] START C=432.37884813148844, gamma=0.15416196746656105, kernel=linear\n",
      "[CV 2/5; 4/50] END C=432.37884813148844, gamma=0.15416196746656105, kernel=linear;, score=-2727191504.620 total time=   0.0s\n",
      "[CV 3/5; 4/50] START C=432.37884813148844, gamma=0.15416196746656105, kernel=linear\n",
      "[CV 3/5; 4/50] END C=432.37884813148844, gamma=0.15416196746656105, kernel=linear;, score=-2453393585.126 total time=   0.0s\n",
      "[CV 4/5; 4/50] START C=432.37884813148844, gamma=0.15416196746656105, kernel=linear\n",
      "[CV 4/5; 4/50] END C=432.37884813148844, gamma=0.15416196746656105, kernel=linear;, score=-2497050230.644 total time=   0.0s\n",
      "[CV 5/5; 4/50] START C=432.37884813148844, gamma=0.15416196746656105, kernel=linear\n",
      "[CV 5/5; 4/50] END C=432.37884813148844, gamma=0.15416196746656105, kernel=linear;, score=-2361202539.270 total time=   0.0s\n",
      "[CV 1/5; 5/50] START C=24.175082946113903, gamma=3.503557475158312, kernel=rbf..\n",
      "[CV 1/5; 5/50] END C=24.175082946113903, gamma=3.503557475158312, kernel=rbf;, score=-4046551152.567 total time=   0.2s\n",
      "[CV 2/5; 5/50] START C=24.175082946113903, gamma=3.503557475158312, kernel=rbf..\n",
      "[CV 2/5; 5/50] END C=24.175082946113903, gamma=3.503557475158312, kernel=rbf;, score=-4012654336.041 total time=   0.2s\n",
      "[CV 3/5; 5/50] START C=24.175082946113903, gamma=3.503557475158312, kernel=rbf..\n",
      "[CV 3/5; 5/50] END C=24.175082946113903, gamma=3.503557475158312, kernel=rbf;, score=-3815663206.990 total time=   0.2s\n",
      "[CV 4/5; 5/50] START C=24.175082946113903, gamma=3.503557475158312, kernel=rbf..\n",
      "[CV 4/5; 5/50] END C=24.175082946113903, gamma=3.503557475158312, kernel=rbf;, score=-3842733127.086 total time=   0.2s\n",
      "[CV 5/5; 5/50] START C=24.175082946113903, gamma=3.503557475158312, kernel=rbf..\n",
      "[CV 5/5; 5/50] END C=24.175082946113903, gamma=3.503557475158312, kernel=rbf;, score=-3843740639.635 total time=   0.2s\n",
      "[CV 1/5; 6/50] START C=113564.03940586244, gamma=0.0007790692366582295, kernel=rbf\n",
      "[CV 1/5; 6/50] END C=113564.03940586244, gamma=0.0007790692366582295, kernel=rbf;, score=-2921050767.427 total time=   0.2s\n",
      "[CV 2/5; 6/50] START C=113564.03940586244, gamma=0.0007790692366582295, kernel=rbf\n",
      "[CV 2/5; 6/50] END C=113564.03940586244, gamma=0.0007790692366582295, kernel=rbf;, score=-2795039471.536 total time=   0.2s\n",
      "[CV 3/5; 6/50] START C=113564.03940586244, gamma=0.0007790692366582295, kernel=rbf\n",
      "[CV 3/5; 6/50] END C=113564.03940586244, gamma=0.0007790692366582295, kernel=rbf;, score=-2541717461.570 total time=   0.2s\n",
      "[CV 4/5; 6/50] START C=113564.03940586244, gamma=0.0007790692366582295, kernel=rbf\n",
      "[CV 4/5; 6/50] END C=113564.03940586244, gamma=0.0007790692366582295, kernel=rbf;, score=-2582927401.004 total time=   0.2s\n",
      "[CV 5/5; 6/50] START C=113564.03940586244, gamma=0.0007790692366582295, kernel=rbf\n",
      "[CV 5/5; 6/50] END C=113564.03940586244, gamma=0.0007790692366582295, kernel=rbf;, score=-2463431343.407 total time=   0.2s\n",
      "[CV 1/5; 7/50] START C=108.30488238805071, gamma=0.3627537294604771, kernel=rbf.\n",
      "[CV 1/5; 7/50] END C=108.30488238805071, gamma=0.3627537294604771, kernel=rbf;, score=-3837657174.007 total time=   0.2s\n",
      "[CV 2/5; 7/50] START C=108.30488238805071, gamma=0.3627537294604771, kernel=rbf.\n",
      "[CV 2/5; 7/50] END C=108.30488238805071, gamma=0.3627537294604771, kernel=rbf;, score=-3750249349.810 total time=   0.2s\n",
      "[CV 3/5; 7/50] START C=108.30488238805071, gamma=0.3627537294604771, kernel=rbf.\n",
      "[CV 3/5; 7/50] END C=108.30488238805071, gamma=0.3627537294604771, kernel=rbf;, score=-3540407208.889 total time=   0.2s\n",
      "[CV 4/5; 7/50] START C=108.30488238805071, gamma=0.3627537294604771, kernel=rbf.\n",
      "[CV 4/5; 7/50] END C=108.30488238805071, gamma=0.3627537294604771, kernel=rbf;, score=-3608077569.261 total time=   0.2s\n",
      "[CV 5/5; 7/50] START C=108.30488238805071, gamma=0.3627537294604771, kernel=rbf.\n",
      "[CV 5/5; 7/50] END C=108.30488238805071, gamma=0.3627537294604771, kernel=rbf;, score=-3552565756.224 total time=   0.2s\n",
      "[CV 1/5; 8/50] START C=21.34495367264743, gamma=0.023332523598323388, kernel=linear\n",
      "[CV 1/5; 8/50] END C=21.34495367264743, gamma=0.023332523598323388, kernel=linear;, score=-3294134199.052 total time=   0.0s\n",
      "[CV 2/5; 8/50] START C=21.34495367264743, gamma=0.023332523598323388, kernel=linear\n",
      "[CV 2/5; 8/50] END C=21.34495367264743, gamma=0.023332523598323388, kernel=linear;, score=-3171890311.575 total time=   0.0s\n",
      "[CV 3/5; 8/50] START C=21.34495367264743, gamma=0.023332523598323388, kernel=linear\n",
      "[CV 3/5; 8/50] END C=21.34495367264743, gamma=0.023332523598323388, kernel=linear;, score=-2859990445.346 total time=   0.0s\n",
      "[CV 4/5; 8/50] START C=21.34495367264743, gamma=0.023332523598323388, kernel=linear\n",
      "[CV 4/5; 8/50] END C=21.34495367264743, gamma=0.023332523598323388, kernel=linear;, score=-2916256869.807 total time=   0.0s\n",
      "[CV 5/5; 8/50] START C=21.34495367264743, gamma=0.023332523598323388, kernel=linear\n",
      "[CV 5/5; 8/50] END C=21.34495367264743, gamma=0.023332523598323388, kernel=linear;, score=-2842624345.805 total time=   0.0s\n",
      "[CV 1/5; 9/50] START C=5603.270317432522, gamma=0.15023452872733867, kernel=rbf.\n",
      "[CV 1/5; 9/50] END C=5603.270317432522, gamma=0.15023452872733867, kernel=rbf;, score=-2749796394.169 total time=   0.2s\n",
      "[CV 2/5; 9/50] START C=5603.270317432522, gamma=0.15023452872733867, kernel=rbf.\n",
      "[CV 2/5; 9/50] END C=5603.270317432522, gamma=0.15023452872733867, kernel=rbf;, score=-2596974956.846 total time=   0.2s\n",
      "[CV 3/5; 9/50] START C=5603.270317432522, gamma=0.15023452872733867, kernel=rbf.\n",
      "[CV 3/5; 9/50] END C=5603.270317432522, gamma=0.15023452872733867, kernel=rbf;, score=-2320126859.514 total time=   0.2s\n",
      "[CV 4/5; 9/50] START C=5603.270317432522, gamma=0.15023452872733867, kernel=rbf.\n",
      "[CV 4/5; 9/50] END C=5603.270317432522, gamma=0.15023452872733867, kernel=rbf;, score=-2390708305.076 total time=   0.2s\n",
      "[CV 5/5; 9/50] START C=5603.270317432522, gamma=0.15023452872733867, kernel=rbf.\n",
      "[CV 5/5; 9/50] END C=5603.270317432522, gamma=0.15023452872733867, kernel=rbf;, score=-2199322877.974 total time=   0.2s\n",
      "[CV 1/5; 10/50] START C=157055.10989448498, gamma=0.26497040005002437, kernel=rbf\n",
      "[CV 1/5; 10/50] END C=157055.10989448498, gamma=0.26497040005002437, kernel=rbf;, score=-2683382099.967 total time=   0.2s\n",
      "[CV 2/5; 10/50] START C=157055.10989448498, gamma=0.26497040005002437, kernel=rbf\n",
      "[CV 2/5; 10/50] END C=157055.10989448498, gamma=0.26497040005002437, kernel=rbf;, score=-2566596700.614 total time=   0.2s\n",
      "[CV 3/5; 10/50] START C=157055.10989448498, gamma=0.26497040005002437, kernel=rbf\n",
      "[CV 3/5; 10/50] END C=157055.10989448498, gamma=0.26497040005002437, kernel=rbf;, score=-2251786254.520 total time=   0.2s\n",
      "[CV 4/5; 10/50] START C=157055.10989448498, gamma=0.26497040005002437, kernel=rbf\n",
      "[CV 4/5; 10/50] END C=157055.10989448498, gamma=0.26497040005002437, kernel=rbf;, score=-2292998387.053 total time=   0.2s\n",
      "[CV 5/5; 10/50] START C=157055.10989448498, gamma=0.26497040005002437, kernel=rbf\n",
      "[CV 5/5; 10/50] END C=157055.10989448498, gamma=0.26497040005002437, kernel=rbf;, score=-2185105971.299 total time=   0.2s\n",
      "[CV 1/5; 11/50] START C=27652.46435873972, gamma=0.2227358621286903, kernel=linear\n",
      "[CV 1/5; 11/50] END C=27652.46435873972, gamma=0.2227358621286903, kernel=linear;, score=-2672475004.546 total time=   0.2s\n",
      "[CV 2/5; 11/50] START C=27652.46435873972, gamma=0.2227358621286903, kernel=linear\n",
      "[CV 2/5; 11/50] END C=27652.46435873972, gamma=0.2227358621286903, kernel=linear;, score=-2694663723.919 total time=   1.6s\n",
      "[CV 3/5; 11/50] START C=27652.46435873972, gamma=0.2227358621286903, kernel=linear\n",
      "[CV 3/5; 11/50] END C=27652.46435873972, gamma=0.2227358621286903, kernel=linear;, score=-2320850598.324 total time=   0.1s\n",
      "[CV 4/5; 11/50] START C=27652.46435873972, gamma=0.2227358621286903, kernel=linear\n",
      "[CV 4/5; 11/50] END C=27652.46435873972, gamma=0.2227358621286903, kernel=linear;, score=-2328600608.748 total time=   0.1s\n",
      "[CV 5/5; 11/50] START C=27652.46435873972, gamma=0.2227358621286903, kernel=linear\n",
      "[CV 5/5; 11/50] END C=27652.46435873972, gamma=0.2227358621286903, kernel=linear;, score=-2247547807.599 total time=   0.1s\n",
      "[CV 1/5; 12/50] START C=171377.39570377997, gamma=0.628789100540856, kernel=linear\n",
      "[CV 1/5; 12/50] END C=171377.39570377997, gamma=0.628789100540856, kernel=linear;, score=-2668868248.454 total time=   0.3s\n",
      "[CV 2/5; 12/50] START C=171377.39570377997, gamma=0.628789100540856, kernel=linear\n",
      "[CV 2/5; 12/50] END C=171377.39570377997, gamma=0.628789100540856, kernel=linear;, score=-2696210743.816 total time=   0.3s\n",
      "[CV 3/5; 12/50] START C=171377.39570377997, gamma=0.628789100540856, kernel=linear\n",
      "[CV 3/5; 12/50] END C=171377.39570377997, gamma=0.628789100540856, kernel=linear;, score=-2321906727.018 total time=   0.3s\n",
      "[CV 4/5; 12/50] START C=171377.39570377997, gamma=0.628789100540856, kernel=linear\n",
      "[CV 4/5; 12/50] END C=171377.39570377997, gamma=0.628789100540856, kernel=linear;, score=-2327447259.934 total time=   0.3s\n",
      "[CV 5/5; 12/50] START C=171377.39570377997, gamma=0.628789100540856, kernel=linear\n",
      "[CV 5/5; 12/50] END C=171377.39570377997, gamma=0.628789100540856, kernel=linear;, score=-2249324731.841 total time=   0.4s\n",
      "[CV 1/5; 13/50] START C=5385.293820172355, gamma=0.18696125197741642, kernel=linear\n",
      "[CV 1/5; 13/50] END C=5385.293820172355, gamma=0.18696125197741642, kernel=linear;, score=-2669504736.714 total time=   0.1s\n",
      "[CV 2/5; 13/50] START C=5385.293820172355, gamma=0.18696125197741642, kernel=linear\n",
      "[CV 2/5; 13/50] END C=5385.293820172355, gamma=0.18696125197741642, kernel=linear;, score=-2687154370.006 total time=   0.1s\n",
      "[CV 3/5; 13/50] START C=5385.293820172355, gamma=0.18696125197741642, kernel=linear\n",
      "[CV 3/5; 13/50] END C=5385.293820172355, gamma=0.18696125197741642, kernel=linear;, score=-2335481256.231 total time=   0.1s\n",
      "[CV 4/5; 13/50] START C=5385.293820172355, gamma=0.18696125197741642, kernel=linear\n",
      "[CV 4/5; 13/50] END C=5385.293820172355, gamma=0.18696125197741642, kernel=linear;, score=-2333334618.230 total time=   0.1s\n",
      "[CV 5/5; 13/50] START C=5385.293820172355, gamma=0.18696125197741642, kernel=linear\n",
      "[CV 5/5; 13/50] END C=5385.293820172355, gamma=0.18696125197741642, kernel=linear;, score=-2248044541.090 total time=   0.1s\n",
      "[CV 1/5; 14/50] START C=22.599032166213227, gamma=2.850796878935603, kernel=rbf.\n",
      "[CV 1/5; 14/50] END C=22.599032166213227, gamma=2.850796878935603, kernel=rbf;, score=-4048717134.997 total time=   0.2s\n",
      "[CV 2/5; 14/50] START C=22.599032166213227, gamma=2.850796878935603, kernel=rbf.\n",
      "[CV 2/5; 14/50] END C=22.599032166213227, gamma=2.850796878935603, kernel=rbf;, score=-4014674788.339 total time=   0.2s\n",
      "[CV 3/5; 14/50] START C=22.599032166213227, gamma=2.850796878935603, kernel=rbf.\n",
      "[CV 3/5; 14/50] END C=22.599032166213227, gamma=2.850796878935603, kernel=rbf;, score=-3817514517.648 total time=   0.2s\n",
      "[CV 4/5; 14/50] START C=22.599032166213227, gamma=2.850796878935603, kernel=rbf.\n",
      "[CV 4/5; 14/50] END C=22.599032166213227, gamma=2.850796878935603, kernel=rbf;, score=-3843299630.817 total time=   0.2s\n",
      "[CV 5/5; 14/50] START C=22.599032166213227, gamma=2.850796878935603, kernel=rbf.\n",
      "[CV 5/5; 14/50] END C=22.599032166213227, gamma=2.850796878935603, kernel=rbf;, score=-3845700247.729 total time=   0.2s\n",
      "[CV 1/5; 15/50] START C=34246.751946327975, gamma=0.3632878599687583, kernel=linear\n",
      "[CV 1/5; 15/50] END C=34246.751946327975, gamma=0.3632878599687583, kernel=linear;, score=-2668893059.994 total time=   0.1s\n",
      "[CV 2/5; 15/50] START C=34246.751946327975, gamma=0.3632878599687583, kernel=linear\n",
      "[CV 2/5; 15/50] END C=34246.751946327975, gamma=0.3632878599687583, kernel=linear;, score=-2695898279.659 total time=   1.2s\n",
      "[CV 3/5; 15/50] START C=34246.751946327975, gamma=0.3632878599687583, kernel=linear\n",
      "[CV 3/5; 15/50] END C=34246.751946327975, gamma=0.3632878599687583, kernel=linear;, score=-2321206998.678 total time=   0.1s\n",
      "[CV 4/5; 15/50] START C=34246.751946327975, gamma=0.3632878599687583, kernel=linear\n",
      "[CV 4/5; 15/50] END C=34246.751946327975, gamma=0.3632878599687583, kernel=linear;, score=-2329150983.596 total time=   0.1s\n",
      "[CV 5/5; 15/50] START C=34246.751946327975, gamma=0.3632878599687583, kernel=linear\n",
      "[CV 5/5; 15/50] END C=34246.751946327975, gamma=0.3632878599687583, kernel=linear;, score=-2247607452.828 total time=   0.1s\n",
      "[CV 1/5; 16/50] START C=167.7278956080511, gamma=0.2757870542258224, kernel=rbf.\n",
      "[CV 1/5; 16/50] END C=167.7278956080511, gamma=0.2757870542258224, kernel=rbf;, score=-3693417838.855 total time=   0.2s\n",
      "[CV 2/5; 16/50] START C=167.7278956080511, gamma=0.2757870542258224, kernel=rbf.\n",
      "[CV 2/5; 16/50] END C=167.7278956080511, gamma=0.2757870542258224, kernel=rbf;, score=-3578565539.029 total time=   0.2s\n",
      "[CV 3/5; 16/50] START C=167.7278956080511, gamma=0.2757870542258224, kernel=rbf.\n",
      "[CV 3/5; 16/50] END C=167.7278956080511, gamma=0.2757870542258224, kernel=rbf;, score=-3346803919.959 total time=   0.2s\n",
      "[CV 4/5; 16/50] START C=167.7278956080511, gamma=0.2757870542258224, kernel=rbf.\n",
      "[CV 4/5; 16/50] END C=167.7278956080511, gamma=0.2757870542258224, kernel=rbf;, score=-3430636284.260 total time=   0.2s\n",
      "[CV 5/5; 16/50] START C=167.7278956080511, gamma=0.2757870542258224, kernel=rbf.\n",
      "[CV 5/5; 16/50] END C=167.7278956080511, gamma=0.2757870542258224, kernel=rbf;, score=-3344609256.118 total time=   0.2s\n",
      "[CV 1/5; 17/50] START C=61.54360542501372, gamma=0.6835472281341501, kernel=linear\n",
      "[CV 1/5; 17/50] END C=61.54360542501372, gamma=0.6835472281341501, kernel=linear;, score=-3099462575.769 total time=   0.0s\n",
      "[CV 2/5; 17/50] START C=61.54360542501372, gamma=0.6835472281341501, kernel=linear\n",
      "[CV 2/5; 17/50] END C=61.54360542501372, gamma=0.6835472281341501, kernel=linear;, score=-2969156903.510 total time=   0.0s\n",
      "[CV 3/5; 17/50] START C=61.54360542501372, gamma=0.6835472281341501, kernel=linear\n",
      "[CV 3/5; 17/50] END C=61.54360542501372, gamma=0.6835472281341501, kernel=linear;, score=-2679231873.536 total time=   0.1s\n",
      "[CV 4/5; 17/50] START C=61.54360542501372, gamma=0.6835472281341501, kernel=linear\n",
      "[CV 4/5; 17/50] END C=61.54360542501372, gamma=0.6835472281341501, kernel=linear;, score=-2725215402.278 total time=   0.0s\n",
      "[CV 5/5; 17/50] START C=61.54360542501372, gamma=0.6835472281341501, kernel=linear\n",
      "[CV 5/5; 17/50] END C=61.54360542501372, gamma=0.6835472281341501, kernel=linear;, score=-2631083506.295 total time=   0.0s\n",
      "[CV 1/5; 18/50] START C=98.73897389920917, gamma=0.4960365360493639, kernel=rbf.\n",
      "[CV 1/5; 18/50] END C=98.73897389920917, gamma=0.4960365360493639, kernel=rbf;, score=-3893209534.861 total time=   0.2s\n",
      "[CV 2/5; 18/50] START C=98.73897389920917, gamma=0.4960365360493639, kernel=rbf.\n",
      "[CV 2/5; 18/50] END C=98.73897389920917, gamma=0.4960365360493639, kernel=rbf;, score=-3823269231.466 total time=   0.2s\n",
      "[CV 3/5; 18/50] START C=98.73897389920917, gamma=0.4960365360493639, kernel=rbf.\n",
      "[CV 3/5; 18/50] END C=98.73897389920917, gamma=0.4960365360493639, kernel=rbf;, score=-3618201640.755 total time=   0.2s\n",
      "[CV 4/5; 18/50] START C=98.73897389920917, gamma=0.4960365360493639, kernel=rbf.\n",
      "[CV 4/5; 18/50] END C=98.73897389920917, gamma=0.4960365360493639, kernel=rbf;, score=-3674428793.391 total time=   0.2s\n",
      "[CV 5/5; 18/50] START C=98.73897389920917, gamma=0.4960365360493639, kernel=rbf.\n",
      "[CV 5/5; 18/50] END C=98.73897389920917, gamma=0.4960365360493639, kernel=rbf;, score=-3634020527.465 total time=   0.2s\n",
      "[CV 1/5; 19/50] START C=8935.505635947806, gamma=0.37354658165762367, kernel=rbf\n",
      "[CV 1/5; 19/50] END C=8935.505635947806, gamma=0.37354658165762367, kernel=rbf;, score=-2792268628.407 total time=   0.2s\n",
      "[CV 2/5; 19/50] START C=8935.505635947806, gamma=0.37354658165762367, kernel=rbf\n",
      "[CV 2/5; 19/50] END C=8935.505635947806, gamma=0.37354658165762367, kernel=rbf;, score=-2559193246.604 total time=   0.2s\n",
      "[CV 3/5; 19/50] START C=8935.505635947806, gamma=0.37354658165762367, kernel=rbf\n",
      "[CV 3/5; 19/50] END C=8935.505635947806, gamma=0.37354658165762367, kernel=rbf;, score=-2363270343.780 total time=   0.2s\n",
      "[CV 4/5; 19/50] START C=8935.505635947806, gamma=0.37354658165762367, kernel=rbf\n",
      "[CV 4/5; 19/50] END C=8935.505635947806, gamma=0.37354658165762367, kernel=rbf;, score=-2401196142.153 total time=   0.2s\n",
      "[CV 5/5; 19/50] START C=8935.505635947806, gamma=0.37354658165762367, kernel=rbf\n",
      "[CV 5/5; 19/50] END C=8935.505635947806, gamma=0.37354658165762367, kernel=rbf;, score=-2191065638.814 total time=   0.2s\n",
      "[CV 1/5; 20/50] START C=135.7677582484244, gamma=0.838636245624803, kernel=linear\n",
      "[CV 1/5; 20/50] END C=135.7677582484244, gamma=0.838636245624803, kernel=linear;, score=-2960271335.918 total time=   0.0s\n",
      "[CV 2/5; 20/50] START C=135.7677582484244, gamma=0.838636245624803, kernel=linear\n",
      "[CV 2/5; 20/50] END C=135.7677582484244, gamma=0.838636245624803, kernel=linear;, score=-2833208217.057 total time=   0.0s\n",
      "[CV 3/5; 20/50] START C=135.7677582484244, gamma=0.838636245624803, kernel=linear\n",
      "[CV 3/5; 20/50] END C=135.7677582484244, gamma=0.838636245624803, kernel=linear;, score=-2585684830.086 total time=   0.0s\n",
      "[CV 4/5; 20/50] START C=135.7677582484244, gamma=0.838636245624803, kernel=linear\n",
      "[CV 4/5; 20/50] END C=135.7677582484244, gamma=0.838636245624803, kernel=linear;, score=-2627724247.878 total time=   0.0s\n",
      "[CV 5/5; 20/50] START C=135.7677582484244, gamma=0.838636245624803, kernel=linear\n",
      "[CV 5/5; 20/50] END C=135.7677582484244, gamma=0.838636245624803, kernel=linear;, score=-2505754011.828 total time=   0.0s\n",
      "[CV 1/5; 21/50] START C=151136.20282548846, gamma=1.4922453771381408, kernel=rbf\n",
      "[CV 1/5; 21/50] END C=151136.20282548846, gamma=1.4922453771381408, kernel=rbf;, score=-3015493071.230 total time=   0.2s\n",
      "[CV 2/5; 21/50] START C=151136.20282548846, gamma=1.4922453771381408, kernel=rbf\n",
      "[CV 2/5; 21/50] END C=151136.20282548846, gamma=1.4922453771381408, kernel=rbf;, score=-2742684504.589 total time=   0.2s\n",
      "[CV 3/5; 21/50] START C=151136.20282548846, gamma=1.4922453771381408, kernel=rbf\n",
      "[CV 3/5; 21/50] END C=151136.20282548846, gamma=1.4922453771381408, kernel=rbf;, score=-2596746753.986 total time=   0.2s\n",
      "[CV 4/5; 21/50] START C=151136.20282548846, gamma=1.4922453771381408, kernel=rbf\n",
      "[CV 4/5; 21/50] END C=151136.20282548846, gamma=1.4922453771381408, kernel=rbf;, score=-2529199797.533 total time=   0.2s\n",
      "[CV 5/5; 21/50] START C=151136.20282548846, gamma=1.4922453771381408, kernel=rbf\n",
      "[CV 5/5; 21/50] END C=151136.20282548846, gamma=1.4922453771381408, kernel=rbf;, score=-2296002178.516 total time=   0.2s\n",
      "[CV 1/5; 22/50] START C=761.4316758498787, gamma=2.6126336514161914, kernel=linear\n",
      "[CV 1/5; 22/50] END C=761.4316758498787, gamma=2.6126336514161914, kernel=linear;, score=-2752706810.847 total time=   0.0s\n",
      "[CV 2/5; 22/50] START C=761.4316758498787, gamma=2.6126336514161914, kernel=linear\n",
      "[CV 2/5; 22/50] END C=761.4316758498787, gamma=2.6126336514161914, kernel=linear;, score=-2685505202.526 total time=   0.0s\n",
      "[CV 3/5; 22/50] START C=761.4316758498787, gamma=2.6126336514161914, kernel=linear\n",
      "[CV 3/5; 22/50] END C=761.4316758498787, gamma=2.6126336514161914, kernel=linear;, score=-2409333797.963 total time=   0.0s\n",
      "[CV 4/5; 22/50] START C=761.4316758498787, gamma=2.6126336514161914, kernel=linear\n",
      "[CV 4/5; 22/50] END C=761.4316758498787, gamma=2.6126336514161914, kernel=linear;, score=-2454988988.331 total time=   0.1s\n",
      "[CV 5/5; 22/50] START C=761.4316758498787, gamma=2.6126336514161914, kernel=linear\n",
      "[CV 5/5; 22/50] END C=761.4316758498787, gamma=2.6126336514161914, kernel=linear;, score=-2330709338.473 total time=   0.0s\n",
      "[CV 1/5; 23/50] START C=97392.8188304179, gamma=0.09265545895311562, kernel=linear\n",
      "[CV 1/5; 23/50] END C=97392.8188304179, gamma=0.09265545895311562, kernel=linear;, score=-2668872097.803 total time=   0.1s\n",
      "[CV 2/5; 23/50] START C=97392.8188304179, gamma=0.09265545895311562, kernel=linear\n",
      "[CV 2/5; 23/50] END C=97392.8188304179, gamma=0.09265545895311562, kernel=linear;, score=-2696245232.520 total time=   0.3s\n",
      "[CV 3/5; 23/50] START C=97392.8188304179, gamma=0.09265545895311562, kernel=linear\n",
      "[CV 3/5; 23/50] END C=97392.8188304179, gamma=0.09265545895311562, kernel=linear;, score=-2322246810.380 total time=   0.7s\n",
      "[CV 4/5; 23/50] START C=97392.8188304179, gamma=0.09265545895311562, kernel=linear\n",
      "[CV 4/5; 23/50] END C=97392.8188304179, gamma=0.09265545895311562, kernel=linear;, score=-2327445500.065 total time=   0.5s\n",
      "[CV 5/5; 23/50] START C=97392.8188304179, gamma=0.09265545895311562, kernel=linear\n",
      "[CV 5/5; 23/50] END C=97392.8188304179, gamma=0.09265545895311562, kernel=linear;, score=-2248359633.319 total time=   0.2s\n",
      "[CV 1/5; 24/50] START C=2423.0759984939154, gamma=3.248614270240346, kernel=linear\n",
      "[CV 1/5; 24/50] END C=2423.0759984939154, gamma=3.248614270240346, kernel=linear;, score=-2672548574.381 total time=   0.0s\n",
      "[CV 2/5; 24/50] START C=2423.0759984939154, gamma=3.248614270240346, kernel=linear\n",
      "[CV 2/5; 24/50] END C=2423.0759984939154, gamma=3.248614270240346, kernel=linear;, score=-2672867008.699 total time=   0.1s\n",
      "[CV 3/5; 24/50] START C=2423.0759984939154, gamma=3.248614270240346, kernel=linear\n",
      "[CV 3/5; 24/50] END C=2423.0759984939154, gamma=3.248614270240346, kernel=linear;, score=-2356824405.988 total time=   0.0s\n",
      "[CV 4/5; 24/50] START C=2423.0759984939154, gamma=3.248614270240346, kernel=linear\n",
      "[CV 4/5; 24/50] END C=2423.0759984939154, gamma=3.248614270240346, kernel=linear;, score=-2365394376.769 total time=   0.1s\n",
      "[CV 5/5; 24/50] START C=2423.0759984939154, gamma=3.248614270240346, kernel=linear\n",
      "[CV 5/5; 24/50] END C=2423.0759984939154, gamma=3.248614270240346, kernel=linear;, score=-2266367352.335 total time=   0.0s\n",
      "[CV 1/5; 25/50] START C=717.3632997255093, gamma=0.3165604432088257, kernel=linear\n",
      "[CV 1/5; 25/50] END C=717.3632997255093, gamma=0.3165604432088257, kernel=linear;, score=-2759086123.636 total time=   0.0s\n",
      "[CV 2/5; 25/50] START C=717.3632997255093, gamma=0.3165604432088257, kernel=linear\n",
      "[CV 2/5; 25/50] END C=717.3632997255093, gamma=0.3165604432088257, kernel=linear;, score=-2685926231.642 total time=   0.0s\n",
      "[CV 3/5; 25/50] START C=717.3632997255093, gamma=0.3165604432088257, kernel=linear\n",
      "[CV 3/5; 25/50] END C=717.3632997255093, gamma=0.3165604432088257, kernel=linear;, score=-2412099520.464 total time=   0.0s\n",
      "[CV 4/5; 25/50] START C=717.3632997255093, gamma=0.3165604432088257, kernel=linear\n",
      "[CV 4/5; 25/50] END C=717.3632997255093, gamma=0.3165604432088257, kernel=linear;, score=-2456360751.764 total time=   0.0s\n",
      "[CV 5/5; 25/50] START C=717.3632997255093, gamma=0.3165604432088257, kernel=linear\n",
      "[CV 5/5; 25/50] END C=717.3632997255093, gamma=0.3165604432088257, kernel=linear;, score=-2335298966.486 total time=   0.2s\n",
      "[CV 1/5; 26/50] START C=4446.66752118407, gamma=3.3597284456608496, kernel=rbf..\n",
      "[CV 1/5; 26/50] END C=4446.66752118407, gamma=3.3597284456608496, kernel=rbf;, score=-3356505958.916 total time=   0.2s\n",
      "[CV 2/5; 26/50] START C=4446.66752118407, gamma=3.3597284456608496, kernel=rbf..\n",
      "[CV 2/5; 26/50] END C=4446.66752118407, gamma=3.3597284456608496, kernel=rbf;, score=-3124513627.191 total time=   0.2s\n",
      "[CV 3/5; 26/50] START C=4446.66752118407, gamma=3.3597284456608496, kernel=rbf..\n",
      "[CV 3/5; 26/50] END C=4446.66752118407, gamma=3.3597284456608496, kernel=rbf;, score=-2972915061.475 total time=   0.2s\n",
      "[CV 4/5; 26/50] START C=4446.66752118407, gamma=3.3597284456608496, kernel=rbf..\n",
      "[CV 4/5; 26/50] END C=4446.66752118407, gamma=3.3597284456608496, kernel=rbf;, score=-3125550921.306 total time=   0.2s\n",
      "[CV 5/5; 26/50] START C=4446.66752118407, gamma=3.3597284456608496, kernel=rbf..\n",
      "[CV 5/5; 26/50] END C=4446.66752118407, gamma=3.3597284456608496, kernel=rbf;, score=-2881852119.650 total time=   0.2s\n",
      "[CV 1/5; 27/50] START C=2963.564121207816, gamma=0.15189814782062885, kernel=linear\n",
      "[CV 1/5; 27/50] END C=2963.564121207816, gamma=0.15189814782062885, kernel=linear;, score=-2671227095.960 total time=   0.0s\n",
      "[CV 2/5; 27/50] START C=2963.564121207816, gamma=0.15189814782062885, kernel=linear\n",
      "[CV 2/5; 27/50] END C=2963.564121207816, gamma=0.15189814782062885, kernel=linear;, score=-2675374999.005 total time=   0.0s\n",
      "[CV 3/5; 27/50] START C=2963.564121207816, gamma=0.15189814782062885, kernel=linear\n",
      "[CV 3/5; 27/50] END C=2963.564121207816, gamma=0.15189814782062885, kernel=linear;, score=-2345312999.634 total time=   0.0s\n",
      "[CV 4/5; 27/50] START C=2963.564121207816, gamma=0.15189814782062885, kernel=linear\n",
      "[CV 4/5; 27/50] END C=2963.564121207816, gamma=0.15189814782062885, kernel=linear;, score=-2361062912.302 total time=   0.0s\n",
      "[CV 5/5; 27/50] START C=2963.564121207816, gamma=0.15189814782062885, kernel=linear\n",
      "[CV 5/5; 27/50] END C=2963.564121207816, gamma=0.15189814782062885, kernel=linear;, score=-2260908121.395 total time=   0.0s\n",
      "[CV 1/5; 28/50] START C=91.64267381686706, gamma=0.01575994483585621, kernel=linear\n",
      "[CV 1/5; 28/50] END C=91.64267381686706, gamma=0.01575994483585621, kernel=linear;, score=-3040166934.043 total time=   0.0s\n",
      "[CV 2/5; 28/50] START C=91.64267381686706, gamma=0.01575994483585621, kernel=linear\n",
      "[CV 2/5; 28/50] END C=91.64267381686706, gamma=0.01575994483585621, kernel=linear;, score=-2908156013.240 total time=   0.0s\n",
      "[CV 3/5; 28/50] START C=91.64267381686706, gamma=0.01575994483585621, kernel=linear\n",
      "[CV 3/5; 28/50] END C=91.64267381686706, gamma=0.01575994483585621, kernel=linear;, score=-2637173297.188 total time=   0.0s\n",
      "[CV 4/5; 28/50] START C=91.64267381686706, gamma=0.01575994483585621, kernel=linear\n",
      "[CV 4/5; 28/50] END C=91.64267381686706, gamma=0.01575994483585621, kernel=linear;, score=-2689517575.049 total time=   0.0s\n",
      "[CV 5/5; 28/50] START C=91.64267381686706, gamma=0.01575994483585621, kernel=linear\n",
      "[CV 5/5; 28/50] END C=91.64267381686706, gamma=0.01575994483585621, kernel=linear;, score=-2575022560.198 total time=   0.0s\n",
      "[CV 1/5; 29/50] START C=24547.601975705937, gamma=0.22153944050588595, kernel=rbf\n",
      "[CV 1/5; 29/50] END C=24547.601975705937, gamma=0.22153944050588595, kernel=rbf;, score=-2668897458.743 total time=   0.2s\n",
      "[CV 2/5; 29/50] START C=24547.601975705937, gamma=0.22153944050588595, kernel=rbf\n",
      "[CV 2/5; 29/50] END C=24547.601975705937, gamma=0.22153944050588595, kernel=rbf;, score=-2558082255.342 total time=   0.2s\n",
      "[CV 3/5; 29/50] START C=24547.601975705937, gamma=0.22153944050588595, kernel=rbf\n",
      "[CV 3/5; 29/50] END C=24547.601975705937, gamma=0.22153944050588595, kernel=rbf;, score=-2236903172.715 total time=   0.2s\n",
      "[CV 4/5; 29/50] START C=24547.601975705937, gamma=0.22153944050588595, kernel=rbf\n",
      "[CV 4/5; 29/50] END C=24547.601975705937, gamma=0.22153944050588595, kernel=rbf;, score=-2304542588.063 total time=   0.2s\n",
      "[CV 5/5; 29/50] START C=24547.601975705937, gamma=0.22153944050588595, kernel=rbf\n",
      "[CV 5/5; 29/50] END C=24547.601975705937, gamma=0.22153944050588595, kernel=rbf;, score=-2119860416.663 total time=   0.2s\n",
      "[CV 1/5; 30/50] START C=22.76927941060928, gamma=0.22169760231351215, kernel=rbf\n",
      "[CV 1/5; 30/50] END C=22.76927941060928, gamma=0.22169760231351215, kernel=rbf;, score=-3995577868.751 total time=   0.2s\n",
      "[CV 2/5; 30/50] START C=22.76927941060928, gamma=0.22169760231351215, kernel=rbf\n",
      "[CV 2/5; 30/50] END C=22.76927941060928, gamma=0.22169760231351215, kernel=rbf;, score=-3949519135.919 total time=   0.2s\n",
      "[CV 3/5; 30/50] START C=22.76927941060928, gamma=0.22169760231351215, kernel=rbf\n",
      "[CV 3/5; 30/50] END C=22.76927941060928, gamma=0.22169760231351215, kernel=rbf;, score=-3746479643.380 total time=   0.2s\n",
      "[CV 4/5; 30/50] START C=22.76927941060928, gamma=0.22169760231351215, kernel=rbf\n",
      "[CV 4/5; 30/50] END C=22.76927941060928, gamma=0.22169760231351215, kernel=rbf;, score=-3780386645.579 total time=   0.2s\n",
      "[CV 5/5; 30/50] START C=22.76927941060928, gamma=0.22169760231351215, kernel=rbf\n",
      "[CV 5/5; 30/50] END C=22.76927941060928, gamma=0.22169760231351215, kernel=rbf;, score=-3771749526.248 total time=   0.2s\n",
      "[CV 1/5; 31/50] START C=16483.85052975289, gamma=1.4752145260435134, kernel=linear\n",
      "[CV 1/5; 31/50] END C=16483.85052975289, gamma=1.4752145260435134, kernel=linear;, score=-2677616894.185 total time=   0.1s\n",
      "[CV 2/5; 31/50] START C=16483.85052975289, gamma=1.4752145260435134, kernel=linear\n",
      "[CV 2/5; 31/50] END C=16483.85052975289, gamma=1.4752145260435134, kernel=linear;, score=-2690581548.924 total time=   0.2s\n",
      "[CV 3/5; 31/50] START C=16483.85052975289, gamma=1.4752145260435134, kernel=linear\n",
      "[CV 3/5; 31/50] END C=16483.85052975289, gamma=1.4752145260435134, kernel=linear;, score=-2319282950.040 total time=   0.1s\n",
      "[CV 4/5; 31/50] START C=16483.85052975289, gamma=1.4752145260435134, kernel=linear\n",
      "[CV 4/5; 31/50] END C=16483.85052975289, gamma=1.4752145260435134, kernel=linear;, score=-2328053636.471 total time=   0.1s\n",
      "[CV 5/5; 31/50] START C=16483.85052975289, gamma=1.4752145260435134, kernel=linear\n",
      "[CV 5/5; 31/50] END C=16483.85052975289, gamma=1.4752145260435134, kernel=linear;, score=-2248660289.477 total time=   0.1s\n",
      "[CV 1/5; 32/50] START C=101445.66881340076, gamma=1.052904084582266, kernel=rbf.\n",
      "[CV 1/5; 32/50] END C=101445.66881340076, gamma=1.052904084582266, kernel=rbf;, score=-2915554422.469 total time=   0.2s\n",
      "[CV 2/5; 32/50] START C=101445.66881340076, gamma=1.052904084582266, kernel=rbf.\n",
      "[CV 2/5; 32/50] END C=101445.66881340076, gamma=1.052904084582266, kernel=rbf;, score=-2634138648.894 total time=   0.2s\n",
      "[CV 3/5; 32/50] START C=101445.66881340076, gamma=1.052904084582266, kernel=rbf.\n",
      "[CV 3/5; 32/50] END C=101445.66881340076, gamma=1.052904084582266, kernel=rbf;, score=-2496643881.602 total time=   0.2s\n",
      "[CV 4/5; 32/50] START C=101445.66881340076, gamma=1.052904084582266, kernel=rbf.\n",
      "[CV 4/5; 32/50] END C=101445.66881340076, gamma=1.052904084582266, kernel=rbf;, score=-2454666327.424 total time=   0.2s\n",
      "[CV 5/5; 32/50] START C=101445.66881340076, gamma=1.052904084582266, kernel=rbf.\n",
      "[CV 5/5; 32/50] END C=101445.66881340076, gamma=1.052904084582266, kernel=rbf;, score=-2232621975.298 total time=   0.2s\n",
      "[CV 1/5; 33/50] START C=56681.8085902955, gamma=0.9763011917123741, kernel=rbf..\n",
      "[CV 1/5; 33/50] END C=56681.8085902955, gamma=0.9763011917123741, kernel=rbf;, score=-2897237525.862 total time=   0.2s\n",
      "[CV 2/5; 33/50] START C=56681.8085902955, gamma=0.9763011917123741, kernel=rbf..\n",
      "[CV 2/5; 33/50] END C=56681.8085902955, gamma=0.9763011917123741, kernel=rbf;, score=-2596850074.471 total time=   0.2s\n",
      "[CV 3/5; 33/50] START C=56681.8085902955, gamma=0.9763011917123741, kernel=rbf..\n",
      "[CV 3/5; 33/50] END C=56681.8085902955, gamma=0.9763011917123741, kernel=rbf;, score=-2458573911.002 total time=   0.2s\n",
      "[CV 4/5; 33/50] START C=56681.8085902955, gamma=0.9763011917123741, kernel=rbf..\n",
      "[CV 4/5; 33/50] END C=56681.8085902955, gamma=0.9763011917123741, kernel=rbf;, score=-2412859571.358 total time=   0.2s\n",
      "[CV 5/5; 33/50] START C=56681.8085902955, gamma=0.9763011917123741, kernel=rbf..\n",
      "[CV 5/5; 33/50] END C=56681.8085902955, gamma=0.9763011917123741, kernel=rbf;, score=-2215864634.549 total time=   0.2s\n",
      "[CV 1/5; 34/50] START C=48.15822390928913, gamma=0.4633351167983427, kernel=rbf.\n",
      "[CV 1/5; 34/50] END C=48.15822390928913, gamma=0.4633351167983427, kernel=rbf;, score=-3966222827.955 total time=   0.2s\n",
      "[CV 2/5; 34/50] START C=48.15822390928913, gamma=0.4633351167983427, kernel=rbf.\n",
      "[CV 2/5; 34/50] END C=48.15822390928913, gamma=0.4633351167983427, kernel=rbf;, score=-3912477086.351 total time=   0.2s\n",
      "[CV 3/5; 34/50] START C=48.15822390928913, gamma=0.4633351167983427, kernel=rbf.\n",
      "[CV 3/5; 34/50] END C=48.15822390928913, gamma=0.4633351167983427, kernel=rbf;, score=-3719708207.953 total time=   0.2s\n",
      "[CV 4/5; 34/50] START C=48.15822390928913, gamma=0.4633351167983427, kernel=rbf.\n",
      "[CV 4/5; 34/50] END C=48.15822390928913, gamma=0.4633351167983427, kernel=rbf;, score=-3768378665.525 total time=   0.2s\n",
      "[CV 5/5; 34/50] START C=48.15822390928913, gamma=0.4633351167983427, kernel=rbf.\n",
      "[CV 5/5; 34/50] END C=48.15822390928913, gamma=0.4633351167983427, kernel=rbf;, score=-3743101322.152 total time=   0.2s\n",
      "[CV 1/5; 35/50] START C=399.7268155705776, gamma=1.3078757839577408, kernel=rbf.\n",
      "[CV 1/5; 35/50] END C=399.7268155705776, gamma=1.3078757839577408, kernel=rbf;, score=-3787536172.155 total time=   0.2s\n",
      "[CV 2/5; 35/50] START C=399.7268155705776, gamma=1.3078757839577408, kernel=rbf.\n",
      "[CV 2/5; 35/50] END C=399.7268155705776, gamma=1.3078757839577408, kernel=rbf;, score=-3703977587.240 total time=   0.2s\n",
      "[CV 3/5; 35/50] START C=399.7268155705776, gamma=1.3078757839577408, kernel=rbf.\n",
      "[CV 3/5; 35/50] END C=399.7268155705776, gamma=1.3078757839577408, kernel=rbf;, score=-3520435252.847 total time=   0.2s\n",
      "[CV 4/5; 35/50] START C=399.7268155705776, gamma=1.3078757839577408, kernel=rbf.\n",
      "[CV 4/5; 35/50] END C=399.7268155705776, gamma=1.3078757839577408, kernel=rbf;, score=-3593178361.350 total time=   0.2s\n",
      "[CV 5/5; 35/50] START C=399.7268155705776, gamma=1.3078757839577408, kernel=rbf.\n",
      "[CV 5/5; 35/50] END C=399.7268155705776, gamma=1.3078757839577408, kernel=rbf;, score=-3526122981.003 total time=   0.2s\n",
      "[CV 1/5; 36/50] START C=251.1407388628136, gamma=0.8238105204914145, kernel=linear\n",
      "[CV 1/5; 36/50] END C=251.1407388628136, gamma=0.8238105204914145, kernel=linear;, score=-2885558618.629 total time=   0.0s\n",
      "[CV 2/5; 36/50] START C=251.1407388628136, gamma=0.8238105204914145, kernel=linear\n",
      "[CV 2/5; 36/50] END C=251.1407388628136, gamma=0.8238105204914145, kernel=linear;, score=-2768533427.030 total time=   0.0s\n",
      "[CV 3/5; 36/50] START C=251.1407388628136, gamma=0.8238105204914145, kernel=linear\n",
      "[CV 3/5; 36/50] END C=251.1407388628136, gamma=0.8238105204914145, kernel=linear;, score=-2511035223.916 total time=   0.0s\n",
      "[CV 4/5; 36/50] START C=251.1407388628136, gamma=0.8238105204914145, kernel=linear\n",
      "[CV 4/5; 36/50] END C=251.1407388628136, gamma=0.8238105204914145, kernel=linear;, score=-2555756600.577 total time=   0.0s\n",
      "[CV 5/5; 36/50] START C=251.1407388628136, gamma=0.8238105204914145, kernel=linear\n",
      "[CV 5/5; 36/50] END C=251.1407388628136, gamma=0.8238105204914145, kernel=linear;, score=-2427267756.263 total time=   0.0s\n",
      "[CV 1/5; 37/50] START C=60.17373642891686, gamma=1.2491263443165994, kernel=linear\n",
      "[CV 1/5; 37/50] END C=60.17373642891686, gamma=1.2491263443165994, kernel=linear;, score=-3101630994.479 total time=   0.0s\n",
      "[CV 2/5; 37/50] START C=60.17373642891686, gamma=1.2491263443165994, kernel=linear\n",
      "[CV 2/5; 37/50] END C=60.17373642891686, gamma=1.2491263443165994, kernel=linear;, score=-2970944063.796 total time=   0.0s\n",
      "[CV 3/5; 37/50] START C=60.17373642891686, gamma=1.2491263443165994, kernel=linear\n",
      "[CV 3/5; 37/50] END C=60.17373642891686, gamma=1.2491263443165994, kernel=linear;, score=-2681049161.545 total time=   0.0s\n",
      "[CV 4/5; 37/50] START C=60.17373642891686, gamma=1.2491263443165994, kernel=linear\n",
      "[CV 4/5; 37/50] END C=60.17373642891686, gamma=1.2491263443165994, kernel=linear;, score=-2726943505.109 total time=   0.0s\n",
      "[CV 5/5; 37/50] START C=60.17373642891686, gamma=1.2491263443165994, kernel=linear\n",
      "[CV 5/5; 37/50] END C=60.17373642891686, gamma=1.2491263443165994, kernel=linear;, score=-2633124985.581 total time=   0.0s\n",
      "[CV 1/5; 38/50] START C=15415.161544891862, gamma=0.2691677514619319, kernel=rbf\n",
      "[CV 1/5; 38/50] END C=15415.161544891862, gamma=0.2691677514619319, kernel=rbf;, score=-2695564543.853 total time=   0.2s\n",
      "[CV 2/5; 38/50] START C=15415.161544891862, gamma=0.2691677514619319, kernel=rbf\n",
      "[CV 2/5; 38/50] END C=15415.161544891862, gamma=0.2691677514619319, kernel=rbf;, score=-2536410442.029 total time=   0.2s\n",
      "[CV 3/5; 38/50] START C=15415.161544891862, gamma=0.2691677514619319, kernel=rbf\n",
      "[CV 3/5; 38/50] END C=15415.161544891862, gamma=0.2691677514619319, kernel=rbf;, score=-2282635186.976 total time=   0.2s\n",
      "[CV 4/5; 38/50] START C=15415.161544891862, gamma=0.2691677514619319, kernel=rbf\n",
      "[CV 4/5; 38/50] END C=15415.161544891862, gamma=0.2691677514619319, kernel=rbf;, score=-2327141198.515 total time=   0.2s\n",
      "[CV 5/5; 38/50] START C=15415.161544891862, gamma=0.2691677514619319, kernel=rbf\n",
      "[CV 5/5; 38/50] END C=15415.161544891862, gamma=0.2691677514619319, kernel=rbf;, score=-2145848467.740 total time=   0.2s\n",
      "[CV 1/5; 39/50] START C=1888.9148509967115, gamma=0.739678838777267, kernel=linear\n",
      "[CV 1/5; 39/50] END C=1888.9148509967115, gamma=0.739678838777267, kernel=linear;, score=-2680230699.854 total time=   0.0s\n",
      "[CV 2/5; 39/50] START C=1888.9148509967115, gamma=0.739678838777267, kernel=linear\n",
      "[CV 2/5; 39/50] END C=1888.9148509967115, gamma=0.739678838777267, kernel=linear;, score=-2668484153.850 total time=   0.0s\n",
      "[CV 3/5; 39/50] START C=1888.9148509967115, gamma=0.739678838777267, kernel=linear\n",
      "[CV 3/5; 39/50] END C=1888.9148509967115, gamma=0.739678838777267, kernel=linear;, score=-2368057207.213 total time=   0.0s\n",
      "[CV 4/5; 39/50] START C=1888.9148509967115, gamma=0.739678838777267, kernel=linear\n",
      "[CV 4/5; 39/50] END C=1888.9148509967115, gamma=0.739678838777267, kernel=linear;, score=-2382071061.228 total time=   0.0s\n",
      "[CV 5/5; 39/50] START C=1888.9148509967115, gamma=0.739678838777267, kernel=linear\n",
      "[CV 5/5; 39/50] END C=1888.9148509967115, gamma=0.739678838777267, kernel=linear;, score=-2289477172.999 total time=   0.0s\n",
      "[CV 1/5; 40/50] START C=55.53838911232771, gamma=0.578634378499143, kernel=linear\n",
      "[CV 1/5; 40/50] END C=55.53838911232771, gamma=0.578634378499143, kernel=linear;, score=-3109897963.780 total time=   0.0s\n",
      "[CV 2/5; 40/50] START C=55.53838911232771, gamma=0.578634378499143, kernel=linear\n",
      "[CV 2/5; 40/50] END C=55.53838911232771, gamma=0.578634378499143, kernel=linear;, score=-2977448398.989 total time=   0.0s\n",
      "[CV 3/5; 40/50] START C=55.53838911232771, gamma=0.578634378499143, kernel=linear\n",
      "[CV 3/5; 40/50] END C=55.53838911232771, gamma=0.578634378499143, kernel=linear;, score=-2687033037.397 total time=   0.0s\n",
      "[CV 4/5; 40/50] START C=55.53838911232771, gamma=0.578634378499143, kernel=linear\n",
      "[CV 4/5; 40/50] END C=55.53838911232771, gamma=0.578634378499143, kernel=linear;, score=-2732378938.258 total time=   0.0s\n",
      "[CV 5/5; 40/50] START C=55.53838911232771, gamma=0.578634378499143, kernel=linear\n",
      "[CV 5/5; 40/50] END C=55.53838911232771, gamma=0.578634378499143, kernel=linear;, score=-2640712209.764 total time=   0.0s\n",
      "[CV 1/5; 41/50] START C=26.714480823948186, gamma=1.0117295509275495, kernel=rbf\n",
      "[CV 1/5; 41/50] END C=26.714480823948186, gamma=1.0117295509275495, kernel=rbf;, score=-4035543958.013 total time=   0.2s\n",
      "[CV 2/5; 41/50] START C=26.714480823948186, gamma=1.0117295509275495, kernel=rbf\n",
      "[CV 2/5; 41/50] END C=26.714480823948186, gamma=1.0117295509275495, kernel=rbf;, score=-3999298887.424 total time=   0.2s\n",
      "[CV 3/5; 41/50] START C=26.714480823948186, gamma=1.0117295509275495, kernel=rbf\n",
      "[CV 3/5; 41/50] END C=26.714480823948186, gamma=1.0117295509275495, kernel=rbf;, score=-3804228696.358 total time=   0.2s\n",
      "[CV 4/5; 41/50] START C=26.714480823948186, gamma=1.0117295509275495, kernel=rbf\n",
      "[CV 4/5; 41/50] END C=26.714480823948186, gamma=1.0117295509275495, kernel=rbf;, score=-3834867418.678 total time=   0.2s\n",
      "[CV 5/5; 41/50] START C=26.714480823948186, gamma=1.0117295509275495, kernel=rbf\n",
      "[CV 5/5; 41/50] END C=26.714480823948186, gamma=1.0117295509275495, kernel=rbf;, score=-3831530735.073 total time=   0.2s\n",
      "[CV 1/5; 42/50] START C=3582.05527804896, gamma=1.1891370222133257, kernel=linear\n",
      "[CV 1/5; 42/50] END C=3582.05527804896, gamma=1.1891370222133257, kernel=linear;, score=-2669286192.054 total time=   0.0s\n",
      "[CV 2/5; 42/50] START C=3582.05527804896, gamma=1.1891370222133257, kernel=linear\n",
      "[CV 2/5; 42/50] END C=3582.05527804896, gamma=1.1891370222133257, kernel=linear;, score=-2676544940.638 total time=   0.0s\n",
      "[CV 3/5; 42/50] START C=3582.05527804896, gamma=1.1891370222133257, kernel=linear\n",
      "[CV 3/5; 42/50] END C=3582.05527804896, gamma=1.1891370222133257, kernel=linear;, score=-2345276160.180 total time=   0.0s\n",
      "[CV 4/5; 42/50] START C=3582.05527804896, gamma=1.1891370222133257, kernel=linear\n",
      "[CV 4/5; 42/50] END C=3582.05527804896, gamma=1.1891370222133257, kernel=linear;, score=-2349937585.034 total time=   0.1s\n",
      "[CV 5/5; 42/50] START C=3582.05527804896, gamma=1.1891370222133257, kernel=linear\n",
      "[CV 5/5; 42/50] END C=3582.05527804896, gamma=1.1891370222133257, kernel=linear;, score=-2250574906.093 total time=   0.1s\n",
      "[CV 1/5; 43/50] START C=198.70047818127367, gamma=0.5282819748826726, kernel=linear\n",
      "[CV 1/5; 43/50] END C=198.70047818127367, gamma=0.5282819748826726, kernel=linear;, score=-2911354601.995 total time=   0.0s\n",
      "[CV 2/5; 43/50] START C=198.70047818127367, gamma=0.5282819748826726, kernel=linear\n",
      "[CV 2/5; 43/50] END C=198.70047818127367, gamma=0.5282819748826726, kernel=linear;, score=-2793841806.996 total time=   0.0s\n",
      "[CV 3/5; 43/50] START C=198.70047818127367, gamma=0.5282819748826726, kernel=linear\n",
      "[CV 3/5; 43/50] END C=198.70047818127367, gamma=0.5282819748826726, kernel=linear;, score=-2538971735.582 total time=   0.0s\n",
      "[CV 4/5; 43/50] START C=198.70047818127367, gamma=0.5282819748826726, kernel=linear\n",
      "[CV 4/5; 43/50] END C=198.70047818127367, gamma=0.5282819748826726, kernel=linear;, score=-2571785426.793 total time=   0.0s\n",
      "[CV 5/5; 43/50] START C=198.70047818127367, gamma=0.5282819748826726, kernel=linear\n",
      "[CV 5/5; 43/50] END C=198.70047818127367, gamma=0.5282819748826726, kernel=linear;, score=-2458450376.504 total time=   0.0s\n",
      "[CV 1/5; 44/50] START C=129.80006041433077, gamma=2.8621383676481322, kernel=linear\n",
      "[CV 1/5; 44/50] END C=129.80006041433077, gamma=2.8621383676481322, kernel=linear;, score=-2967463548.985 total time=   0.0s\n",
      "[CV 2/5; 44/50] START C=129.80006041433077, gamma=2.8621383676481322, kernel=linear\n",
      "[CV 2/5; 44/50] END C=129.80006041433077, gamma=2.8621383676481322, kernel=linear;, score=-2840856577.568 total time=   0.0s\n",
      "[CV 3/5; 44/50] START C=129.80006041433077, gamma=2.8621383676481322, kernel=linear\n",
      "[CV 3/5; 44/50] END C=129.80006041433077, gamma=2.8621383676481322, kernel=linear;, score=-2589644060.917 total time=   0.0s\n",
      "[CV 4/5; 44/50] START C=129.80006041433077, gamma=2.8621383676481322, kernel=linear\n",
      "[CV 4/5; 44/50] END C=129.80006041433077, gamma=2.8621383676481322, kernel=linear;, score=-2631542654.997 total time=   0.0s\n",
      "[CV 5/5; 44/50] START C=129.80006041433077, gamma=2.8621383676481322, kernel=linear\n",
      "[CV 5/5; 44/50] END C=129.80006041433077, gamma=2.8621383676481322, kernel=linear;, score=-2517142539.984 total time=   0.0s\n",
      "[CV 1/5; 45/50] START C=288.4269299593897, gamma=0.17580835850006285, kernel=rbf\n",
      "[CV 1/5; 45/50] END C=288.4269299593897, gamma=0.17580835850006285, kernel=rbf;, score=-3413987530.732 total time=   0.2s\n",
      "[CV 2/5; 45/50] START C=288.4269299593897, gamma=0.17580835850006285, kernel=rbf\n",
      "[CV 2/5; 45/50] END C=288.4269299593897, gamma=0.17580835850006285, kernel=rbf;, score=-3249420212.170 total time=   0.2s\n",
      "[CV 3/5; 45/50] START C=288.4269299593897, gamma=0.17580835850006285, kernel=rbf\n",
      "[CV 3/5; 45/50] END C=288.4269299593897, gamma=0.17580835850006285, kernel=rbf;, score=-2991450254.838 total time=   0.2s\n",
      "[CV 4/5; 45/50] START C=288.4269299593897, gamma=0.17580835850006285, kernel=rbf\n",
      "[CV 4/5; 45/50] END C=288.4269299593897, gamma=0.17580835850006285, kernel=rbf;, score=-3130307254.838 total time=   0.2s\n",
      "[CV 5/5; 45/50] START C=288.4269299593897, gamma=0.17580835850006285, kernel=rbf\n",
      "[CV 5/5; 45/50] END C=288.4269299593897, gamma=0.17580835850006285, kernel=rbf;, score=-2967829154.537 total time=   0.2s\n",
      "[CV 1/5; 46/50] START C=6287.039489427173, gamma=0.3504567255332862, kernel=linear\n",
      "[CV 1/5; 46/50] END C=6287.039489427173, gamma=0.3504567255332862, kernel=linear;, score=-2671332798.048 total time=   0.1s\n",
      "[CV 2/5; 46/50] START C=6287.039489427173, gamma=0.3504567255332862, kernel=linear\n",
      "[CV 2/5; 46/50] END C=6287.039489427173, gamma=0.3504567255332862, kernel=linear;, score=-2691282132.885 total time=   0.1s\n",
      "[CV 3/5; 46/50] START C=6287.039489427173, gamma=0.3504567255332862, kernel=linear\n",
      "[CV 3/5; 46/50] END C=6287.039489427173, gamma=0.3504567255332862, kernel=linear;, score=-2337513665.836 total time=   0.1s\n",
      "[CV 4/5; 46/50] START C=6287.039489427173, gamma=0.3504567255332862, kernel=linear\n",
      "[CV 4/5; 46/50] END C=6287.039489427173, gamma=0.3504567255332862, kernel=linear;, score=-2330798136.900 total time=   0.1s\n",
      "[CV 5/5; 46/50] START C=6287.039489427173, gamma=0.3504567255332862, kernel=linear\n",
      "[CV 5/5; 46/50] END C=6287.039489427173, gamma=0.3504567255332862, kernel=linear;, score=-2250554241.327 total time=   0.1s\n",
      "[CV 1/5; 47/50] START C=61217.04421344495, gamma=1.6279689407405564, kernel=rbf.\n",
      "[CV 1/5; 47/50] END C=61217.04421344495, gamma=1.6279689407405564, kernel=rbf;, score=-2990115698.145 total time=   0.2s\n",
      "[CV 2/5; 47/50] START C=61217.04421344495, gamma=1.6279689407405564, kernel=rbf.\n",
      "[CV 2/5; 47/50] END C=61217.04421344495, gamma=1.6279689407405564, kernel=rbf;, score=-2656107381.818 total time=   0.2s\n",
      "[CV 3/5; 47/50] START C=61217.04421344495, gamma=1.6279689407405564, kernel=rbf.\n",
      "[CV 3/5; 47/50] END C=61217.04421344495, gamma=1.6279689407405564, kernel=rbf;, score=-2556311071.881 total time=   0.2s\n",
      "[CV 4/5; 47/50] START C=61217.04421344495, gamma=1.6279689407405564, kernel=rbf.\n",
      "[CV 4/5; 47/50] END C=61217.04421344495, gamma=1.6279689407405564, kernel=rbf;, score=-2517055914.442 total time=   0.2s\n",
      "[CV 5/5; 47/50] START C=61217.04421344495, gamma=1.6279689407405564, kernel=rbf.\n",
      "[CV 5/5; 47/50] END C=61217.04421344495, gamma=1.6279689407405564, kernel=rbf;, score=-2279657078.536 total time=   0.2s\n",
      "[CV 1/5; 48/50] START C=926.9787684096652, gamma=2.147979593060577, kernel=rbf..\n",
      "[CV 1/5; 48/50] END C=926.9787684096652, gamma=2.147979593060577, kernel=rbf;, score=-3660933328.702 total time=   0.2s\n",
      "[CV 2/5; 48/50] START C=926.9787684096652, gamma=2.147979593060577, kernel=rbf..\n",
      "[CV 2/5; 48/50] END C=926.9787684096652, gamma=2.147979593060577, kernel=rbf;, score=-3553956045.405 total time=   0.2s\n",
      "[CV 3/5; 48/50] START C=926.9787684096652, gamma=2.147979593060577, kernel=rbf..\n",
      "[CV 3/5; 48/50] END C=926.9787684096652, gamma=2.147979593060577, kernel=rbf;, score=-3385693108.741 total time=   0.2s\n",
      "[CV 4/5; 48/50] START C=926.9787684096652, gamma=2.147979593060577, kernel=rbf..\n",
      "[CV 4/5; 48/50] END C=926.9787684096652, gamma=2.147979593060577, kernel=rbf;, score=-3504996826.085 total time=   0.2s\n",
      "[CV 5/5; 48/50] START C=926.9787684096652, gamma=2.147979593060577, kernel=rbf..\n",
      "[CV 5/5; 48/50] END C=926.9787684096652, gamma=2.147979593060577, kernel=rbf;, score=-3368746572.759 total time=   0.2s\n",
      "[CV 1/5; 49/50] START C=33946.15706493403, gamma=2.2642426492862313, kernel=linear\n",
      "[CV 1/5; 49/50] END C=33946.15706493403, gamma=2.2642426492862313, kernel=linear;, score=-2669038277.418 total time=   0.3s\n",
      "[CV 2/5; 49/50] START C=33946.15706493403, gamma=2.2642426492862313, kernel=linear\n",
      "[CV 2/5; 49/50] END C=33946.15706493403, gamma=2.2642426492862313, kernel=linear;, score=-2695893144.524 total time=   2.3s\n",
      "[CV 3/5; 49/50] START C=33946.15706493403, gamma=2.2642426492862313, kernel=linear\n",
      "[CV 3/5; 49/50] END C=33946.15706493403, gamma=2.2642426492862313, kernel=linear;, score=-2321205302.119 total time=   0.1s\n",
      "[CV 4/5; 49/50] START C=33946.15706493403, gamma=2.2642426492862313, kernel=linear\n",
      "[CV 4/5; 49/50] END C=33946.15706493403, gamma=2.2642426492862313, kernel=linear;, score=-2329126506.704 total time=   0.1s\n",
      "[CV 5/5; 49/50] START C=33946.15706493403, gamma=2.2642426492862313, kernel=linear\n",
      "[CV 5/5; 49/50] END C=33946.15706493403, gamma=2.2642426492862313, kernel=linear;, score=-2247685768.145 total time=   0.1s\n",
      "[CV 1/5; 50/50] START C=84789.82947739528, gamma=0.3176359085304841, kernel=linear\n",
      "[CV 1/5; 50/50] END C=84789.82947739528, gamma=0.3176359085304841, kernel=linear;, score=-2668872943.019 total time=   0.1s\n",
      "[CV 2/5; 50/50] START C=84789.82947739528, gamma=0.3176359085304841, kernel=linear\n",
      "[CV 2/5; 50/50] END C=84789.82947739528, gamma=0.3176359085304841, kernel=linear;, score=-2696245675.712 total time=   0.2s\n",
      "[CV 3/5; 50/50] START C=84789.82947739528, gamma=0.3176359085304841, kernel=linear\n",
      "[CV 3/5; 50/50] END C=84789.82947739528, gamma=0.3176359085304841, kernel=linear;, score=-2322246663.452 total time=   5.1s\n",
      "[CV 4/5; 50/50] START C=84789.82947739528, gamma=0.3176359085304841, kernel=linear\n",
      "[CV 4/5; 50/50] END C=84789.82947739528, gamma=0.3176359085304841, kernel=linear;, score=-2327462144.962 total time=   0.6s\n",
      "[CV 5/5; 50/50] START C=84789.82947739528, gamma=0.3176359085304841, kernel=linear\n",
      "[CV 5/5; 50/50] END C=84789.82947739528, gamma=0.3176359085304841, kernel=linear;, score=-2248126188.884 total time=   0.2s\n"
     ]
    },
    {
     "data": {
      "text/html": [
       "<style>#sk-container-id-13 {color: black;}#sk-container-id-13 pre{padding: 0;}#sk-container-id-13 div.sk-toggleable {background-color: white;}#sk-container-id-13 label.sk-toggleable__label {cursor: pointer;display: block;width: 100%;margin-bottom: 0;padding: 0.3em;box-sizing: border-box;text-align: center;}#sk-container-id-13 label.sk-toggleable__label-arrow:before {content: \"▸\";float: left;margin-right: 0.25em;color: #696969;}#sk-container-id-13 label.sk-toggleable__label-arrow:hover:before {color: black;}#sk-container-id-13 div.sk-estimator:hover label.sk-toggleable__label-arrow:before {color: black;}#sk-container-id-13 div.sk-toggleable__content {max-height: 0;max-width: 0;overflow: hidden;text-align: left;background-color: #f0f8ff;}#sk-container-id-13 div.sk-toggleable__content pre {margin: 0.2em;color: black;border-radius: 0.25em;background-color: #f0f8ff;}#sk-container-id-13 input.sk-toggleable__control:checked~div.sk-toggleable__content {max-height: 200px;max-width: 100%;overflow: auto;}#sk-container-id-13 input.sk-toggleable__control:checked~label.sk-toggleable__label-arrow:before {content: \"▾\";}#sk-container-id-13 div.sk-estimator input.sk-toggleable__control:checked~label.sk-toggleable__label {background-color: #d4ebff;}#sk-container-id-13 div.sk-label input.sk-toggleable__control:checked~label.sk-toggleable__label {background-color: #d4ebff;}#sk-container-id-13 input.sk-hidden--visually {border: 0;clip: rect(1px 1px 1px 1px);clip: rect(1px, 1px, 1px, 1px);height: 1px;margin: -1px;overflow: hidden;padding: 0;position: absolute;width: 1px;}#sk-container-id-13 div.sk-estimator {font-family: monospace;background-color: #f0f8ff;border: 1px dotted black;border-radius: 0.25em;box-sizing: border-box;margin-bottom: 0.5em;}#sk-container-id-13 div.sk-estimator:hover {background-color: #d4ebff;}#sk-container-id-13 div.sk-parallel-item::after {content: \"\";width: 100%;border-bottom: 1px solid gray;flex-grow: 1;}#sk-container-id-13 div.sk-label:hover label.sk-toggleable__label {background-color: #d4ebff;}#sk-container-id-13 div.sk-serial::before {content: \"\";position: absolute;border-left: 1px solid gray;box-sizing: border-box;top: 0;bottom: 0;left: 50%;z-index: 0;}#sk-container-id-13 div.sk-serial {display: flex;flex-direction: column;align-items: center;background-color: white;padding-right: 0.2em;padding-left: 0.2em;position: relative;}#sk-container-id-13 div.sk-item {position: relative;z-index: 1;}#sk-container-id-13 div.sk-parallel {display: flex;align-items: stretch;justify-content: center;background-color: white;position: relative;}#sk-container-id-13 div.sk-item::before, #sk-container-id-13 div.sk-parallel-item::before {content: \"\";position: absolute;border-left: 1px solid gray;box-sizing: border-box;top: 0;bottom: 0;left: 50%;z-index: -1;}#sk-container-id-13 div.sk-parallel-item {display: flex;flex-direction: column;z-index: 1;position: relative;background-color: white;}#sk-container-id-13 div.sk-parallel-item:first-child::after {align-self: flex-end;width: 50%;}#sk-container-id-13 div.sk-parallel-item:last-child::after {align-self: flex-start;width: 50%;}#sk-container-id-13 div.sk-parallel-item:only-child::after {width: 0;}#sk-container-id-13 div.sk-dashed-wrapped {border: 1px dashed gray;margin: 0 0.4em 0.5em 0.4em;box-sizing: border-box;padding-bottom: 0.4em;background-color: white;}#sk-container-id-13 div.sk-label label {font-family: monospace;font-weight: bold;display: inline-block;line-height: 1.2em;}#sk-container-id-13 div.sk-label-container {text-align: center;}#sk-container-id-13 div.sk-container {/* jupyter's `normalize.less` sets `[hidden] { display: none; }` but bootstrap.min.css set `[hidden] { display: none !important; }` so we also need the `!important` here to be able to override the default hidden behavior on the sphinx rendered scikit-learn.org. See: https://github.com/scikit-learn/scikit-learn/issues/21755 */display: inline-block !important;position: relative;}#sk-container-id-13 div.sk-text-repr-fallback {display: none;}</style><div id=\"sk-container-id-13\" class=\"sk-top-container\"><div class=\"sk-text-repr-fallback\"><pre>RandomizedSearchCV(cv=5, estimator=SVR(), n_iter=50,\n",
       "                   param_distributions={&#x27;C&#x27;: &lt;scipy.stats._distn_infrastructure.rv_continuous_frozen object at 0x000002D5ADEF3FA0&gt;,\n",
       "                                        &#x27;gamma&#x27;: &lt;scipy.stats._distn_infrastructure.rv_continuous_frozen object at 0x000002D5ADFAFAC0&gt;,\n",
       "                                        &#x27;kernel&#x27;: [&#x27;linear&#x27;, &#x27;rbf&#x27;]},\n",
       "                   random_state=42, scoring=&#x27;neg_mean_squared_error&#x27;,\n",
       "                   verbose=10)</pre><b>In a Jupyter environment, please rerun this cell to show the HTML representation or trust the notebook. <br />On GitHub, the HTML representation is unable to render, please try loading this page with nbviewer.org.</b></div><div class=\"sk-container\" hidden><div class=\"sk-item sk-dashed-wrapped\"><div class=\"sk-label-container\"><div class=\"sk-label sk-toggleable\"><input class=\"sk-toggleable__control sk-hidden--visually\" id=\"sk-estimator-id-37\" type=\"checkbox\" ><label for=\"sk-estimator-id-37\" class=\"sk-toggleable__label sk-toggleable__label-arrow\">RandomizedSearchCV</label><div class=\"sk-toggleable__content\"><pre>RandomizedSearchCV(cv=5, estimator=SVR(), n_iter=50,\n",
       "                   param_distributions={&#x27;C&#x27;: &lt;scipy.stats._distn_infrastructure.rv_continuous_frozen object at 0x000002D5ADEF3FA0&gt;,\n",
       "                                        &#x27;gamma&#x27;: &lt;scipy.stats._distn_infrastructure.rv_continuous_frozen object at 0x000002D5ADFAFAC0&gt;,\n",
       "                                        &#x27;kernel&#x27;: [&#x27;linear&#x27;, &#x27;rbf&#x27;]},\n",
       "                   random_state=42, scoring=&#x27;neg_mean_squared_error&#x27;,\n",
       "                   verbose=10)</pre></div></div></div><div class=\"sk-parallel\"><div class=\"sk-parallel-item\"><div class=\"sk-item\"><div class=\"sk-label-container\"><div class=\"sk-label sk-toggleable\"><input class=\"sk-toggleable__control sk-hidden--visually\" id=\"sk-estimator-id-38\" type=\"checkbox\" ><label for=\"sk-estimator-id-38\" class=\"sk-toggleable__label sk-toggleable__label-arrow\">estimator: SVR</label><div class=\"sk-toggleable__content\"><pre>SVR()</pre></div></div></div><div class=\"sk-serial\"><div class=\"sk-item\"><div class=\"sk-estimator sk-toggleable\"><input class=\"sk-toggleable__control sk-hidden--visually\" id=\"sk-estimator-id-39\" type=\"checkbox\" ><label for=\"sk-estimator-id-39\" class=\"sk-toggleable__label sk-toggleable__label-arrow\">SVR</label><div class=\"sk-toggleable__content\"><pre>SVR()</pre></div></div></div></div></div></div></div></div></div></div>"
      ],
      "text/plain": [
       "RandomizedSearchCV(cv=5, estimator=SVR(), n_iter=50,\n",
       "                   param_distributions={'C': <scipy.stats._distn_infrastructure.rv_continuous_frozen object at 0x000002D5ADEF3FA0>,\n",
       "                                        'gamma': <scipy.stats._distn_infrastructure.rv_continuous_frozen object at 0x000002D5ADFAFAC0>,\n",
       "                                        'kernel': ['linear', 'rbf']},\n",
       "                   random_state=42, scoring='neg_mean_squared_error',\n",
       "                   verbose=10)"
      ]
     },
     "execution_count": 173,
     "metadata": {},
     "output_type": "execute_result"
    }
   ],
   "source": [
    "# Try with RandomizedSearchCV\n",
    "\n",
    "from sklearn.model_selection import RandomizedSearchCV\n",
    "from scipy.stats import expon, reciprocal\n",
    "\n",
    "param_distribs = {\n",
    "    'kernel': ['linear', 'rbf'],\n",
    "    'C': reciprocal(20, 200000),\n",
    "    'gamma': expon(scale=1.0),\n",
    "}\n",
    "\n",
    "svr = SVR()\n",
    "rnd_search = RandomizedSearchCV(\n",
    "    svr,\n",
    "    param_distributions=param_distribs,\n",
    "    n_iter=50,\n",
    "    cv=5,\n",
    "    scoring=\"neg_mean_squared_error\",\n",
    "    verbose=10,\n",
    "    random_state=42\n",
    ")\n",
    "\n",
    "rnd_search.fit(salaries_prepared, salaries_labels)"
   ]
  },
  {
   "cell_type": "code",
   "execution_count": 175,
   "metadata": {},
   "outputs": [
    {
     "data": {
      "text/plain": [
       "{'C': 24547.601975705937, 'gamma': 0.22153944050588595, 'kernel': 'rbf'}"
      ]
     },
     "execution_count": 175,
     "metadata": {},
     "output_type": "execute_result"
    }
   ],
   "source": [
    "rnd_search.best_params_"
   ]
  },
  {
   "cell_type": "code",
   "execution_count": 179,
   "metadata": {},
   "outputs": [
    {
     "data": {
      "text/plain": [
       "array([[   823.74544238,  15467.138795  ,   8950.39861699,\n",
       "        -38907.42961076,  54025.18945509, -20450.48017834,\n",
       "          5332.72033402,  -2570.12595071,  -6657.18811316,\n",
       "         17813.83273736,  -8586.51867349,    808.41163839,\n",
       "          8115.43777813,  -8923.84941652, -18257.77831683,\n",
       "         12239.88577717,  15093.80366522, -15906.3731084 ,\n",
       "         -2470.99730771,   -439.84351999, -14211.03551002,\n",
       "          2529.07337237,  22093.47133998,  22096.90354932,\n",
       "         21304.24493241,  12742.50457423,  14123.96039988,\n",
       "         -9963.63021492,  13186.27991856,  -6199.98211505,\n",
       "         -6657.18811316,  -6657.18811316,  13018.40414792,\n",
       "        -35803.89100039]])"
      ]
     },
     "execution_count": 179,
     "metadata": {},
     "output_type": "execute_result"
    }
   ],
   "source": [
    "# Feature importances of SVR\n",
    "feature_importances_svr_rnd = best_svr.coef_\n",
    "feature_importances_svr_rnd"
   ]
  },
  {
   "cell_type": "code",
   "execution_count": 181,
   "metadata": {},
   "outputs": [
    {
     "data": {
      "text/plain": [
       "[(array([   823.74544238,  15467.138795  ,   8950.39861699, -38907.42961076,\n",
       "          54025.18945509, -20450.48017834,   5332.72033402,  -2570.12595071,\n",
       "          -6657.18811316,  17813.83273736,  -8586.51867349,    808.41163839,\n",
       "           8115.43777813,  -8923.84941652, -18257.77831683,  12239.88577717,\n",
       "          15093.80366522, -15906.3731084 ,  -2470.99730771,   -439.84351999,\n",
       "         -14211.03551002,   2529.07337237,  22093.47133998,  22096.90354932,\n",
       "          21304.24493241,  12742.50457423,  14123.96039988,  -9963.63021492,\n",
       "          13186.27991856,  -6199.98211505,  -6657.18811316,  -6657.18811316,\n",
       "          13018.40414792, -35803.89100039]),\n",
       "  'remote_ratio')]"
      ]
     },
     "execution_count": 181,
     "metadata": {},
     "output_type": "execute_result"
    }
   ],
   "source": [
    "sorted(zip(feature_importances_svr_rnd, attributes), reverse=True)"
   ]
  },
  {
   "cell_type": "code",
   "execution_count": 182,
   "metadata": {},
   "outputs": [
    {
     "data": {
      "text/plain": [
       "50137.89318722578"
      ]
     },
     "execution_count": 182,
     "metadata": {},
     "output_type": "execute_result"
    }
   ],
   "source": [
    "from sklearn.metrics import mean_squared_error\n",
    "\n",
    "final_model_svr_rnd = rnd_search.best_estimator_\n",
    "final_predictions = final_model_svr_rnd.predict(X_test_prepared)\n",
    "\n",
    "final_mse = mean_squared_error(y_test, final_predictions)\n",
    "final_rmse = np.sqrt(final_mse)\n",
    "final_rmse"
   ]
  },
  {
   "cell_type": "code",
   "execution_count": 183,
   "metadata": {},
   "outputs": [
    {
     "data": {
      "text/plain": [
       "0.3908980961590539"
      ]
     },
     "execution_count": 183,
     "metadata": {},
     "output_type": "execute_result"
    },
    {
     "ename": "",
     "evalue": "",
     "output_type": "error",
     "traceback": [
      "\u001b[1;31mThe Kernel crashed while executing code in the the current cell or a previous cell. Please review the code in the cell(s) to identify a possible cause of the failure. Click <a href='https://aka.ms/vscodeJupyterKernelCrash'>here</a> for more info. View Jupyter <a href='command:jupyter.viewOutput'>log</a> for further details."
     ]
    }
   ],
   "source": [
    "r2_score(y_test, final_predictions)"
   ]
  }
 ],
 "metadata": {
  "kernelspec": {
   "display_name": "handsonml",
   "language": "python",
   "name": "python3"
  },
  "language_info": {
   "codemirror_mode": {
    "name": "ipython",
    "version": 3
   },
   "file_extension": ".py",
   "mimetype": "text/x-python",
   "name": "python",
   "nbconvert_exporter": "python",
   "pygments_lexer": "ipython3",
   "version": "3.10.12"
  },
  "orig_nbformat": 4
 },
 "nbformat": 4,
 "nbformat_minor": 2
}
