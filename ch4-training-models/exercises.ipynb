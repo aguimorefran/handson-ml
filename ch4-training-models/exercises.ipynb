{
 "cells": [
  {
   "cell_type": "markdown",
   "metadata": {},
   "source": [
    "# Ch4 exercises"
   ]
  },
  {
   "cell_type": "markdown",
   "metadata": {},
   "source": [
    "## 1. What Linear Regression training algorithm can you use if you have a training set with millions of features?\n",
    "\n",
    "If the whole training set fits in our memory we can use Batch, MB, and SGD. If not, we could use MB or SGD. Main disadvantage of SGD is training time as it goes thru every sample. With MB we go in small random batches.\n",
    "\n",
    "## 2. Suppose the features in your training set have very different scales. What algorithms might suffer from this, and how? What can you do about it?\n",
    "\n",
    "To fix this we should scale the data, for example using StdScaler from sklearn. Algorithms that suffer from this might be algorithms that use more than 2 features to train their models. We can name Polynomial Regression for example, or any other\n",
    "algo. that uses more than 2 features. This affects the algorithm by creatin weird shapes on the hyperplane of error calculation. If scales are the same, then the minimun can be found easier.\n",
    "\n",
    "## 3. Can Gradient Descent get stuck in a local minimum when training a Logistic Regression model?\n",
    "\n",
    "Yes, as with any other model because of the nature of GD.\n",
    "\n",
    "WRONG.\n",
    "\n",
    "Logit. Regression cost function is convex, so it has no local minima to fail in.\n",
    "\n",
    "## 4. Do all Gradient Descent algorithms lead to the same model provided you let them run long enough?\n",
    "\n",
    "Apart from hyperparameters, all GD algorithms should lead to the same model which is finding the global minimun. The main problem is finding a local minimun and not being able to scape from it.\n",
    "This depends on the learning rate mainly. A good learning rate will be able to scape from local minima and approach the global without any problem.\n",
    "\n",
    "PARTLY WRONG.\n",
    "\n",
    "SGD and MB will keep \"jumping\" around global minimun. We can stop this with a precission threshold.\n",
    "\n",
    "## 5. Suppose you use Batch Gradient Descent and you plot the validation error at every epoch. If you notice that the validation error consistently goes up, what is likely going on? How can you fix this?\n",
    "\n",
    "If the validation set RMSE reaches a minimun and then goes up, while the test set RMSE is still going down, means that we are overfitting our model.\n",
    "\n",
    "## 6. Is it a good idea to stop Mini-batch Gradient Descent immediately when the validation error goes up?\n",
    "\n",
    "Not immediately. We can wait a certain amount of epochs just in case it starts going down again. We can set a certain amount of epochs to wait.\n",
    "\n",
    "## 7. Which Gradient Descent algorithm (among those we discussed) will reach the vicinity of the optimal solution the fastest? Which will actually converge? How can you make the others converge as well?\n",
    "\n",
    "The fastest one is Batch, as it takes into account the whole dataset. Batch will also converge, the others wont, but will stay near the global minimun.\n",
    "To make then converge we can set a threshold difference on the error between previous epoch and the actual one. If the error is not changing, then we can finish.\n",
    "\n",
    "WRONG.\n",
    "\n",
    "SGD is the fastest because of its random nature.\n",
    "\n",
    "## 8. Suppose you are using Polynomial Regression. You plot the learning curves and you notice that there is a large gap between the training error and the validation error. What is happening? What are three ways to solve this?\n",
    "\n",
    "This means that the model is overfitting, as it is training better much better on training than on validation. To fix this we can use more samples, maybe scale the data, and use less degrees on the model.\n",
    "\n",
    "## 9. Suppose you are using Ridge Regression and you notice that the training error and the validation error are almost equal and fairly high. Would you say that the model suffers from high bias or high variance? Should you increase the regularization hyperparameter α or reduce it?\n",
    "\n",
    "NO ANSWER.\n",
    "\n",
    "If both errors are high, the model is probably underfitting. We can reduce alpha to smooth the model and reduce the bias.\n",
    "\n",
    "## 10. Why would you want to use:\n",
    "\n",
    "### a. Ridge Regression instead of plain Linear Regression (i.e., without any regularization)?\n",
    "\n",
    "It is always preferable to have a bit a bit of regularization, just in case. Maybe on ideal data.\n",
    "\n",
    "### b. Lasso instead of Ridge Regression?\n",
    "\n",
    "If we are not certain of the weight of some features. Lasso can drop down weights on useless features.\n",
    "\n",
    "### c. Elastic Net instead of Lasso?\n",
    "\n",
    "Elastic Net is prefered because Lasso can fail when some features are strongly correlated.\n",
    "\n",
    "## 11. Suppose you want to classify pictures as outdoor/indoor and daytime/nighttime. Should you implement two Logistic Regression classifiers or one Softmax Regression classifier?\n",
    "\n",
    "We can directly use Softmax as it combines multiple binary classifiers.\n",
    "\n",
    "WRONG.\n",
    "\n",
    "Those two classes are not mutually excluyent. We should have two Logit. Regressors.\n"
   ]
  },
  {
   "cell_type": "markdown",
   "metadata": {},
   "source": [
    "## 12. Implement Batch Gradient Descent with early stopping for Softmax Regression (without using Scikit-Learn)."
   ]
  },
  {
   "cell_type": "code",
   "execution_count": 15,
   "metadata": {},
   "outputs": [],
   "source": [
    "import numpy as np"
   ]
  },
  {
   "cell_type": "code",
   "execution_count": 16,
   "metadata": {},
   "outputs": [],
   "source": [
    "from sklearn.datasets import load_iris\n",
    "iris = load_iris()"
   ]
  },
  {
   "cell_type": "code",
   "execution_count": 17,
   "metadata": {},
   "outputs": [
    {
     "name": "stdout",
     "output_type": "stream",
     "text": [
      "dict_keys(['data', 'target', 'frame', 'target_names', 'DESCR', 'feature_names', 'filename', 'data_module'])\n"
     ]
    }
   ],
   "source": [
    "print(iris.keys())"
   ]
  },
  {
   "cell_type": "code",
   "execution_count": 18,
   "metadata": {},
   "outputs": [
    {
     "name": "stdout",
     "output_type": "stream",
     "text": [
      ".. _iris_dataset:\n",
      "\n",
      "Iris plants dataset\n",
      "--------------------\n",
      "\n",
      "**Data Set Characteristics:**\n",
      "\n",
      "    :Number of Instances: 150 (50 in each of three classes)\n",
      "    :Number of Attributes: 4 numeric, predictive attributes and the class\n",
      "    :Attribute Information:\n",
      "        - sepal length in cm\n",
      "        - sepal width in cm\n",
      "        - petal length in cm\n",
      "        - petal width in cm\n",
      "        - class:\n",
      "                - Iris-Setosa\n",
      "                - Iris-Versicolour\n",
      "                - Iris-Virginica\n",
      "                \n",
      "    :Summary Statistics:\n",
      "\n",
      "    ============== ==== ==== ======= ===== ====================\n",
      "                    Min  Max   Mean    SD   Class Correlation\n",
      "    ============== ==== ==== ======= ===== ====================\n",
      "    sepal length:   4.3  7.9   5.84   0.83    0.7826\n",
      "    sepal width:    2.0  4.4   3.05   0.43   -0.4194\n",
      "    petal length:   1.0  6.9   3.76   1.76    0.9490  (high!)\n",
      "    petal width:    0.1  2.5   1.20   0.76    0.9565  (high!)\n",
      "    ============== ==== ==== ======= ===== ====================\n",
      "\n",
      "    :Missing Attribute Values: None\n",
      "    :Class Distribution: 33.3% for each of 3 classes.\n",
      "    :Creator: R.A. Fisher\n",
      "    :Donor: Michael Marshall (MARSHALL%PLU@io.arc.nasa.gov)\n",
      "    :Date: July, 1988\n",
      "\n",
      "The famous Iris database, first used by Sir R.A. Fisher. The dataset is taken\n",
      "from Fisher's paper. Note that it's the same as in R, but not as in the UCI\n",
      "Machine Learning Repository, which has two wrong data points.\n",
      "\n",
      "This is perhaps the best known database to be found in the\n",
      "pattern recognition literature.  Fisher's paper is a classic in the field and\n",
      "is referenced frequently to this day.  (See Duda & Hart, for example.)  The\n",
      "data set contains 3 classes of 50 instances each, where each class refers to a\n",
      "type of iris plant.  One class is linearly separable from the other 2; the\n",
      "latter are NOT linearly separable from each other.\n",
      "\n",
      ".. topic:: References\n",
      "\n",
      "   - Fisher, R.A. \"The use of multiple measurements in taxonomic problems\"\n",
      "     Annual Eugenics, 7, Part II, 179-188 (1936); also in \"Contributions to\n",
      "     Mathematical Statistics\" (John Wiley, NY, 1950).\n",
      "   - Duda, R.O., & Hart, P.E. (1973) Pattern Classification and Scene Analysis.\n",
      "     (Q327.D83) John Wiley & Sons.  ISBN 0-471-22361-1.  See page 218.\n",
      "   - Dasarathy, B.V. (1980) \"Nosing Around the Neighborhood: A New System\n",
      "     Structure and Classification Rule for Recognition in Partially Exposed\n",
      "     Environments\".  IEEE Transactions on Pattern Analysis and Machine\n",
      "     Intelligence, Vol. PAMI-2, No. 1, 67-71.\n",
      "   - Gates, G.W. (1972) \"The Reduced Nearest Neighbor Rule\".  IEEE Transactions\n",
      "     on Information Theory, May 1972, 431-433.\n",
      "   - See also: 1988 MLC Proceedings, 54-64.  Cheeseman et al\"s AUTOCLASS II\n",
      "     conceptual clustering system finds 3 classes in the data.\n",
      "   - Many, many more ...\n"
     ]
    }
   ],
   "source": [
    "print(iris[\"DESCR\"])"
   ]
  },
  {
   "cell_type": "code",
   "execution_count": 19,
   "metadata": {},
   "outputs": [
    {
     "name": "stdout",
     "output_type": "stream",
     "text": [
      "(150, 4)\n",
      "(150,)\n"
     ]
    }
   ],
   "source": [
    "X = iris[\"data\"]\n",
    "y = iris[\"target\"]\n",
    "\n",
    "print(X.shape)\n",
    "print(y.shape)"
   ]
  },
  {
   "cell_type": "code",
   "execution_count": 24,
   "metadata": {},
   "outputs": [
    {
     "name": "stdout",
     "output_type": "stream",
     "text": [
      "[[5.1 3.5 1.4 0.2]\n",
      " [4.9 3.  1.4 0.2]\n",
      " [4.7 3.2 1.3 0.2]\n",
      " [4.6 3.1 1.5 0.2]\n",
      " [5.  3.6 1.4 0.2]]\n",
      "[0 0 0 0 0]\n"
     ]
    }
   ],
   "source": [
    "print(X[:5, :])\n",
    "print(y[:5])"
   ]
  },
  {
   "cell_type": "markdown",
   "metadata": {},
   "source": [
    "1. Prob function -> softmax\n",
    "2. Loss function -> cross entropy\n",
    "3. Batch gradient descent"
   ]
  },
  {
   "cell_type": "code",
   "execution_count": 147,
   "metadata": {},
   "outputs": [
    {
     "name": "stdout",
     "output_type": "stream",
     "text": [
      "Number of samples: 150\n",
      "Number of features: 4\n",
      "Number of classes: 3\n",
      "Shape of W: (4, 3)\n",
      "Epoch 0 Loss: 3.1279817221590003\n",
      "Epoch 10000 Loss: 0.13374191817120273\n",
      "Epoch 20000 Loss: 0.10488159057324092\n",
      "Epoch 30000 Loss: 0.09391657285439003\n",
      "Epoch 40000 Loss: 0.08811886834199029\n",
      "Epoch 50000 Loss: 0.08454495834190932\n",
      "Epoch 60000 Loss: 0.0821344420579146\n",
      "Epoch 70000 Loss: 0.0804088067548269\n",
      "Epoch 80000 Loss: 0.0791197749635325\n",
      "Epoch 90000 Loss: 0.07812557013069876\n"
     ]
    }
   ],
   "source": [
    "def softmax(Z):\n",
    "    exps = np.exp(Z - np.max(Z, axis=1, keepdims=True))\n",
    "    return exps / np.sum(exps, axis=1, keepdims=True)\n",
    "\n",
    "def predict(W, X):\n",
    "    Z = X.dot(W)\n",
    "    A = softmax(Z)\n",
    "    return np.argmax(A, 1)\n",
    "\n",
    "def one_hot_encode(y, num_classes):\n",
    "    num_samples = len(y)\n",
    "    one_hot = np.zeros((num_samples, num_classes))\n",
    "    one_hot[np.arange(num_samples), y] = 1\n",
    "    return one_hot\n",
    "\n",
    "def calc_learning_rate(starting_learning_rate, epoch, decay_rate):\n",
    "    return 1 / (1 + decay_rate * epoch) * starting_learning_rate\n",
    "\n",
    "def train(X, y, num_epochs=100000, learning_rate = 0.01, early_stop_wait=1000):\n",
    "    epsilon = 1e-15\n",
    "    losses = []\n",
    "    epochs_since_min = 0\n",
    "    min_loss = np.inf\n",
    "\n",
    "    num_samples, num_features = X.shape\n",
    "    print(f\"Number of samples: {num_samples}\")\n",
    "    print(f\"Number of features: {num_features}\")\n",
    "\n",
    "    num_classes = len(np.unique(y))\n",
    "    print(f\"Number of classes: {num_classes}\")\n",
    "\n",
    "    W = np.random.rand(num_features, num_classes)\n",
    "    print(f\"Shape of W: {W.shape}\")\n",
    "\n",
    "    for epoch in range(num_epochs):\n",
    "        Z = X.dot(W)\n",
    "        A = softmax(Z)\n",
    "        y_ohe = one_hot_encode(y, num_classes)\n",
    "\n",
    "        cross_entropy = -np.sum(y_ohe * np.log(A + epsilon))\n",
    "        mean_cross_entropy = cross_entropy / num_samples\n",
    "        losses.append(mean_cross_entropy)\n",
    "        W = W - learning_rate * (1/num_samples) * X.T.dot(A - y_ohe)\n",
    "\n",
    "        if (epoch % (num_epochs//10) == 0):\n",
    "            print(f\"Epoch {epoch} Loss: {mean_cross_entropy}\")\n",
    "\n",
    "        if (mean_cross_entropy < min_loss):\n",
    "            epochs_since_min = 0\n",
    "            min_loss = mean_cross_entropy\n",
    "        else:\n",
    "            epochs_since_min += 1\n",
    "        \n",
    "        if (epochs_since_min >= early_stop_wait):\n",
    "            print(f\"Stopping early at epoch {epoch}\")\n",
    "            break\n",
    "\n",
    "    return W, losses\n",
    "            \n",
    "w, losses = train(X, y)\n"
   ]
  },
  {
   "cell_type": "code",
   "execution_count": 144,
   "metadata": {},
   "outputs": [
    {
     "data": {
      "image/png": "[encoded data removed]",
      "text/plain": [
       "<Figure size 640x480 with 1 Axes>"
      ]
     },
     "metadata": {},
     "output_type": "display_data"
    }
   ],
   "source": [
    "# Plot loss\n",
    "\n",
    "import matplotlib.pyplot as plt\n",
    "\n",
    "def plot_loss(losses_arr):\n",
    "    '''\n",
    "    It only takes an array of loss values. Plot with axis loss and epoch\n",
    "    '''\n",
    "    plt.plot(losses_arr)\n",
    "    # Print the loss value at the last epoch with an arrow pointing to it. Text to the left of the arrow\n",
    "    plt.xlabel('Epoch')\n",
    "    plt.ylabel('Loss')\n",
    "    plt.show()\n",
    "\n",
    "plot_loss(losses)"
   ]
  }
 ],
 "metadata": {
  "kernelspec": {
   "display_name": "handsonml",
   "language": "python",
   "name": "python3"
  },
  "language_info": {
   "codemirror_mode": {
    "name": "ipython",
    "version": 3
   },
   "file_extension": ".py",
   "mimetype": "text/x-python",
   "name": "python",
   "nbconvert_exporter": "python",
   "pygments_lexer": "ipython3",
   "version": "3.10.12"
  },
  "orig_nbformat": 4
 },
 "nbformat": 4,
 "nbformat_minor": 2
}
